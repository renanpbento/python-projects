{
  "nbformat": 4,
  "nbformat_minor": 0,
  "metadata": {
    "colab": {
      "name": "IGTI_Mod1_Practice.ipynb",
      "provenance": [],
      "collapsed_sections": [],
      "authorship_tag": "ABX9TyN9J7EtXwyLCEL3nYdW0jqF",
      "include_colab_link": true
    },
    "kernelspec": {
      "name": "python3",
      "display_name": "Python 3"
    },
    "language_info": {
      "name": "python"
    }
  },
  "cells": [
    {
      "cell_type": "markdown",
      "metadata": {
        "id": "view-in-github",
        "colab_type": "text"
      },
      "source": [
        "<a href=\"https://colab.research.google.com/github/renanpbento/python-training/blob/main/IGTI_Mod1_Practice.ipynb\" target=\"_parent\"><img src=\"https://colab.research.google.com/assets/colab-badge.svg\" alt=\"Open In Colab\"/></a>"
      ]
    },
    {
      "cell_type": "markdown",
      "metadata": {
        "id": "gayP5i0tRSp_"
      },
      "source": [
        "**IGTI Bootcamp - Module I: Practical Work**"
      ]
    },
    {
      "cell_type": "markdown",
      "metadata": {
        "id": "of4pS-GvNvyR"
      },
      "source": [
        "Goals - reinforce the concepts about:\n",
        "\n",
        "- Variables in Python\n",
        "- Primitive data in Python (String, Float, Integer, Boolean)\n",
        "- Multiple elements storage (List, Tuple, Sets, Dictionary)"
      ]
    },
    {
      "cell_type": "code",
      "metadata": {
        "id": "JFS5uPtsNvS1"
      },
      "source": [
        "#Creating variables for the exercise\n",
        "\n",
        "nome = 'Roberto' #string\n",
        "\n",
        "idade = 35 #integer\n",
        "\n",
        "altura = 1.88 #float\n",
        "\n",
        "cidades_visitadas = ['Paris', 'Barcelona', 'Chicago','Berlim'] #list\n",
        "\n",
        "paises_visitados = ('França', 'Espanha', 'Estados Unidos', 'Alemanha') #tuple\n",
        "\n",
        "notas_cidades = {'Paris': 5,\n",
        "                 'Barcelona': 4,\n",
        "                 'Chicago': 5,\n",
        "                 'Berlim': 3} #dictionary\n",
        "\n",
        "dinheiro_gasto = {1000} #set\n",
        "\n",
        "dinheiro_guardado = 'R$ 500,00' #string\n",
        "\n",
        "proximas_viagens = ['Moscou', 'Londres', 'Lisboa'] #list"
      ],
      "execution_count": 6,
      "outputs": []
    },
    {
      "cell_type": "markdown",
      "metadata": {
        "id": "WQc95ow8RdKV"
      },
      "source": [
        "**Q1: Sobre o python, é CORRETO afirmar:**\n",
        "\n",
        "(d) É multiplataformas (funciona em Windows, Linux, Mac, etc.)."
      ]
    },
    {
      "cell_type": "markdown",
      "metadata": {
        "id": "UU0BHxrvRjSi"
      },
      "source": [
        "**Q2: Sobre a criação de variáveis, é CORRETO afirmar:**\n",
        "\n",
        "(a) Não se pode utilizar as palavras reservadas nos nomes."
      ]
    },
    {
      "cell_type": "markdown",
      "metadata": {
        "id": "3OSe571pRjK1"
      },
      "source": [
        "**Q3: O que a função print faz?**\n",
        "\n",
        "(d) Imprime um determinado resultado ou valor.\n"
      ]
    },
    {
      "cell_type": "markdown",
      "metadata": {
        "id": "rQQC2OxLRjAd"
      },
      "source": [
        "**Q4: Qual o tipo da variável nome?**\n",
        "\n",
        "(b) string"
      ]
    },
    {
      "cell_type": "markdown",
      "metadata": {
        "id": "EqqvfGdzRi0Z"
      },
      "source": [
        "**Q5: Qual o tipo da variável idade?**\n",
        "\n",
        "(a) integer\n"
      ]
    },
    {
      "cell_type": "markdown",
      "metadata": {
        "id": "09bRwI3SVA70"
      },
      "source": [
        "**Q6: Qual o tipo da variável altura?**\n",
        "\n",
        "(b) float"
      ]
    },
    {
      "cell_type": "markdown",
      "metadata": {
        "id": "gdSP1_DHVA27"
      },
      "source": [
        "**Q7: A variável cidades_visitadas é um(a)?**\n",
        "\n",
        "(b) list"
      ]
    },
    {
      "cell_type": "markdown",
      "metadata": {
        "id": "ozBg0OKwVAzS"
      },
      "source": [
        "**Q8: A variável paises_visitados é um(a)?**\n",
        "\n",
        "(d) tuple"
      ]
    },
    {
      "cell_type": "markdown",
      "metadata": {
        "id": "pdjvaNL2VAwH"
      },
      "source": [
        "**Q9: A variável notas_cidades é um(a)?**\n",
        "\n",
        "(a) dictionary"
      ]
    },
    {
      "cell_type": "markdown",
      "metadata": {
        "id": "9z1qEZTwVAtJ"
      },
      "source": [
        "**Q10: Sobre a variável cidades_visitadas, é CORRETO afirmar:**\n",
        "\n",
        "(c) Os dados armazenados são mutáveis."
      ]
    },
    {
      "cell_type": "markdown",
      "metadata": {
        "id": "OmnQfbKYVOlG"
      },
      "source": [
        "**Q11: Sobre a variável paises_visitados, é CORRETO afirmar:**\n",
        "\n",
        "(d) Os dados armazenados não são mutáveis."
      ]
    },
    {
      "cell_type": "markdown",
      "metadata": {
        "id": "w1-iHaF_VOY2"
      },
      "source": [
        "**Q12: A variável dinheiro_gasto é um(a):**\n",
        "\n",
        "(a) Set"
      ]
    },
    {
      "cell_type": "markdown",
      "metadata": {
        "id": "kotuXE6_VONd"
      },
      "source": [
        "**Q13: Em python, o sinal de igual duas vezes seguidas (==) é usado quando:**\n",
        "\n",
        "(a) Queremos fazer uma relação lógica de igualdade de valores (valor boolean)."
      ]
    },
    {
      "cell_type": "markdown",
      "metadata": {
        "id": "ZBo4rLfNVXaF"
      },
      "source": [
        "**Q14: Sobre a variável dinheiro_guardado, é CORRETO afirmar:**\n",
        "\n",
        "(c) Pode-se utilizar aspas simples ou duplas."
      ]
    },
    {
      "cell_type": "markdown",
      "metadata": {
        "id": "IbJk3yetRiZq"
      },
      "source": [
        "**Q15: Existe um erro na variável próximas_viagens? Se sim, qual o erro?**\n",
        "\n",
        "(c) Sim. Falta uma aspa após a palavra Lisboa."
      ]
    },
    {
      "cell_type": "code",
      "metadata": {
        "colab": {
          "base_uri": "https://localhost:8080/"
        },
        "id": "Btc2Vn4oViVB",
        "outputId": "089bf64e-0e44-4d19-cb8f-8fe01ddd3871"
      },
      "source": [
        "#An alternative approach using dictionary:\n",
        "\n",
        "mod_1_answers = {1:'d',\n",
        "                2:'a',\n",
        "                3:'d',\n",
        "                4:'b',\n",
        "                5:'a',\n",
        "                6:'b',\n",
        "                7:'b',\n",
        "                8:'d',\n",
        "                9:'a',\n",
        "                10:'c',\n",
        "                11:'d',\n",
        "                12:'a',\n",
        "                13:'a',\n",
        "                14:'c',\n",
        "                15:'c'}\n",
        "\n",
        "print(mod_1_answers)"
      ],
      "execution_count": 7,
      "outputs": [
        {
          "output_type": "stream",
          "text": [
            "{1: 'd', 2: 'a', 3: 'd', 4: 'b', 5: 'a', 6: 'b', 7: 'b', 8: 'd', 9: 'a', 10: 'c', 11: 'd', 12: 'a', 13: 'a', 14: 'c', 15: 'c'}\n"
          ],
          "name": "stdout"
        }
      ]
    },
    {
      "cell_type": "markdown",
      "metadata": {
        "id": "plc0IY9GPZte"
      },
      "source": [
        "Author: Renan Pereira Bento"
      ]
    }
  ]
}
