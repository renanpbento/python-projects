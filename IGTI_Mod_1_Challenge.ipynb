{
  "nbformat": 4,
  "nbformat_minor": 0,
  "metadata": {
    "colab": {
      "name": "IGTI_Mod_1_Challenge.ipynb",
      "provenance": [],
      "authorship_tag": "ABX9TyOeq5fxeMvAc98oUIKJf8xJ",
      "include_colab_link": true
    },
    "kernelspec": {
      "name": "python3",
      "display_name": "Python 3"
    },
    "language_info": {
      "name": "python"
    }
  },
  "cells": [
    {
      "cell_type": "markdown",
      "metadata": {
        "id": "view-in-github",
        "colab_type": "text"
      },
      "source": [
        "<a href=\"https://colab.research.google.com/github/renanpbento/python-training/blob/main/IGTI_Mod_1_Challenge.ipynb\" target=\"_parent\"><img src=\"https://colab.research.google.com/assets/colab-badge.svg\" alt=\"Open In Colab\"/></a>"
      ]
    },
    {
      "cell_type": "markdown",
      "metadata": {
        "id": "XuyD2y715JGM"
      },
      "source": [
        "**IGTI Bootcamp - Module I: Challenge**"
      ]
    },
    {
      "cell_type": "markdown",
      "metadata": {
        "id": "jhhPhQfU5TQj"
      },
      "source": [
        "Goals - practice the concepts presented in the module:\n",
        "- Loops\n",
        "- Range\n",
        "- Functions\n",
        "- Installing and importing modules/libraries"
      ]
    },
    {
      "cell_type": "markdown",
      "metadata": {
        "id": "FIoWd2Sk5r8S"
      },
      "source": [
        "Creating functions for the exercise"
      ]
    },
    {
      "cell_type": "code",
      "metadata": {
        "id": "FnBmz3sq5wv3"
      },
      "source": [
        "# Function 1 (def)\n",
        "\n",
        "def saudacao(nome):\n",
        "  print('Olá', nome, 'tudo bem?')"
      ],
      "execution_count": null,
      "outputs": []
    },
    {
      "cell_type": "code",
      "metadata": {
        "colab": {
          "base_uri": "https://localhost:8080/"
        },
        "id": "MIzkfPEV5_PB",
        "outputId": "784138ac-f220-4200-ec00-0b91a0fe9556"
      },
      "source": [
        "# Testing Function 1\n",
        "\n",
        "saudacao('Roberto')"
      ],
      "execution_count": null,
      "outputs": [
        {
          "output_type": "stream",
          "text": [
            "Olá Roberto ,  tudo bem?\n"
          ],
          "name": "stdout"
        }
      ]
    },
    {
      "cell_type": "code",
      "metadata": {
        "id": "F8wjQwcD6Ipx"
      },
      "source": [
        "# Function 2 (def)\n",
        "\n",
        "def imc(peso, altura):\n",
        "  print(peso/(altura**2))"
      ],
      "execution_count": null,
      "outputs": []
    },
    {
      "cell_type": "code",
      "metadata": {
        "colab": {
          "base_uri": "https://localhost:8080/"
        },
        "id": "aqC_7p226jgv",
        "outputId": "f9572c54-5e9b-4d2f-878d-0db4bbb455e2"
      },
      "source": [
        "# Testing Function 2\n",
        "\n",
        "imc(80, 1.65)"
      ],
      "execution_count": null,
      "outputs": [
        {
          "output_type": "stream",
          "text": [
            "29.384756657483933\n"
          ],
          "name": "stdout"
        }
      ]
    },
    {
      "cell_type": "code",
      "metadata": {
        "id": "rIhhj3To6pFU"
      },
      "source": [
        "# Function 3 (lambda)\n",
        "\n",
        "soma = lambda x, y: x + y"
      ],
      "execution_count": null,
      "outputs": []
    },
    {
      "cell_type": "code",
      "metadata": {
        "colab": {
          "base_uri": "https://localhost:8080/"
        },
        "id": "s5L3Xbvh7ZaC",
        "outputId": "1de6a666-9908-494b-d6de-50f82eba5df8"
      },
      "source": [
        "# Testing Function 3\n",
        "\n",
        "soma(3,4)"
      ],
      "execution_count": null,
      "outputs": [
        {
          "output_type": "execute_result",
          "data": {
            "text/plain": [
              "7"
            ]
          },
          "metadata": {
            "tags": []
          },
          "execution_count": 13
        }
      ]
    },
    {
      "cell_type": "code",
      "metadata": {
        "id": "sS2Kd3FQ7gyD"
      },
      "source": [
        "# Function 4 (def)\n",
        "\n",
        "def soma(x, y):\n",
        "  print(x + y)"
      ],
      "execution_count": null,
      "outputs": []
    },
    {
      "cell_type": "code",
      "metadata": {
        "colab": {
          "base_uri": "https://localhost:8080/"
        },
        "id": "wvSsWD4X7pwv",
        "outputId": "f304c96b-b582-482a-8c12-41130742ca6e"
      },
      "source": [
        "# Testing Function 4\n",
        "\n",
        "soma(2,2)"
      ],
      "execution_count": null,
      "outputs": [
        {
          "output_type": "stream",
          "text": [
            "4\n"
          ],
          "name": "stdout"
        }
      ]
    },
    {
      "cell_type": "code",
      "metadata": {
        "colab": {
          "base_uri": "https://localhost:8080/"
        },
        "id": "0nSmCNtD7sS9",
        "outputId": "77dabc91-6f0e-485e-9f14-e63e624dc423"
      },
      "source": [
        "# Loop 1 (while)\n",
        "\n",
        "num = 0\n",
        "while num < 20:\n",
        "  print(num)\n",
        "  num +=1"
      ],
      "execution_count": null,
      "outputs": [
        {
          "output_type": "stream",
          "text": [
            "0\n",
            "1\n",
            "2\n",
            "3\n",
            "4\n",
            "5\n",
            "6\n",
            "7\n",
            "8\n",
            "9\n",
            "10\n",
            "11\n",
            "12\n",
            "13\n",
            "14\n",
            "15\n",
            "16\n",
            "17\n",
            "18\n",
            "19\n"
          ],
          "name": "stdout"
        }
      ]
    },
    {
      "cell_type": "code",
      "metadata": {
        "colab": {
          "base_uri": "https://localhost:8080/"
        },
        "id": "gSZvnE2k8iVj",
        "outputId": "2c1cc3f6-2544-49bf-d513-ee4426032642"
      },
      "source": [
        "# Loop 2 (for)\n",
        "\n",
        "for i in range(0, 10, 2):\n",
        "  print(i)"
      ],
      "execution_count": null,
      "outputs": [
        {
          "output_type": "stream",
          "text": [
            "0\n",
            "2\n",
            "4\n",
            "6\n",
            "8\n"
          ],
          "name": "stdout"
        }
      ]
    },
    {
      "cell_type": "code",
      "metadata": {
        "colab": {
          "base_uri": "https://localhost:8080/"
        },
        "id": "ru_4GAEc881O",
        "outputId": "c3b74f0c-9430-4628-c056-b49727e6ffd5"
      },
      "source": [
        "# Loop 3 (for, if)\n",
        "\n",
        "numeros = [1, 2, 3, 4, 5, 6, 7, 8, 9, 10]\n",
        "\n",
        "for x in numeros:\n",
        "  print(x)\n",
        "  if x == 3:\n",
        "    break"
      ],
      "execution_count": null,
      "outputs": [
        {
          "output_type": "stream",
          "text": [
            "1\n",
            "2\n",
            "3\n"
          ],
          "name": "stdout"
        }
      ]
    },
    {
      "cell_type": "code",
      "metadata": {
        "colab": {
          "base_uri": "https://localhost:8080/"
        },
        "id": "Qk2eeqnv9O2v",
        "outputId": "007e42bc-16a9-479d-bc6f-c401d76aff2c"
      },
      "source": [
        "# Loop 4 (while, if)\n",
        "\n",
        "num = 0\n",
        "\n",
        "while num < 10:\n",
        "  num += 1\n",
        "  if num == 6:\n",
        "    continue\n",
        "  print(num)"
      ],
      "execution_count": null,
      "outputs": [
        {
          "output_type": "stream",
          "text": [
            "1\n",
            "2\n",
            "3\n",
            "4\n",
            "5\n",
            "7\n",
            "8\n",
            "9\n",
            "10\n"
          ],
          "name": "stdout"
        }
      ]
    },
    {
      "cell_type": "markdown",
      "metadata": {
        "id": "Mp2c44SF9sUj"
      },
      "source": [
        "\n",
        "\n",
        "---"
      ]
    },
    {
      "cell_type": "markdown",
      "metadata": {
        "id": "P4JUVMqg-D8M"
      },
      "source": [
        "**Answers to the challenge's questions**"
      ]
    },
    {
      "cell_type": "markdown",
      "metadata": {
        "id": "yqm-c40C-po3"
      },
      "source": [
        "**Q1: O que a função 1 faz?** "
      ]
    },
    {
      "cell_type": "markdown",
      "metadata": {
        "id": "3rGjfWQW-7om"
      },
      "source": [
        "(d) Imprime uma mensagem de saudação, variando de acordo com o nome inserido no argumento da função.\n"
      ]
    },
    {
      "cell_type": "markdown",
      "metadata": {
        "id": "HQESEWXM_Js3"
      },
      "source": [
        "**Q2: O que a função 2 faz?**\n",
        "\n"
      ]
    },
    {
      "cell_type": "markdown",
      "metadata": {
        "id": "W3ssrGuI_OTn"
      },
      "source": [
        "(a) Calcula o IMC dividindo o peso pela altura e elevando a 2."
      ]
    },
    {
      "cell_type": "markdown",
      "metadata": {
        "id": "VeRG6xvmAGbj"
      },
      "source": [
        "**Q3: O que a função 3 faz?**\n"
      ]
    },
    {
      "cell_type": "markdown",
      "metadata": {
        "id": "CGPxR2brAGNR"
      },
      "source": [
        "(a) Soma entre dois valores."
      ]
    },
    {
      "cell_type": "markdown",
      "metadata": {
        "id": "Row0_IpeAGF9"
      },
      "source": [
        "**Q4: Após executar a função 1, caso eu escreva saudacao(‘Roberto’), qual será o resultado?**"
      ]
    },
    {
      "cell_type": "markdown",
      "metadata": {
        "id": "edPYUwo5AGDO"
      },
      "source": [
        "(c) Olá Roberto tudo bem?"
      ]
    },
    {
      "cell_type": "markdown",
      "metadata": {
        "id": "AVcK3GhBAF_-"
      },
      "source": [
        "**Q5: Após executar a função 2, caso eu escreva imc(80, 1.65), qual será o resultado?**"
      ]
    },
    {
      "cell_type": "markdown",
      "metadata": {
        "id": "yFVxo4JZAF8x"
      },
      "source": [
        "(a) 29.384756657483933"
      ]
    },
    {
      "cell_type": "markdown",
      "metadata": {
        "id": "KcI-bLPMA7Az"
      },
      "source": [
        "**Q6: Na função 3, o que representa as letras x, y?**"
      ]
    },
    {
      "cell_type": "markdown",
      "metadata": {
        "id": "3G-t5r0LA65C"
      },
      "source": [
        "(d) São os argumentos da função."
      ]
    },
    {
      "cell_type": "markdown",
      "metadata": {
        "id": "WMftq4CeA6rY"
      },
      "source": [
        "**Q7: Há um erro na função 4? Se sim, qual?**"
      ]
    },
    {
      "cell_type": "markdown",
      "metadata": {
        "id": "NpXtvpRIA6ok"
      },
      "source": [
        "(a) Sim. Falta um sinal de dois pontos na primeira linha."
      ]
    },
    {
      "cell_type": "markdown",
      "metadata": {
        "id": "mHV0BTMoA6lg"
      },
      "source": [
        "**Q8: No laço de repetição 1, qual será o último número a aparecer?**"
      ]
    },
    {
      "cell_type": "markdown",
      "metadata": {
        "id": "awD53sExBxfz"
      },
      "source": [
        "(c) 19"
      ]
    },
    {
      "cell_type": "markdown",
      "metadata": {
        "id": "9axg6E6ABxUq"
      },
      "source": [
        "**Q9: No laço de repetição 1, caso eu apague o comando num += 1, o que acontecerá?**"
      ]
    },
    {
      "cell_type": "markdown",
      "metadata": {
        "id": "52iBq8g6BxRK"
      },
      "source": [
        "(c) Um loop infinito"
      ]
    },
    {
      "cell_type": "markdown",
      "metadata": {
        "id": "QiunqzgxBxOQ"
      },
      "source": [
        "**Q10: Qual é o último número que vai aparecer no laço de repetição 2?**"
      ]
    },
    {
      "cell_type": "markdown",
      "metadata": {
        "id": "TSE5HCO5A6iD"
      },
      "source": [
        "(d) 8"
      ]
    },
    {
      "cell_type": "markdown",
      "metadata": {
        "id": "-F5GAIuaCoEP"
      },
      "source": [
        "**Q11:  O que faz o break no laço de repetição 3?**"
      ]
    },
    {
      "cell_type": "markdown",
      "metadata": {
        "id": "59HxspPMCoAy"
      },
      "source": [
        "(a) Para de executar o loop quando o x chegar no número 3."
      ]
    },
    {
      "cell_type": "markdown",
      "metadata": {
        "id": "W-ktSpwACn94"
      },
      "source": [
        "**Q12:  O que faz o continue no laço de repetição 4?**"
      ]
    },
    {
      "cell_type": "markdown",
      "metadata": {
        "id": "0BUUjVeDAF5L"
      },
      "source": [
        "(a) Continua a execução do loop omitindo (pulando) o número 6."
      ]
    },
    {
      "cell_type": "markdown",
      "metadata": {
        "id": "IvO_ZTrxC-ul"
      },
      "source": [
        "**Q13: O que são módulos em python?**"
      ]
    },
    {
      "cell_type": "markdown",
      "metadata": {
        "id": "tNw7dS2PC-lm"
      },
      "source": [
        "(d) São um conjunto de funções e códigos que podem ser importados, instalados ou criados pelo desenvolvedor."
      ]
    },
    {
      "cell_type": "markdown",
      "metadata": {
        "id": "cR_AC3zlAF1U"
      },
      "source": [
        "**Q14: Qual o nome do gerenciador de pacotes em python? Usado para instalar e desinstalar pacotes em python.**"
      ]
    },
    {
      "cell_type": "markdown",
      "metadata": {
        "id": "PmwBadbEDVNp"
      },
      "source": [
        "(a) pip"
      ]
    },
    {
      "cell_type": "markdown",
      "metadata": {
        "id": "C7HYTOInAFvi"
      },
      "source": [
        "**Q15:  Qual o comando que devemos utilizar para importar um pacote?**"
      ]
    },
    {
      "cell_type": "markdown",
      "metadata": {
        "id": "SMAVt-wrAFsc"
      },
      "source": [
        "(a) import"
      ]
    },
    {
      "cell_type": "code",
      "metadata": {
        "colab": {
          "base_uri": "https://localhost:8080/"
        },
        "id": "pgDcbZJS-AXS",
        "outputId": "af2b0ef5-6a7c-409a-f36f-cb132f253711"
      },
      "source": [
        "# An alternative approach using dictionary:\n",
        "\n",
        "mod_1_challenge = {1:'d',\n",
        "                   2:'a',\n",
        "                   3:'a',\n",
        "                   4:'c',\n",
        "                   5:'a',\n",
        "                   6:'d',\n",
        "                   7:'a',\n",
        "                   8:'c',\n",
        "                   9:'c',\n",
        "                   10:'d',\n",
        "                   11:'a',\n",
        "                   12:'a',\n",
        "                   13:'d',\n",
        "                   14:'a',\n",
        "                   15:'a'}\n",
        "\n",
        "print(mod_1_challenge)"
      ],
      "execution_count": null,
      "outputs": [
        {
          "output_type": "stream",
          "text": [
            "{1: 'd', 2: 'a', 3: 'a', 4: 'c', 5: 'a', 6: 'd', 7: 'a', 8: 'c', 9: 'c', 10: 'd', 11: 'a', 12: 'a', 13: 'd', 14: 'a', 15: 'a'}\n"
          ],
          "name": "stdout"
        }
      ]
    },
    {
      "cell_type": "markdown",
      "metadata": {
        "id": "Tgu3MtIA9lfI"
      },
      "source": [
        "Author: Renan Pereira Bento"
      ]
    }
  ]
}