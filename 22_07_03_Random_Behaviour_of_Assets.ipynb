{
 "cells": [
  {
   "cell_type": "code",
   "execution_count": 39,
   "id": "24799bba",
   "metadata": {},
   "outputs": [
    {
     "data": {
      "text/html": [
       "<script>$(\"div.input\").hide()</script>"
      ],
      "text/plain": [
       "<IPython.core.display.HTML object>"
      ]
     },
     "metadata": {},
     "output_type": "display_data"
    },
    {
     "data": {
      "application/vnd.jupyter.widget-view+json": {
       "model_id": "636b145a20624a4baf3e4084b3483fc8",
       "version_major": 2,
       "version_minor": 0
      },
      "text/plain": [
       "ToggleButton(value=False, description='Show code')"
      ]
     },
     "metadata": {},
     "output_type": "display_data"
    },
    {
     "data": {
      "text/html": [
       "<script>$(\"div.input\").show()</script>"
      ],
      "text/plain": [
       "<IPython.core.display.HTML object>"
      ]
     },
     "metadata": {},
     "output_type": "display_data"
    }
   ],
   "source": [
    "import ipywidgets as widgets\n",
    "from IPython.display import display, HTML\n",
    "\n",
    "javascript_functions = {False: \"hide()\", True: \"show()\"}\n",
    "button_descriptions  = {False: \"Show code\", True: \"Hide code\"}\n",
    "\n",
    "\n",
    "def toggle_code(state):\n",
    "\n",
    "    \"\"\"\n",
    "    Toggles the JavaScript show()/hide() function on the div.input element.\n",
    "    \"\"\"\n",
    "\n",
    "    output_string = \"<script>$(\\\"div.input\\\").{}</script>\"\n",
    "    output_args   = (javascript_functions[state],)\n",
    "    output        = output_string.format(*output_args)\n",
    "\n",
    "    display(HTML(output))\n",
    "\n",
    "\n",
    "def button_action(value):\n",
    "\n",
    "    \"\"\"\n",
    "    Calls the toggle_code function and updates the button description.\n",
    "    \"\"\"\n",
    "\n",
    "    state = value.new\n",
    "\n",
    "    toggle_code(state)\n",
    "\n",
    "    value.owner.description = button_descriptions[state]\n",
    "\n",
    "\n",
    "state = False\n",
    "toggle_code(state)\n",
    "\n",
    "button = widgets.ToggleButton(state, description = button_descriptions[state])\n",
    "button.observe(button_action, \"value\")\n",
    "\n",
    "display(button)\n",
    "\n"
   ]
  },
  {
   "cell_type": "markdown",
   "id": "a6f1bf5d",
   "metadata": {},
   "source": [
    "### Paul Wilmott Introduces Quantitative Finance - The Random Behaviour of Assets"
   ]
  },
  {
   "cell_type": "markdown",
   "id": "2e477cf7",
   "metadata": {},
   "source": [
    "This code applies notions and key concepts presented in the chapter \"The Random Behaviour of Assets\" from the book \"Paul Wilmott Introduces Quantitative Finance\".\n",
    "\n",
    "This first notebook consolidates very basic Quantitative Finance ideas using descriptive statistics over Nasdaq's time series since 1970."
   ]
  },
  {
   "cell_type": "code",
   "execution_count": 46,
   "id": "838fd112",
   "metadata": {},
   "outputs": [],
   "source": [
    "import numpy as np\n",
    "import pandas as pd\n",
    "from datetime import date\n",
    "import statistics as stats\n",
    "import scipy.stats\n",
    "from scipy.stats import norm\n",
    "from scipy.stats import ttest_ind\n",
    "from statsmodels.stats.stattools import durbin_watson\n",
    "from statsmodels.graphics.tsaplots import plot_acf\n",
    "\n",
    "import datetime\n",
    "from datetime import date, timedelta\n",
    "import seaborn as sns\n",
    "\n",
    "import matplotlib.pyplot as plt\n",
    "%matplotlib inline\n",
    "plt.rcParams[\"figure.figsize\"] = [16, 8]\n",
    "\n",
    "import warnings\n",
    "warnings.filterwarnings('ignore')"
   ]
  },
  {
   "cell_type": "markdown",
   "id": "7cdc0f10",
   "metadata": {},
   "source": [
    "#### I) Importing the dataset"
   ]
  },
  {
   "cell_type": "code",
   "execution_count": 48,
   "id": "90cb2aea",
   "metadata": {},
   "outputs": [
    {
     "data": {
      "text/html": [
       "<div>\n",
       "<style scoped>\n",
       "    .dataframe tbody tr th:only-of-type {\n",
       "        vertical-align: middle;\n",
       "    }\n",
       "\n",
       "    .dataframe tbody tr th {\n",
       "        vertical-align: top;\n",
       "    }\n",
       "\n",
       "    .dataframe thead th {\n",
       "        text-align: right;\n",
       "    }\n",
       "</style>\n",
       "<table border=\"1\" class=\"dataframe\">\n",
       "  <thead>\n",
       "    <tr style=\"text-align: right;\">\n",
       "      <th></th>\n",
       "      <th>Open</th>\n",
       "      <th>High</th>\n",
       "      <th>Low</th>\n",
       "      <th>Close</th>\n",
       "      <th>Adj Close</th>\n",
       "      <th>Volume</th>\n",
       "    </tr>\n",
       "    <tr>\n",
       "      <th>Date</th>\n",
       "      <th></th>\n",
       "      <th></th>\n",
       "      <th></th>\n",
       "      <th></th>\n",
       "      <th></th>\n",
       "      <th></th>\n",
       "    </tr>\n",
       "  </thead>\n",
       "  <tbody>\n",
       "    <tr>\n",
       "      <th>1971-02-05</th>\n",
       "      <td>100.000000</td>\n",
       "      <td>100.000000</td>\n",
       "      <td>100.000000</td>\n",
       "      <td>100.000000</td>\n",
       "      <td>100.000000</td>\n",
       "      <td>0</td>\n",
       "    </tr>\n",
       "    <tr>\n",
       "      <th>1971-02-08</th>\n",
       "      <td>100.839996</td>\n",
       "      <td>100.839996</td>\n",
       "      <td>100.839996</td>\n",
       "      <td>100.839996</td>\n",
       "      <td>100.839996</td>\n",
       "      <td>0</td>\n",
       "    </tr>\n",
       "    <tr>\n",
       "      <th>1971-02-09</th>\n",
       "      <td>100.760002</td>\n",
       "      <td>100.760002</td>\n",
       "      <td>100.760002</td>\n",
       "      <td>100.760002</td>\n",
       "      <td>100.760002</td>\n",
       "      <td>0</td>\n",
       "    </tr>\n",
       "    <tr>\n",
       "      <th>1971-02-10</th>\n",
       "      <td>100.690002</td>\n",
       "      <td>100.690002</td>\n",
       "      <td>100.690002</td>\n",
       "      <td>100.690002</td>\n",
       "      <td>100.690002</td>\n",
       "      <td>0</td>\n",
       "    </tr>\n",
       "    <tr>\n",
       "      <th>1971-02-11</th>\n",
       "      <td>101.449997</td>\n",
       "      <td>101.449997</td>\n",
       "      <td>101.449997</td>\n",
       "      <td>101.449997</td>\n",
       "      <td>101.449997</td>\n",
       "      <td>0</td>\n",
       "    </tr>\n",
       "    <tr>\n",
       "      <th>...</th>\n",
       "      <td>...</td>\n",
       "      <td>...</td>\n",
       "      <td>...</td>\n",
       "      <td>...</td>\n",
       "      <td>...</td>\n",
       "      <td>...</td>\n",
       "    </tr>\n",
       "    <tr>\n",
       "      <th>2022-01-12</th>\n",
       "      <td>15263.099610</td>\n",
       "      <td>15319.030270</td>\n",
       "      <td>15117.290040</td>\n",
       "      <td>15188.389650</td>\n",
       "      <td>15188.389650</td>\n",
       "      <td>4321180000</td>\n",
       "    </tr>\n",
       "    <tr>\n",
       "      <th>2022-01-13</th>\n",
       "      <td>15245.040040</td>\n",
       "      <td>15259.709960</td>\n",
       "      <td>14782.240230</td>\n",
       "      <td>14806.809570</td>\n",
       "      <td>14806.809570</td>\n",
       "      <td>4283070000</td>\n",
       "    </tr>\n",
       "    <tr>\n",
       "      <th>2022-01-14</th>\n",
       "      <td>14708.019530</td>\n",
       "      <td>14897.679690</td>\n",
       "      <td>14689.429690</td>\n",
       "      <td>14893.750000</td>\n",
       "      <td>14893.750000</td>\n",
       "      <td>4345780000</td>\n",
       "    </tr>\n",
       "    <tr>\n",
       "      <th>2022-01-18</th>\n",
       "      <td>14681.830080</td>\n",
       "      <td>14740.540040</td>\n",
       "      <td>14482.940430</td>\n",
       "      <td>14506.900390</td>\n",
       "      <td>14506.900390</td>\n",
       "      <td>5027990000</td>\n",
       "    </tr>\n",
       "    <tr>\n",
       "      <th>2022-01-19</th>\n",
       "      <td>14582.219730</td>\n",
       "      <td>14658.889650</td>\n",
       "      <td>14331.650390</td>\n",
       "      <td>14340.259770</td>\n",
       "      <td>14340.259770</td>\n",
       "      <td>4639990000</td>\n",
       "    </tr>\n",
       "  </tbody>\n",
       "</table>\n",
       "<p>12852 rows × 6 columns</p>\n",
       "</div>"
      ],
      "text/plain": [
       "                    Open          High           Low         Close  \\\n",
       "Date                                                                 \n",
       "1971-02-05    100.000000    100.000000    100.000000    100.000000   \n",
       "1971-02-08    100.839996    100.839996    100.839996    100.839996   \n",
       "1971-02-09    100.760002    100.760002    100.760002    100.760002   \n",
       "1971-02-10    100.690002    100.690002    100.690002    100.690002   \n",
       "1971-02-11    101.449997    101.449997    101.449997    101.449997   \n",
       "...                  ...           ...           ...           ...   \n",
       "2022-01-12  15263.099610  15319.030270  15117.290040  15188.389650   \n",
       "2022-01-13  15245.040040  15259.709960  14782.240230  14806.809570   \n",
       "2022-01-14  14708.019530  14897.679690  14689.429690  14893.750000   \n",
       "2022-01-18  14681.830080  14740.540040  14482.940430  14506.900390   \n",
       "2022-01-19  14582.219730  14658.889650  14331.650390  14340.259770   \n",
       "\n",
       "               Adj Close      Volume  \n",
       "Date                                  \n",
       "1971-02-05    100.000000           0  \n",
       "1971-02-08    100.839996           0  \n",
       "1971-02-09    100.760002           0  \n",
       "1971-02-10    100.690002           0  \n",
       "1971-02-11    101.449997           0  \n",
       "...                  ...         ...  \n",
       "2022-01-12  15188.389650  4321180000  \n",
       "2022-01-13  14806.809570  4283070000  \n",
       "2022-01-14  14893.750000  4345780000  \n",
       "2022-01-18  14506.900390  5027990000  \n",
       "2022-01-19  14340.259770  4639990000  \n",
       "\n",
       "[12852 rows x 6 columns]"
      ]
     },
     "execution_count": 48,
     "metadata": {},
     "output_type": "execute_result"
    }
   ],
   "source": [
    "data = pd.read_csv(r'C:\\Users\\renan\\Downloads\\CQF\\Databases\\Nasdaq.csv')\n",
    "\n",
    "data['Date'] = pd.to_datetime(data['Date'], format = '%d/%m/%Y')\n",
    "data.set_index('Date', inplace = True)\n",
    "\n",
    "data"
   ]
  },
  {
   "cell_type": "markdown",
   "id": "0e68ff2f",
   "metadata": {},
   "source": [
    "---"
   ]
  },
  {
   "cell_type": "markdown",
   "id": "0f04f909",
   "metadata": {},
   "source": [
    "#### II) Calculating and Visualizing Nasdaq's Return Rate"
   ]
  },
  {
   "cell_type": "markdown",
   "id": "51f14f44",
   "metadata": {},
   "source": [
    "Return refers to the relative growth in the value of an asset, which encompasses appreciation plus accumulated cashflows (dividends)."
   ]
  },
  {
   "cell_type": "markdown",
   "id": "25ec625e",
   "metadata": {},
   "source": [
    "##### <center> Rt = (St - St-1)/St-1"
   ]
  },
  {
   "cell_type": "markdown",
   "id": "1ca1ae73",
   "metadata": {},
   "source": [
    "Where St is the current share price and St-1 is the previous asset's price."
   ]
  },
  {
   "cell_type": "code",
   "execution_count": 49,
   "id": "49adfe4b",
   "metadata": {},
   "outputs": [
    {
     "data": {
      "text/html": [
       "<div>\n",
       "<style scoped>\n",
       "    .dataframe tbody tr th:only-of-type {\n",
       "        vertical-align: middle;\n",
       "    }\n",
       "\n",
       "    .dataframe tbody tr th {\n",
       "        vertical-align: top;\n",
       "    }\n",
       "\n",
       "    .dataframe thead th {\n",
       "        text-align: right;\n",
       "    }\n",
       "</style>\n",
       "<table border=\"1\" class=\"dataframe\">\n",
       "  <thead>\n",
       "    <tr style=\"text-align: right;\">\n",
       "      <th></th>\n",
       "      <th>Open</th>\n",
       "      <th>High</th>\n",
       "      <th>Low</th>\n",
       "      <th>Close</th>\n",
       "      <th>Adj Close</th>\n",
       "      <th>Volume</th>\n",
       "      <th>Return</th>\n",
       "    </tr>\n",
       "    <tr>\n",
       "      <th>Date</th>\n",
       "      <th></th>\n",
       "      <th></th>\n",
       "      <th></th>\n",
       "      <th></th>\n",
       "      <th></th>\n",
       "      <th></th>\n",
       "      <th></th>\n",
       "    </tr>\n",
       "  </thead>\n",
       "  <tbody>\n",
       "    <tr>\n",
       "      <th>1971-02-05</th>\n",
       "      <td>100.000000</td>\n",
       "      <td>100.000000</td>\n",
       "      <td>100.000000</td>\n",
       "      <td>100.000000</td>\n",
       "      <td>100.000000</td>\n",
       "      <td>0</td>\n",
       "      <td>0.000000</td>\n",
       "    </tr>\n",
       "    <tr>\n",
       "      <th>1971-02-08</th>\n",
       "      <td>100.839996</td>\n",
       "      <td>100.839996</td>\n",
       "      <td>100.839996</td>\n",
       "      <td>100.839996</td>\n",
       "      <td>100.839996</td>\n",
       "      <td>0</td>\n",
       "      <td>0.008400</td>\n",
       "    </tr>\n",
       "    <tr>\n",
       "      <th>1971-02-09</th>\n",
       "      <td>100.760002</td>\n",
       "      <td>100.760002</td>\n",
       "      <td>100.760002</td>\n",
       "      <td>100.760002</td>\n",
       "      <td>100.760002</td>\n",
       "      <td>0</td>\n",
       "      <td>-0.000793</td>\n",
       "    </tr>\n",
       "    <tr>\n",
       "      <th>1971-02-10</th>\n",
       "      <td>100.690002</td>\n",
       "      <td>100.690002</td>\n",
       "      <td>100.690002</td>\n",
       "      <td>100.690002</td>\n",
       "      <td>100.690002</td>\n",
       "      <td>0</td>\n",
       "      <td>-0.000695</td>\n",
       "    </tr>\n",
       "    <tr>\n",
       "      <th>1971-02-11</th>\n",
       "      <td>101.449997</td>\n",
       "      <td>101.449997</td>\n",
       "      <td>101.449997</td>\n",
       "      <td>101.449997</td>\n",
       "      <td>101.449997</td>\n",
       "      <td>0</td>\n",
       "      <td>0.007548</td>\n",
       "    </tr>\n",
       "    <tr>\n",
       "      <th>...</th>\n",
       "      <td>...</td>\n",
       "      <td>...</td>\n",
       "      <td>...</td>\n",
       "      <td>...</td>\n",
       "      <td>...</td>\n",
       "      <td>...</td>\n",
       "      <td>...</td>\n",
       "    </tr>\n",
       "    <tr>\n",
       "      <th>2022-01-12</th>\n",
       "      <td>15263.099610</td>\n",
       "      <td>15319.030270</td>\n",
       "      <td>15117.290040</td>\n",
       "      <td>15188.389650</td>\n",
       "      <td>15188.389650</td>\n",
       "      <td>4321180000</td>\n",
       "      <td>0.002306</td>\n",
       "    </tr>\n",
       "    <tr>\n",
       "      <th>2022-01-13</th>\n",
       "      <td>15245.040040</td>\n",
       "      <td>15259.709960</td>\n",
       "      <td>14782.240230</td>\n",
       "      <td>14806.809570</td>\n",
       "      <td>14806.809570</td>\n",
       "      <td>4283070000</td>\n",
       "      <td>-0.025123</td>\n",
       "    </tr>\n",
       "    <tr>\n",
       "      <th>2022-01-14</th>\n",
       "      <td>14708.019530</td>\n",
       "      <td>14897.679690</td>\n",
       "      <td>14689.429690</td>\n",
       "      <td>14893.750000</td>\n",
       "      <td>14893.750000</td>\n",
       "      <td>4345780000</td>\n",
       "      <td>0.005872</td>\n",
       "    </tr>\n",
       "    <tr>\n",
       "      <th>2022-01-18</th>\n",
       "      <td>14681.830080</td>\n",
       "      <td>14740.540040</td>\n",
       "      <td>14482.940430</td>\n",
       "      <td>14506.900390</td>\n",
       "      <td>14506.900390</td>\n",
       "      <td>5027990000</td>\n",
       "      <td>-0.025974</td>\n",
       "    </tr>\n",
       "    <tr>\n",
       "      <th>2022-01-19</th>\n",
       "      <td>14582.219730</td>\n",
       "      <td>14658.889650</td>\n",
       "      <td>14331.650390</td>\n",
       "      <td>14340.259770</td>\n",
       "      <td>14340.259770</td>\n",
       "      <td>4639990000</td>\n",
       "      <td>-0.011487</td>\n",
       "    </tr>\n",
       "  </tbody>\n",
       "</table>\n",
       "<p>12852 rows × 7 columns</p>\n",
       "</div>"
      ],
      "text/plain": [
       "                    Open          High           Low         Close  \\\n",
       "Date                                                                 \n",
       "1971-02-05    100.000000    100.000000    100.000000    100.000000   \n",
       "1971-02-08    100.839996    100.839996    100.839996    100.839996   \n",
       "1971-02-09    100.760002    100.760002    100.760002    100.760002   \n",
       "1971-02-10    100.690002    100.690002    100.690002    100.690002   \n",
       "1971-02-11    101.449997    101.449997    101.449997    101.449997   \n",
       "...                  ...           ...           ...           ...   \n",
       "2022-01-12  15263.099610  15319.030270  15117.290040  15188.389650   \n",
       "2022-01-13  15245.040040  15259.709960  14782.240230  14806.809570   \n",
       "2022-01-14  14708.019530  14897.679690  14689.429690  14893.750000   \n",
       "2022-01-18  14681.830080  14740.540040  14482.940430  14506.900390   \n",
       "2022-01-19  14582.219730  14658.889650  14331.650390  14340.259770   \n",
       "\n",
       "               Adj Close      Volume    Return  \n",
       "Date                                            \n",
       "1971-02-05    100.000000           0  0.000000  \n",
       "1971-02-08    100.839996           0  0.008400  \n",
       "1971-02-09    100.760002           0 -0.000793  \n",
       "1971-02-10    100.690002           0 -0.000695  \n",
       "1971-02-11    101.449997           0  0.007548  \n",
       "...                  ...         ...       ...  \n",
       "2022-01-12  15188.389650  4321180000  0.002306  \n",
       "2022-01-13  14806.809570  4283070000 -0.025123  \n",
       "2022-01-14  14893.750000  4345780000  0.005872  \n",
       "2022-01-18  14506.900390  5027990000 -0.025974  \n",
       "2022-01-19  14340.259770  4639990000 -0.011487  \n",
       "\n",
       "[12852 rows x 7 columns]"
      ]
     },
     "execution_count": 49,
     "metadata": {},
     "output_type": "execute_result"
    }
   ],
   "source": [
    "data['Return'] = data['Adj Close'].pct_change().fillna(0)\n",
    "\n",
    "data"
   ]
  },
  {
   "cell_type": "markdown",
   "id": "adcb835e",
   "metadata": {},
   "source": [
    "###### <center> Visualization: Nasdaq Daily Returns (scatterplot)"
   ]
  },
  {
   "cell_type": "code",
   "execution_count": 16,
   "id": "258301eb",
   "metadata": {},
   "outputs": [
    {
     "data": {
      "image/png": "[encoded data removed]",
      "text/plain": [
       "<Figure size 1152x576 with 1 Axes>"
      ]
     },
     "metadata": {
      "needs_background": "light"
     },
     "output_type": "display_data"
    }
   ],
   "source": [
    "#data['Return'].plot()\n",
    "plt.scatter(data.index, data['Return'], color = 'grey')\n",
    "plt.title('Nasdaq Daily Returns (Scatter Plot)', fontsize = 14)\n",
    "plt.axhline(0, color = 'black', linewidth = 0.8)\n",
    "\n",
    "plt.show()"
   ]
  },
  {
   "cell_type": "markdown",
   "id": "66bae686",
   "metadata": {},
   "source": [
    "---"
   ]
  },
  {
   "cell_type": "markdown",
   "id": "702f68a2",
   "metadata": {},
   "source": [
    "#### III) Analyzing Nasdaq's Return Distribution"
   ]
  },
  {
   "cell_type": "markdown",
   "id": "323354d6",
   "metadata": {},
   "source": [
    "The first step is to \"normalize\" the return series:"
   ]
  },
  {
   "cell_type": "markdown",
   "id": "62d27b45",
   "metadata": {},
   "source": [
    "##### <center> ScaledRt = (Rt - μ)/σ"
   ]
  },
  {
   "cell_type": "markdown",
   "id": "193a550f",
   "metadata": {},
   "source": [
    "Where μ is the Mean and σ is the Standard Deviation, also known as \"Volatility\"."
   ]
  },
  {
   "cell_type": "code",
   "execution_count": 52,
   "id": "764c30b1",
   "metadata": {},
   "outputs": [
    {
     "data": {
      "text/html": [
       "<div>\n",
       "<style scoped>\n",
       "    .dataframe tbody tr th:only-of-type {\n",
       "        vertical-align: middle;\n",
       "    }\n",
       "\n",
       "    .dataframe tbody tr th {\n",
       "        vertical-align: top;\n",
       "    }\n",
       "\n",
       "    .dataframe thead th {\n",
       "        text-align: right;\n",
       "    }\n",
       "</style>\n",
       "<table border=\"1\" class=\"dataframe\">\n",
       "  <thead>\n",
       "    <tr style=\"text-align: right;\">\n",
       "      <th></th>\n",
       "      <th>Open</th>\n",
       "      <th>High</th>\n",
       "      <th>Low</th>\n",
       "      <th>Close</th>\n",
       "      <th>Adj Close</th>\n",
       "      <th>Volume</th>\n",
       "      <th>Return</th>\n",
       "      <th>Scaled Returns</th>\n",
       "    </tr>\n",
       "    <tr>\n",
       "      <th>Date</th>\n",
       "      <th></th>\n",
       "      <th></th>\n",
       "      <th></th>\n",
       "      <th></th>\n",
       "      <th></th>\n",
       "      <th></th>\n",
       "      <th></th>\n",
       "      <th></th>\n",
       "    </tr>\n",
       "  </thead>\n",
       "  <tbody>\n",
       "    <tr>\n",
       "      <th>1971-02-05</th>\n",
       "      <td>100.000000</td>\n",
       "      <td>100.000000</td>\n",
       "      <td>100.000000</td>\n",
       "      <td>100.000000</td>\n",
       "      <td>100.000000</td>\n",
       "      <td>0</td>\n",
       "      <td>0.000000</td>\n",
       "      <td>0.000000</td>\n",
       "    </tr>\n",
       "    <tr>\n",
       "      <th>1971-02-08</th>\n",
       "      <td>100.839996</td>\n",
       "      <td>100.839996</td>\n",
       "      <td>100.839996</td>\n",
       "      <td>100.839996</td>\n",
       "      <td>100.839996</td>\n",
       "      <td>0</td>\n",
       "      <td>0.008400</td>\n",
       "      <td>0.634812</td>\n",
       "    </tr>\n",
       "    <tr>\n",
       "      <th>1971-02-09</th>\n",
       "      <td>100.760002</td>\n",
       "      <td>100.760002</td>\n",
       "      <td>100.760002</td>\n",
       "      <td>100.760002</td>\n",
       "      <td>100.760002</td>\n",
       "      <td>0</td>\n",
       "      <td>-0.000793</td>\n",
       "      <td>-0.100638</td>\n",
       "    </tr>\n",
       "    <tr>\n",
       "      <th>1971-02-10</th>\n",
       "      <td>100.690002</td>\n",
       "      <td>100.690002</td>\n",
       "      <td>100.690002</td>\n",
       "      <td>100.690002</td>\n",
       "      <td>100.690002</td>\n",
       "      <td>0</td>\n",
       "      <td>-0.000695</td>\n",
       "      <td>-0.092753</td>\n",
       "    </tr>\n",
       "    <tr>\n",
       "      <th>1971-02-11</th>\n",
       "      <td>101.449997</td>\n",
       "      <td>101.449997</td>\n",
       "      <td>101.449997</td>\n",
       "      <td>101.449997</td>\n",
       "      <td>101.449997</td>\n",
       "      <td>0</td>\n",
       "      <td>0.007548</td>\n",
       "      <td>0.566645</td>\n",
       "    </tr>\n",
       "  </tbody>\n",
       "</table>\n",
       "</div>"
      ],
      "text/plain": [
       "                  Open        High         Low       Close   Adj Close  \\\n",
       "Date                                                                     \n",
       "1971-02-05  100.000000  100.000000  100.000000  100.000000  100.000000   \n",
       "1971-02-08  100.839996  100.839996  100.839996  100.839996  100.839996   \n",
       "1971-02-09  100.760002  100.760002  100.760002  100.760002  100.760002   \n",
       "1971-02-10  100.690002  100.690002  100.690002  100.690002  100.690002   \n",
       "1971-02-11  101.449997  101.449997  101.449997  101.449997  101.449997   \n",
       "\n",
       "            Volume    Return  Scaled Returns  \n",
       "Date                                          \n",
       "1971-02-05       0  0.000000        0.000000  \n",
       "1971-02-08       0  0.008400        0.634812  \n",
       "1971-02-09       0 -0.000793       -0.100638  \n",
       "1971-02-10       0 -0.000695       -0.092753  \n",
       "1971-02-11       0  0.007548        0.566645  "
      ]
     },
     "execution_count": 52,
     "metadata": {},
     "output_type": "execute_result"
    }
   ],
   "source": [
    "data['Scaled Returns'] = (data['Return'] - mean)/stdev\n",
    "data['Scaled Returns'][0] = 0\n",
    "\n",
    "data"
   ]
  },
  {
   "cell_type": "markdown",
   "id": "7ff2d37e",
   "metadata": {},
   "source": [
    "The Scaled Returns now have a Mean 0 and a Standard Deviation of 1. However, the distribution of this dataset cannot be considered Normal. Calculating the third and fourth moments (Skewness and Kurtosis, respectively) demonstrate that."
   ]
  },
  {
   "cell_type": "code",
   "execution_count": 81,
   "id": "8c516953",
   "metadata": {},
   "outputs": [
    {
     "name": "stdout",
     "output_type": "stream",
     "text": [
      "Scaled Return:\n",
      "- Mean: 0.0\n",
      "- Standard Deviation: 1.3\n",
      "- Maximum: 11.3\n",
      "- Minimum: -9.9\n",
      "- Skewness: -0.2\n",
      "- Kurtosis: 10.2\n"
     ]
    }
   ],
   "source": [
    "mean = data['Return'].mean()\n",
    "\n",
    "stdev = np.sqrt(data['Return'].var())\n",
    "\n",
    "skew = data['Scaled Returns'].skew()\n",
    "\n",
    "kurtosis = data['Scaled Returns'].kurt()\n",
    "\n",
    "max_scaled = data['Scaled Returns'].max()\n",
    "min_scaled = data['Scaled Returns'].min()\n",
    "\n",
    "print('Scaled Return:')\n",
    "print('- Mean: {}'.format(round(mean * 100, 1)))\n",
    "print('- Standard Deviation: {}'.format(round(stdev * 100, 1)))\n",
    "print('- Maximum: {}'.format(round(max_scaled, 1)))\n",
    "print('- Minimum: {}'.format(round(min_scaled, 1)))\n",
    "print('- Skewness: {}'.format(round(skew, 1)))\n",
    "print('- Kurtosis: {}'.format(round(kurtosis, 1)))"
   ]
  },
  {
   "cell_type": "markdown",
   "id": "d5b8480e",
   "metadata": {},
   "source": [
    "Another statistic worth noting is the Maximum/Minimum Scaled Returns, which confirms the existence of Fat-Tails.\n",
    "\n",
    "In the words of a Sage Quant:\n",
    "\"*If it was really normally distributed, you would have to wait longer than the lifetime of the Universe before you get an 11 standard deviation move.*\"\n",
    "\n",
    "Although it happened in 20 years of data."
   ]
  },
  {
   "cell_type": "markdown",
   "id": "6c070b55",
   "metadata": {},
   "source": [
    "###### <center> Visualization: Nasdaq Scaled Daily Returns (histogram)"
   ]
  },
  {
   "cell_type": "code",
   "execution_count": 74,
   "id": "0f1a42ba",
   "metadata": {},
   "outputs": [
    {
     "data": {
      "image/png": "[encoded data removed]",
      "text/plain": [
       "<Figure size 1152x576 with 1 Axes>"
      ]
     },
     "metadata": {
      "needs_background": "light"
     },
     "output_type": "display_data"
    }
   ],
   "source": [
    "plt.hist(data['Scaled Returns'], bins = int(len(data)/200), color = 'grey', rwidth = 0.8)\n",
    "plt.title('Normalized Frequency Distribution of Nasdaq Daily Returns', fontsize = 14)\n",
    "plt.grid(False)\n",
    "\n",
    "plt.show()"
   ]
  },
  {
   "cell_type": "markdown",
   "id": "5ea9ea39",
   "metadata": {},
   "source": [
    "###### <center> Visualization: Nasdaq x Normal (pdf)"
   ]
  },
  {
   "cell_type": "code",
   "execution_count": 73,
   "id": "54844371",
   "metadata": {},
   "outputs": [
    {
     "data": {
      "image/png": "[encoded data removed]",
      "text/plain": [
       "<Figure size 1152x576 with 1 Axes>"
      ]
     },
     "metadata": {
      "needs_background": "light"
     },
     "output_type": "display_data"
    }
   ],
   "source": [
    "normal = np.random.normal(data['Scaled Returns'].mean(), data['Scaled Returns'].std(), len(data))\n",
    "\n",
    "high1 = np.round(data['Scaled Returns'].mean() + 2*(data['Scaled Returns'].std()), 2) \n",
    "low1 = np.round(data['Scaled Returns'].mean() - 2*(data['Scaled Returns'].std()), 2) \n",
    "high2 = np.round(data['Scaled Returns'].mean() + 3*(data['Scaled Returns'].std()), 2) \n",
    "low2 = np.round(data['Scaled Returns'].mean() - 3*(data['Scaled Returns'].std()), 2)\n",
    "\n",
    "sns.distplot(data['Scaled Returns'], hist = False, color = 'dimgray')\n",
    "sns.distplot(normal, hist = False, color = 'turquoise', kde_kws = {'linestyle':'--'})\n",
    "plt.axvline(data['Scaled Returns'].mean(), color = 'midnightblue')\n",
    "plt.axvline(high1, color = 'skyblue', linestyle = '-.')\n",
    "plt.text(high1, 0.5, '+2σ', color = 'skyblue', fontsize = 14)\n",
    "plt.axvline(high2, color = 'lightgreen', linestyle = '-.')\n",
    "plt.text(high2, 0.5, '+3σ', color = 'lightgreen', fontsize = 14)\n",
    "plt.axvline(low1, color = 'khaki', linestyle = '-.')\n",
    "plt.text(low1 - 0.9, 0.5, '-2σ', color = 'khaki', fontsize = 14)\n",
    "plt.axvline(low2, color = 'coral', linestyle = '-.')\n",
    "plt.text(low2 - 0.9, 0.5, '-3σ', color = 'coral', fontsize = 14)\n",
    "plt.xlabel('')\n",
    "plt.grid(False)\n",
    "plt.legend({'Nasdaq Normalized Returns': data['Scaled Returns'], 'Normal Distribution': normal}, fontsize = 12)\n",
    "\n",
    "plt.show()"
   ]
  },
  {
   "cell_type": "markdown",
   "id": "a07e51fa",
   "metadata": {},
   "source": [
    "---"
   ]
  },
  {
   "cell_type": "markdown",
   "id": "d31612c9",
   "metadata": {},
   "source": [
    "##### IV) Concluding Remarks"
   ]
  },
  {
   "cell_type": "markdown",
   "id": "e40c3fff",
   "metadata": {},
   "source": [
    "Even though the distribution analyzed is far from Normal, the assumption is that the empirical returns can be modelled by a Normal Distribution (pragmatical approach), which makes it possible to derive a model aimed at forecasting the asset's future price path. \n",
    "\n",
    "This framework will lead to the Wiener Process and the Geometric Brownian Motion further ahead."
   ]
  },
  {
   "cell_type": "markdown",
   "id": "4c10f9bc",
   "metadata": {},
   "source": [
    "---"
   ]
  },
  {
   "cell_type": "markdown",
   "id": "29378ad5",
   "metadata": {},
   "source": [
    "Author: [Renan Pereira Bento](https://www.linkedin.com/in/renan-bento/)"
   ]
  }
 ],
 "metadata": {
  "kernelspec": {
   "display_name": "Python 3 (ipykernel)",
   "language": "python",
   "name": "python3"
  },
  "language_info": {
   "codemirror_mode": {
    "name": "ipython",
    "version": 3
   },
   "file_extension": ".py",
   "mimetype": "text/x-python",
   "name": "python",
   "nbconvert_exporter": "python",
   "pygments_lexer": "ipython3",
   "version": "3.9.7"
  }
 },
 "nbformat": 4,
 "nbformat_minor": 5
}
