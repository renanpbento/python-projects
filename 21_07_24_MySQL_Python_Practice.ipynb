{
 "cells": [
  {
   "cell_type": "markdown",
   "metadata": {},
   "source": [
    "## Leveraging MySQL Queries with Python"
   ]
  },
  {
   "cell_type": "markdown",
   "metadata": {},
   "source": [
    "SQL and Python are two of the most relevant programming languages in Data Science.\n",
    "\n",
    "Whilst different in nature and purpose, there could be a lot of synergy when using both languages together. In order to prove that, I took the lessons from the excellent Maven Analytics' Course \"Advanced SQL: MySQLData Analysis & Business Intelligence\" (link below) taught by John Pauler and used Python to leverage the results from the queries.\n",
    "\n",
    "[Advanced SQL: MySQL Data Analysis & Business Intelligence](https://www.udemy.com/course/advanced-sql-mysql-for-analytics-business-intelligence/)\n",
    "\n",
    "It is important to highlight that, as a beginner in both languages, there could be many ocurrences of unintended complicated code and bad practices, but I regard that as part of the learning process :)\n",
    "\n",
    "Without further ado, let's jump into it."
   ]
  },
  {
   "cell_type": "markdown",
   "metadata": {},
   "source": [
    "---"
   ]
  },
  {
   "cell_type": "markdown",
   "metadata": {},
   "source": [
    "*- Importing libraries*\n",
    "\n",
    "There are other alternatives to connect MySQL to Python. For this project, it will be used the 'mysql.connector' library."
   ]
  },
  {
   "cell_type": "code",
   "execution_count": 1,
   "metadata": {},
   "outputs": [],
   "source": [
    "import mysql.connector\n",
    "import pandas as pd\n",
    "import numpy as np\n",
    "import matplotlib.pyplot as plt"
   ]
  },
  {
   "cell_type": "markdown",
   "metadata": {},
   "source": [
    "Here is an example of technical limitation. I tried to hide the cell input because it contains password, but I wasn't able to. Therefore, I erased the cell used to connect to the database, but the code is:\n",
    "\n",
    "*mydb = mysql.connector.connect(host = 'localhost',\n",
    "                              user = 'root',\n",
    "                              password = 'yourpassword',\n",
    "                              database = 'mavenfuzzyfactory')*\n",
    "\n",
    "*print('Database connection successful')*"
   ]
  },
  {
   "cell_type": "markdown",
   "metadata": {},
   "source": [
    "Fron now on I can use this Python IDE to write queries and extract results from the database."
   ]
  },
  {
   "cell_type": "markdown",
   "metadata": {},
   "source": [
    "---"
   ]
  },
  {
   "cell_type": "markdown",
   "metadata": {},
   "source": [
    "*- Writing queries in Python*\n",
    "\n",
    "It is worth to highlight that I tried to customize some answers based on what I thought would make more sense in the occasion, therefore, this is not a simple copy of the course's proposed solutions.\n",
    "\n",
    "Queries will be executed using the pd.read_sql_query() function and will be named as follows:\n",
    "\n",
    "\"query_number of the lesson_sequential order\"\n",
    "Example: Lesson 18, second query written = query_18_2"
   ]
  },
  {
   "cell_type": "markdown",
   "metadata": {},
   "source": [
    " "
   ]
  },
  {
   "cell_type": "markdown",
   "metadata": {},
   "source": [
    "---"
   ]
  },
  {
   "cell_type": "markdown",
   "metadata": {},
   "source": [
    "**Mid-course Project (Section 6: Lesson 50 - 52)**"
   ]
  },
  {
   "cell_type": "markdown",
   "metadata": {},
   "source": [
    "*1.\tGsearch seems to be the biggest driver of our business. Could you pull monthly trends for gsearch sessions and orders so that we can showcase the growth there?*"
   ]
  },
  {
   "cell_type": "code",
   "execution_count": 3,
   "metadata": {},
   "outputs": [
    {
     "data": {
      "text/html": [
       "<div>\n",
       "<style scoped>\n",
       "    .dataframe tbody tr th:only-of-type {\n",
       "        vertical-align: middle;\n",
       "    }\n",
       "\n",
       "    .dataframe tbody tr th {\n",
       "        vertical-align: top;\n",
       "    }\n",
       "\n",
       "    .dataframe thead th {\n",
       "        text-align: right;\n",
       "    }\n",
       "</style>\n",
       "<table border=\"1\" class=\"dataframe\">\n",
       "  <thead>\n",
       "    <tr style=\"text-align: right;\">\n",
       "      <th></th>\n",
       "      <th>month</th>\n",
       "      <th>sessions</th>\n",
       "      <th>orders</th>\n",
       "      <th>conv_rate</th>\n",
       "    </tr>\n",
       "  </thead>\n",
       "  <tbody>\n",
       "    <tr>\n",
       "      <th>0</th>\n",
       "      <td>3</td>\n",
       "      <td>1860</td>\n",
       "      <td>60</td>\n",
       "      <td>3.23</td>\n",
       "    </tr>\n",
       "    <tr>\n",
       "      <th>1</th>\n",
       "      <td>4</td>\n",
       "      <td>3574</td>\n",
       "      <td>92</td>\n",
       "      <td>2.57</td>\n",
       "    </tr>\n",
       "    <tr>\n",
       "      <th>2</th>\n",
       "      <td>5</td>\n",
       "      <td>3410</td>\n",
       "      <td>97</td>\n",
       "      <td>2.84</td>\n",
       "    </tr>\n",
       "    <tr>\n",
       "      <th>3</th>\n",
       "      <td>6</td>\n",
       "      <td>3578</td>\n",
       "      <td>121</td>\n",
       "      <td>3.38</td>\n",
       "    </tr>\n",
       "    <tr>\n",
       "      <th>4</th>\n",
       "      <td>7</td>\n",
       "      <td>3811</td>\n",
       "      <td>145</td>\n",
       "      <td>3.80</td>\n",
       "    </tr>\n",
       "    <tr>\n",
       "      <th>5</th>\n",
       "      <td>8</td>\n",
       "      <td>4877</td>\n",
       "      <td>184</td>\n",
       "      <td>3.77</td>\n",
       "    </tr>\n",
       "    <tr>\n",
       "      <th>6</th>\n",
       "      <td>9</td>\n",
       "      <td>4491</td>\n",
       "      <td>188</td>\n",
       "      <td>4.19</td>\n",
       "    </tr>\n",
       "    <tr>\n",
       "      <th>7</th>\n",
       "      <td>10</td>\n",
       "      <td>5534</td>\n",
       "      <td>234</td>\n",
       "      <td>4.23</td>\n",
       "    </tr>\n",
       "    <tr>\n",
       "      <th>8</th>\n",
       "      <td>11</td>\n",
       "      <td>8889</td>\n",
       "      <td>373</td>\n",
       "      <td>4.20</td>\n",
       "    </tr>\n",
       "  </tbody>\n",
       "</table>\n",
       "</div>"
      ],
      "text/plain": [
       "   month  sessions  orders  conv_rate\n",
       "0      3      1860      60       3.23\n",
       "1      4      3574      92       2.57\n",
       "2      5      3410      97       2.84\n",
       "3      6      3578     121       3.38\n",
       "4      7      3811     145       3.80\n",
       "5      8      4877     184       3.77\n",
       "6      9      4491     188       4.19\n",
       "7     10      5534     234       4.23\n",
       "8     11      8889     373       4.20"
      ]
     },
     "execution_count": 3,
     "metadata": {},
     "output_type": "execute_result"
    }
   ],
   "source": [
    "query_51_1 = '''\n",
    "SELECT\n",
    "    MONTH(ws.created_at) AS 'month', \n",
    "    COUNT(DISTINCT ws.website_session_id) AS sessions, \n",
    "    COUNT(DISTINCT o.order_id) AS orders, \n",
    "    ROUND(COUNT(DISTINCT o.order_id)/COUNT(DISTINCT ws.website_session_id) * 100, 2) AS conv_rate\n",
    "FROM website_sessions ws\n",
    "LEFT JOIN orders o ON o.website_session_id = ws.website_session_id\n",
    "WHERE \n",
    "    ws.created_at < '2012-11-27'\n",
    "    AND ws.utm_source = 'gsearch'\n",
    "GROUP BY 1; \n",
    "'''\n",
    "\n",
    "# Observations about the query: \n",
    "# - Conversion rates were calculated to present a better ideia about monthly trends for sessions and orders;\n",
    "# - Order By column 1 means sorting by 'month' \n",
    "\n",
    "\n",
    "result_51_1 = pd.read_sql_query(query_51_1, mydb)\n",
    "result_51_1"
   ]
  },
  {
   "cell_type": "code",
   "execution_count": 4,
   "metadata": {},
   "outputs": [
    {
     "data": {
      "text/html": [
       "<div>\n",
       "<style scoped>\n",
       "    .dataframe tbody tr th:only-of-type {\n",
       "        vertical-align: middle;\n",
       "    }\n",
       "\n",
       "    .dataframe tbody tr th {\n",
       "        vertical-align: top;\n",
       "    }\n",
       "\n",
       "    .dataframe thead th {\n",
       "        text-align: right;\n",
       "    }\n",
       "</style>\n",
       "<table border=\"1\" class=\"dataframe\">\n",
       "  <thead>\n",
       "    <tr style=\"text-align: right;\">\n",
       "      <th></th>\n",
       "      <th>sessions</th>\n",
       "      <th>orders</th>\n",
       "      <th>conv_rate</th>\n",
       "    </tr>\n",
       "    <tr>\n",
       "      <th>month</th>\n",
       "      <th></th>\n",
       "      <th></th>\n",
       "      <th></th>\n",
       "    </tr>\n",
       "  </thead>\n",
       "  <tbody>\n",
       "    <tr>\n",
       "      <th>3</th>\n",
       "      <td>1860</td>\n",
       "      <td>60</td>\n",
       "      <td>3.23</td>\n",
       "    </tr>\n",
       "    <tr>\n",
       "      <th>4</th>\n",
       "      <td>3574</td>\n",
       "      <td>92</td>\n",
       "      <td>2.57</td>\n",
       "    </tr>\n",
       "    <tr>\n",
       "      <th>5</th>\n",
       "      <td>3410</td>\n",
       "      <td>97</td>\n",
       "      <td>2.84</td>\n",
       "    </tr>\n",
       "    <tr>\n",
       "      <th>6</th>\n",
       "      <td>3578</td>\n",
       "      <td>121</td>\n",
       "      <td>3.38</td>\n",
       "    </tr>\n",
       "    <tr>\n",
       "      <th>7</th>\n",
       "      <td>3811</td>\n",
       "      <td>145</td>\n",
       "      <td>3.80</td>\n",
       "    </tr>\n",
       "    <tr>\n",
       "      <th>8</th>\n",
       "      <td>4877</td>\n",
       "      <td>184</td>\n",
       "      <td>3.77</td>\n",
       "    </tr>\n",
       "    <tr>\n",
       "      <th>9</th>\n",
       "      <td>4491</td>\n",
       "      <td>188</td>\n",
       "      <td>4.19</td>\n",
       "    </tr>\n",
       "    <tr>\n",
       "      <th>10</th>\n",
       "      <td>5534</td>\n",
       "      <td>234</td>\n",
       "      <td>4.23</td>\n",
       "    </tr>\n",
       "    <tr>\n",
       "      <th>11</th>\n",
       "      <td>8889</td>\n",
       "      <td>373</td>\n",
       "      <td>4.20</td>\n",
       "    </tr>\n",
       "  </tbody>\n",
       "</table>\n",
       "</div>"
      ],
      "text/plain": [
       "       sessions  orders  conv_rate\n",
       "month                             \n",
       "3          1860      60       3.23\n",
       "4          3574      92       2.57\n",
       "5          3410      97       2.84\n",
       "6          3578     121       3.38\n",
       "7          3811     145       3.80\n",
       "8          4877     184       3.77\n",
       "9          4491     188       4.19\n",
       "10         5534     234       4.23\n",
       "11         8889     373       4.20"
      ]
     },
     "execution_count": 4,
     "metadata": {},
     "output_type": "execute_result"
    }
   ],
   "source": [
    "# Setting months as index\n",
    "\n",
    "result_51_1.set_index('month')"
   ]
  },
  {
   "cell_type": "code",
   "execution_count": 5,
   "metadata": {
    "scrolled": false
   },
   "outputs": [
    {
     "data": {
      "image/png": "[encoded data removed]",
      "text/plain": [
       "<Figure size 1008x432 with 1 Axes>"
      ]
     },
     "metadata": {
      "needs_background": "light"
     },
     "output_type": "display_data"
    }
   ],
   "source": [
    "# Plotting conversion rates monthly trend\n",
    "\n",
    "positions = (0, 1, 2, 3, 4, 5, 6, 7, 8)\n",
    "labels = ['March', 'April', 'May', 'June', 'July', 'August', 'September', 'October', 'November']\n",
    "\n",
    "fig, ax = plt.subplots(1, figsize = (14, 6))\n",
    "plt.plot(result_51_1['conv_rate'], linewidth = 4, color = 'blue', marker = '.')\n",
    "ax.spines['top'].set_visible(False)\n",
    "ax.spines['right'].set_visible(False)\n",
    "ax.spines['bottom'].set_visible(False)\n",
    "ax.spines['left'].set_visible(False)\n",
    "plt.title('Conversion Rates Monthly Trend', size = 20)\n",
    "plt.xticks(positions, labels, fontsize = 14)\n",
    "plt.yticks(fontsize = 14)\n",
    "plt.ylabel('% Conversion', fontsize = 14)\n",
    "plt.show()"
   ]
  },
  {
   "cell_type": "markdown",
   "metadata": {},
   "source": [
    "As shown in the plot, conversion rate of orders to website sessions has been increasing consistently since April, which is good news. However, it seems like there is a plateau around 4.20% conversion rate in the last three months.\n",
    "\n",
    "A good way to look further into this result is the second derivate. Here is why:\n",
    "- The first derivative is nothing less than the rate of change between two points in time, just like was done in this step. It gives an idea of **velocity** of conversion rates;\n",
    "- The second derivative is the rate of change OF the rate of change, which in this case shows the **acceleration** of conversion rates over time."
   ]
  },
  {
   "cell_type": "code",
   "execution_count": 6,
   "metadata": {},
   "outputs": [
    {
     "data": {
      "text/html": [
       "<div>\n",
       "<style scoped>\n",
       "    .dataframe tbody tr th:only-of-type {\n",
       "        vertical-align: middle;\n",
       "    }\n",
       "\n",
       "    .dataframe tbody tr th {\n",
       "        vertical-align: top;\n",
       "    }\n",
       "\n",
       "    .dataframe thead th {\n",
       "        text-align: right;\n",
       "    }\n",
       "</style>\n",
       "<table border=\"1\" class=\"dataframe\">\n",
       "  <thead>\n",
       "    <tr style=\"text-align: right;\">\n",
       "      <th></th>\n",
       "      <th>month</th>\n",
       "      <th>sessions</th>\n",
       "      <th>orders</th>\n",
       "      <th>conv_rate</th>\n",
       "      <th>conv_rate_change</th>\n",
       "    </tr>\n",
       "  </thead>\n",
       "  <tbody>\n",
       "    <tr>\n",
       "      <th>0</th>\n",
       "      <td>3</td>\n",
       "      <td>1860</td>\n",
       "      <td>60</td>\n",
       "      <td>3.23</td>\n",
       "      <td>0.00</td>\n",
       "    </tr>\n",
       "    <tr>\n",
       "      <th>1</th>\n",
       "      <td>4</td>\n",
       "      <td>3574</td>\n",
       "      <td>92</td>\n",
       "      <td>2.57</td>\n",
       "      <td>-20.43</td>\n",
       "    </tr>\n",
       "    <tr>\n",
       "      <th>2</th>\n",
       "      <td>5</td>\n",
       "      <td>3410</td>\n",
       "      <td>97</td>\n",
       "      <td>2.84</td>\n",
       "      <td>10.51</td>\n",
       "    </tr>\n",
       "    <tr>\n",
       "      <th>3</th>\n",
       "      <td>6</td>\n",
       "      <td>3578</td>\n",
       "      <td>121</td>\n",
       "      <td>3.38</td>\n",
       "      <td>19.01</td>\n",
       "    </tr>\n",
       "    <tr>\n",
       "      <th>4</th>\n",
       "      <td>7</td>\n",
       "      <td>3811</td>\n",
       "      <td>145</td>\n",
       "      <td>3.80</td>\n",
       "      <td>12.43</td>\n",
       "    </tr>\n",
       "    <tr>\n",
       "      <th>5</th>\n",
       "      <td>8</td>\n",
       "      <td>4877</td>\n",
       "      <td>184</td>\n",
       "      <td>3.77</td>\n",
       "      <td>-0.79</td>\n",
       "    </tr>\n",
       "    <tr>\n",
       "      <th>6</th>\n",
       "      <td>9</td>\n",
       "      <td>4491</td>\n",
       "      <td>188</td>\n",
       "      <td>4.19</td>\n",
       "      <td>11.14</td>\n",
       "    </tr>\n",
       "    <tr>\n",
       "      <th>7</th>\n",
       "      <td>10</td>\n",
       "      <td>5534</td>\n",
       "      <td>234</td>\n",
       "      <td>4.23</td>\n",
       "      <td>0.95</td>\n",
       "    </tr>\n",
       "    <tr>\n",
       "      <th>8</th>\n",
       "      <td>11</td>\n",
       "      <td>8889</td>\n",
       "      <td>373</td>\n",
       "      <td>4.20</td>\n",
       "      <td>-0.71</td>\n",
       "    </tr>\n",
       "  </tbody>\n",
       "</table>\n",
       "</div>"
      ],
      "text/plain": [
       "   month  sessions  orders  conv_rate  conv_rate_change\n",
       "0      3      1860      60       3.23              0.00\n",
       "1      4      3574      92       2.57            -20.43\n",
       "2      5      3410      97       2.84             10.51\n",
       "3      6      3578     121       3.38             19.01\n",
       "4      7      3811     145       3.80             12.43\n",
       "5      8      4877     184       3.77             -0.79\n",
       "6      9      4491     188       4.19             11.14\n",
       "7     10      5534     234       4.23              0.95\n",
       "8     11      8889     373       4.20             -0.71"
      ]
     },
     "execution_count": 6,
     "metadata": {},
     "output_type": "execute_result"
    }
   ],
   "source": [
    "# Adding a column representing the second derivative. This could be done through a query too, but the 'pct_change()' \n",
    "# function embedded in pandas looks like a simpler way to get the result \n",
    "\n",
    "result_51_1['conv_rate_change'] = round(result_51_1['conv_rate'].pct_change() * 100,2)\n",
    "\n",
    "result_51_1.fillna(0) # The first row will return NaN, so we substitute by 0"
   ]
  },
  {
   "cell_type": "code",
   "execution_count": 7,
   "metadata": {},
   "outputs": [
    {
     "data": {
      "image/png": "[encoded data removed]",
      "text/plain": [
       "<Figure size 1008x432 with 1 Axes>"
      ]
     },
     "metadata": {
      "needs_background": "light"
     },
     "output_type": "display_data"
    }
   ],
   "source": [
    "# Plotting the rate of change in conversion rates\n",
    "\n",
    "positions = (0, 1, 2, 3, 4, 5, 6, 7, 8)\n",
    "labels = ['Mar', 'Apr', 'May', 'Jun', 'Jul', 'Aug', 'Sep', 'Oct', 'Nov']\n",
    "\n",
    "fig, ax = plt.subplots(1, figsize = (14, 6))\n",
    "plt.plot(result_51_1['conv_rate_change'], linewidth = 4, color = 'black', marker = '.')\n",
    "ax.spines['top'].set_visible(False)\n",
    "ax.spines['right'].set_visible(False)\n",
    "ax.spines['bottom'].set_visible(False)\n",
    "ax.spines['left'].set_visible(False)\n",
    "plt.title('Conversion Rates Monthly Acceleration', size = 20)\n",
    "plt.xticks(positions, labels, fontsize = 14)\n",
    "plt.yticks(fontsize = 14)\n",
    "plt.ylabel('% Change', fontsize = 14)\n",
    "plt.axhline(0, color = 'grey')\n",
    "plt.show()"
   ]
  },
  {
   "cell_type": "markdown",
   "metadata": {},
   "source": [
    "Despite the good news about the increasing conversion rates of orders to website sessions in Gsearch, this growth has been weakened since its peak in July (except for August) and is roughly stagnant in the last two months. Here is something to be closely monitored during the next periods of time. "
   ]
  },
  {
   "cell_type": "markdown",
   "metadata": {},
   "source": [
    "---"
   ]
  },
  {
   "cell_type": "markdown",
   "metadata": {},
   "source": [
    "*2.\tNext, it would be great to see a similar monthly trend for Gsearch, but this time splitting out nonbrand and brand campaigns separately. I am wondering if brand is picking up at all. If so, this is a good story to tell.*"
   ]
  },
  {
   "cell_type": "code",
   "execution_count": 8,
   "metadata": {},
   "outputs": [
    {
     "data": {
      "text/html": [
       "<div>\n",
       "<style scoped>\n",
       "    .dataframe tbody tr th:only-of-type {\n",
       "        vertical-align: middle;\n",
       "    }\n",
       "\n",
       "    .dataframe tbody tr th {\n",
       "        vertical-align: top;\n",
       "    }\n",
       "\n",
       "    .dataframe thead th {\n",
       "        text-align: right;\n",
       "    }\n",
       "</style>\n",
       "<table border=\"1\" class=\"dataframe\">\n",
       "  <thead>\n",
       "    <tr style=\"text-align: right;\">\n",
       "      <th></th>\n",
       "      <th>month</th>\n",
       "      <th>nonbrand_sessions</th>\n",
       "      <th>nonbrand_orders</th>\n",
       "      <th>nonbrand_conversion</th>\n",
       "      <th>brand_sessions</th>\n",
       "      <th>brand_orders</th>\n",
       "      <th>brand_conversion</th>\n",
       "    </tr>\n",
       "  </thead>\n",
       "  <tbody>\n",
       "    <tr>\n",
       "      <th>0</th>\n",
       "      <td>3</td>\n",
       "      <td>1852</td>\n",
       "      <td>60</td>\n",
       "      <td>3.24</td>\n",
       "      <td>8</td>\n",
       "      <td>0</td>\n",
       "      <td>0.00</td>\n",
       "    </tr>\n",
       "    <tr>\n",
       "      <th>1</th>\n",
       "      <td>4</td>\n",
       "      <td>3509</td>\n",
       "      <td>86</td>\n",
       "      <td>2.45</td>\n",
       "      <td>65</td>\n",
       "      <td>6</td>\n",
       "      <td>9.23</td>\n",
       "    </tr>\n",
       "    <tr>\n",
       "      <th>2</th>\n",
       "      <td>5</td>\n",
       "      <td>3295</td>\n",
       "      <td>91</td>\n",
       "      <td>2.76</td>\n",
       "      <td>115</td>\n",
       "      <td>6</td>\n",
       "      <td>5.22</td>\n",
       "    </tr>\n",
       "    <tr>\n",
       "      <th>3</th>\n",
       "      <td>6</td>\n",
       "      <td>3439</td>\n",
       "      <td>114</td>\n",
       "      <td>3.31</td>\n",
       "      <td>139</td>\n",
       "      <td>7</td>\n",
       "      <td>5.04</td>\n",
       "    </tr>\n",
       "    <tr>\n",
       "      <th>4</th>\n",
       "      <td>7</td>\n",
       "      <td>3660</td>\n",
       "      <td>136</td>\n",
       "      <td>3.72</td>\n",
       "      <td>151</td>\n",
       "      <td>9</td>\n",
       "      <td>5.96</td>\n",
       "    </tr>\n",
       "    <tr>\n",
       "      <th>5</th>\n",
       "      <td>8</td>\n",
       "      <td>4673</td>\n",
       "      <td>174</td>\n",
       "      <td>3.72</td>\n",
       "      <td>204</td>\n",
       "      <td>10</td>\n",
       "      <td>4.90</td>\n",
       "    </tr>\n",
       "    <tr>\n",
       "      <th>6</th>\n",
       "      <td>9</td>\n",
       "      <td>4227</td>\n",
       "      <td>172</td>\n",
       "      <td>4.07</td>\n",
       "      <td>264</td>\n",
       "      <td>16</td>\n",
       "      <td>6.06</td>\n",
       "    </tr>\n",
       "    <tr>\n",
       "      <th>7</th>\n",
       "      <td>10</td>\n",
       "      <td>5197</td>\n",
       "      <td>219</td>\n",
       "      <td>4.21</td>\n",
       "      <td>337</td>\n",
       "      <td>15</td>\n",
       "      <td>4.45</td>\n",
       "    </tr>\n",
       "    <tr>\n",
       "      <th>8</th>\n",
       "      <td>11</td>\n",
       "      <td>8506</td>\n",
       "      <td>356</td>\n",
       "      <td>4.19</td>\n",
       "      <td>383</td>\n",
       "      <td>17</td>\n",
       "      <td>4.44</td>\n",
       "    </tr>\n",
       "  </tbody>\n",
       "</table>\n",
       "</div>"
      ],
      "text/plain": [
       "   month  nonbrand_sessions  nonbrand_orders  nonbrand_conversion  \\\n",
       "0      3               1852               60                 3.24   \n",
       "1      4               3509               86                 2.45   \n",
       "2      5               3295               91                 2.76   \n",
       "3      6               3439              114                 3.31   \n",
       "4      7               3660              136                 3.72   \n",
       "5      8               4673              174                 3.72   \n",
       "6      9               4227              172                 4.07   \n",
       "7     10               5197              219                 4.21   \n",
       "8     11               8506              356                 4.19   \n",
       "\n",
       "   brand_sessions  brand_orders  brand_conversion  \n",
       "0               8             0              0.00  \n",
       "1              65             6              9.23  \n",
       "2             115             6              5.22  \n",
       "3             139             7              5.04  \n",
       "4             151             9              5.96  \n",
       "5             204            10              4.90  \n",
       "6             264            16              6.06  \n",
       "7             337            15              4.45  \n",
       "8             383            17              4.44  "
      ]
     },
     "execution_count": 8,
     "metadata": {},
     "output_type": "execute_result"
    }
   ],
   "source": [
    "query_51_2 = '''\n",
    "SELECT\n",
    "    MONTH(ws.created_at) AS 'month', \n",
    "    COUNT(DISTINCT CASE WHEN utm_campaign = 'nonbrand' THEN ws.website_session_id ELSE NULL END) AS nonbrand_sessions, \n",
    "    COUNT(DISTINCT CASE WHEN utm_campaign = 'nonbrand' THEN o.order_id ELSE NULL END) AS nonbrand_orders,\n",
    "    ROUND((COUNT(DISTINCT CASE WHEN utm_campaign = 'nonbrand' THEN o.order_id ELSE NULL END)/\n",
    "            COUNT(DISTINCT CASE WHEN utm_campaign = 'nonbrand' THEN ws.website_session_id ELSE NULL END)) * 100, 2) AS nonbrand_conversion,\n",
    "    COUNT(DISTINCT CASE WHEN utm_campaign = 'brand' THEN ws.website_session_id ELSE NULL END) AS brand_sessions, \n",
    "    COUNT(DISTINCT CASE WHEN utm_campaign = 'brand' THEN o.order_id ELSE NULL END) AS brand_orders,\n",
    "    ROUND((COUNT(DISTINCT CASE WHEN utm_campaign = 'brand' THEN o.order_id ELSE NULL END)/\n",
    "            COUNT(DISTINCT CASE WHEN utm_campaign = 'brand' THEN ws.website_session_id ELSE NULL END)) * 100, 2) AS brand_conversion\n",
    "FROM website_sessions ws\n",
    "LEFT JOIN orders o ON o.website_session_id = ws.website_session_id\n",
    "WHERE \n",
    "    ws.created_at < '2012-11-27'\n",
    "    AND ws.utm_source = 'gsearch'\n",
    "GROUP BY 1; \n",
    "'''\n",
    "\n",
    "#Observations about the query:\n",
    "# - Very similar to the previous exercise, except this time the analysis is segregated by utm-source\n",
    "\n",
    "result_51_2 = pd.read_sql_query(query_51_2, mydb)\n",
    "result_51_2"
   ]
  },
  {
   "cell_type": "code",
   "execution_count": 9,
   "metadata": {},
   "outputs": [
    {
     "data": {
      "text/html": [
       "<div>\n",
       "<style scoped>\n",
       "    .dataframe tbody tr th:only-of-type {\n",
       "        vertical-align: middle;\n",
       "    }\n",
       "\n",
       "    .dataframe tbody tr th {\n",
       "        vertical-align: top;\n",
       "    }\n",
       "\n",
       "    .dataframe thead th {\n",
       "        text-align: right;\n",
       "    }\n",
       "</style>\n",
       "<table border=\"1\" class=\"dataframe\">\n",
       "  <thead>\n",
       "    <tr style=\"text-align: right;\">\n",
       "      <th></th>\n",
       "      <th>nonbrand_sessions</th>\n",
       "      <th>nonbrand_orders</th>\n",
       "      <th>nonbrand_conversion</th>\n",
       "      <th>brand_sessions</th>\n",
       "      <th>brand_orders</th>\n",
       "      <th>brand_conversion</th>\n",
       "    </tr>\n",
       "    <tr>\n",
       "      <th>month</th>\n",
       "      <th></th>\n",
       "      <th></th>\n",
       "      <th></th>\n",
       "      <th></th>\n",
       "      <th></th>\n",
       "      <th></th>\n",
       "    </tr>\n",
       "  </thead>\n",
       "  <tbody>\n",
       "    <tr>\n",
       "      <th>3</th>\n",
       "      <td>1852</td>\n",
       "      <td>60</td>\n",
       "      <td>3.24</td>\n",
       "      <td>8</td>\n",
       "      <td>0</td>\n",
       "      <td>0.00</td>\n",
       "    </tr>\n",
       "    <tr>\n",
       "      <th>4</th>\n",
       "      <td>3509</td>\n",
       "      <td>86</td>\n",
       "      <td>2.45</td>\n",
       "      <td>65</td>\n",
       "      <td>6</td>\n",
       "      <td>9.23</td>\n",
       "    </tr>\n",
       "    <tr>\n",
       "      <th>5</th>\n",
       "      <td>3295</td>\n",
       "      <td>91</td>\n",
       "      <td>2.76</td>\n",
       "      <td>115</td>\n",
       "      <td>6</td>\n",
       "      <td>5.22</td>\n",
       "    </tr>\n",
       "    <tr>\n",
       "      <th>6</th>\n",
       "      <td>3439</td>\n",
       "      <td>114</td>\n",
       "      <td>3.31</td>\n",
       "      <td>139</td>\n",
       "      <td>7</td>\n",
       "      <td>5.04</td>\n",
       "    </tr>\n",
       "    <tr>\n",
       "      <th>7</th>\n",
       "      <td>3660</td>\n",
       "      <td>136</td>\n",
       "      <td>3.72</td>\n",
       "      <td>151</td>\n",
       "      <td>9</td>\n",
       "      <td>5.96</td>\n",
       "    </tr>\n",
       "    <tr>\n",
       "      <th>8</th>\n",
       "      <td>4673</td>\n",
       "      <td>174</td>\n",
       "      <td>3.72</td>\n",
       "      <td>204</td>\n",
       "      <td>10</td>\n",
       "      <td>4.90</td>\n",
       "    </tr>\n",
       "    <tr>\n",
       "      <th>9</th>\n",
       "      <td>4227</td>\n",
       "      <td>172</td>\n",
       "      <td>4.07</td>\n",
       "      <td>264</td>\n",
       "      <td>16</td>\n",
       "      <td>6.06</td>\n",
       "    </tr>\n",
       "    <tr>\n",
       "      <th>10</th>\n",
       "      <td>5197</td>\n",
       "      <td>219</td>\n",
       "      <td>4.21</td>\n",
       "      <td>337</td>\n",
       "      <td>15</td>\n",
       "      <td>4.45</td>\n",
       "    </tr>\n",
       "    <tr>\n",
       "      <th>11</th>\n",
       "      <td>8506</td>\n",
       "      <td>356</td>\n",
       "      <td>4.19</td>\n",
       "      <td>383</td>\n",
       "      <td>17</td>\n",
       "      <td>4.44</td>\n",
       "    </tr>\n",
       "  </tbody>\n",
       "</table>\n",
       "</div>"
      ],
      "text/plain": [
       "       nonbrand_sessions  nonbrand_orders  nonbrand_conversion  \\\n",
       "month                                                            \n",
       "3                   1852               60                 3.24   \n",
       "4                   3509               86                 2.45   \n",
       "5                   3295               91                 2.76   \n",
       "6                   3439              114                 3.31   \n",
       "7                   3660              136                 3.72   \n",
       "8                   4673              174                 3.72   \n",
       "9                   4227              172                 4.07   \n",
       "10                  5197              219                 4.21   \n",
       "11                  8506              356                 4.19   \n",
       "\n",
       "       brand_sessions  brand_orders  brand_conversion  \n",
       "month                                                  \n",
       "3                   8             0              0.00  \n",
       "4                  65             6              9.23  \n",
       "5                 115             6              5.22  \n",
       "6                 139             7              5.04  \n",
       "7                 151             9              5.96  \n",
       "8                 204            10              4.90  \n",
       "9                 264            16              6.06  \n",
       "10                337            15              4.45  \n",
       "11                383            17              4.44  "
      ]
     },
     "execution_count": 9,
     "metadata": {},
     "output_type": "execute_result"
    }
   ],
   "source": [
    "result_51_2.set_index('month')"
   ]
  },
  {
   "cell_type": "code",
   "execution_count": 10,
   "metadata": {},
   "outputs": [
    {
     "data": {
      "image/png": "[encoded data removed]",
      "text/plain": [
       "<Figure size 1008x432 with 1 Axes>"
      ]
     },
     "metadata": {
      "needs_background": "light"
     },
     "output_type": "display_data"
    }
   ],
   "source": [
    "# Plotting conversion rates monthly trend\n",
    "\n",
    "fig = plt.figure(figsize = (14, 6))\n",
    "ax = fig.add_subplot(111)\n",
    "plt.title('Comparison of Conversion Rates: Brand x Nonbrand', size = 20)\n",
    "ax.spines['top'].set_visible(False)\n",
    "ax.spines['right'].set_visible(False)\n",
    "ax.spines['bottom'].set_visible(False)\n",
    "ax.spines['left'].set_visible(False)\n",
    "plt.xticks(positions, labels, fontsize = 14)\n",
    "plt.yticks(fontsize = 14)\n",
    "ax.plot(result_51_2['brand_conversion'], c = 'darkblue', linewidth = 4, label = 'brand')\n",
    "ax.plot(result_51_2['nonbrand_conversion'], c = 'blue', linewidth = 2, label = 'nonbrand')\n",
    "plt.legend(fontsize = 18)\n",
    "plt.show()"
   ]
  },
  {
   "cell_type": "markdown",
   "metadata": {},
   "source": [
    "As suspected, brand campaigns picked up, but only for a while. After strong conversion rates in April, it diminished and remained stagnant between May and September although with numbers superior to nonbrand campaigns. \n",
    "\n",
    "In the last two months, however, brand campaigns rates converged to the same level of nonbrand campaigns."
   ]
  },
  {
   "cell_type": "markdown",
   "metadata": {},
   "source": [
    "---"
   ]
  },
  {
   "cell_type": "markdown",
   "metadata": {},
   "source": [
    "*3.\tWhile we’re on Gsearch, could you dive into nonbrand, and pull monthly sessions and orders split by device type? I want to flex our analytical muscles a little and show the board we really know our traffic sources.*"
   ]
  },
  {
   "cell_type": "code",
   "execution_count": 11,
   "metadata": {},
   "outputs": [
    {
     "data": {
      "text/html": [
       "<div>\n",
       "<style scoped>\n",
       "    .dataframe tbody tr th:only-of-type {\n",
       "        vertical-align: middle;\n",
       "    }\n",
       "\n",
       "    .dataframe tbody tr th {\n",
       "        vertical-align: top;\n",
       "    }\n",
       "\n",
       "    .dataframe thead th {\n",
       "        text-align: right;\n",
       "    }\n",
       "</style>\n",
       "<table border=\"1\" class=\"dataframe\">\n",
       "  <thead>\n",
       "    <tr style=\"text-align: right;\">\n",
       "      <th></th>\n",
       "      <th>month</th>\n",
       "      <th>desktop_sessions</th>\n",
       "      <th>desktop_orders</th>\n",
       "      <th>desktop_conversion</th>\n",
       "      <th>mobile_sessions</th>\n",
       "      <th>mobile_orders</th>\n",
       "      <th>mobile_conversion</th>\n",
       "    </tr>\n",
       "  </thead>\n",
       "  <tbody>\n",
       "    <tr>\n",
       "      <th>0</th>\n",
       "      <td>3</td>\n",
       "      <td>1128</td>\n",
       "      <td>50</td>\n",
       "      <td>4.43</td>\n",
       "      <td>724</td>\n",
       "      <td>10</td>\n",
       "      <td>1.38</td>\n",
       "    </tr>\n",
       "    <tr>\n",
       "      <th>1</th>\n",
       "      <td>4</td>\n",
       "      <td>2139</td>\n",
       "      <td>75</td>\n",
       "      <td>3.51</td>\n",
       "      <td>1370</td>\n",
       "      <td>11</td>\n",
       "      <td>0.80</td>\n",
       "    </tr>\n",
       "    <tr>\n",
       "      <th>2</th>\n",
       "      <td>5</td>\n",
       "      <td>2276</td>\n",
       "      <td>83</td>\n",
       "      <td>3.65</td>\n",
       "      <td>1019</td>\n",
       "      <td>8</td>\n",
       "      <td>0.79</td>\n",
       "    </tr>\n",
       "    <tr>\n",
       "      <th>3</th>\n",
       "      <td>6</td>\n",
       "      <td>2673</td>\n",
       "      <td>106</td>\n",
       "      <td>3.97</td>\n",
       "      <td>766</td>\n",
       "      <td>8</td>\n",
       "      <td>1.04</td>\n",
       "    </tr>\n",
       "    <tr>\n",
       "      <th>4</th>\n",
       "      <td>7</td>\n",
       "      <td>2774</td>\n",
       "      <td>122</td>\n",
       "      <td>4.40</td>\n",
       "      <td>886</td>\n",
       "      <td>14</td>\n",
       "      <td>1.58</td>\n",
       "    </tr>\n",
       "    <tr>\n",
       "      <th>5</th>\n",
       "      <td>8</td>\n",
       "      <td>3515</td>\n",
       "      <td>165</td>\n",
       "      <td>4.69</td>\n",
       "      <td>1158</td>\n",
       "      <td>9</td>\n",
       "      <td>0.78</td>\n",
       "    </tr>\n",
       "    <tr>\n",
       "      <th>6</th>\n",
       "      <td>9</td>\n",
       "      <td>3171</td>\n",
       "      <td>155</td>\n",
       "      <td>4.89</td>\n",
       "      <td>1056</td>\n",
       "      <td>17</td>\n",
       "      <td>1.61</td>\n",
       "    </tr>\n",
       "    <tr>\n",
       "      <th>7</th>\n",
       "      <td>10</td>\n",
       "      <td>3934</td>\n",
       "      <td>201</td>\n",
       "      <td>5.11</td>\n",
       "      <td>1263</td>\n",
       "      <td>18</td>\n",
       "      <td>1.43</td>\n",
       "    </tr>\n",
       "    <tr>\n",
       "      <th>8</th>\n",
       "      <td>11</td>\n",
       "      <td>6457</td>\n",
       "      <td>323</td>\n",
       "      <td>5.00</td>\n",
       "      <td>2049</td>\n",
       "      <td>33</td>\n",
       "      <td>1.61</td>\n",
       "    </tr>\n",
       "  </tbody>\n",
       "</table>\n",
       "</div>"
      ],
      "text/plain": [
       "   month  desktop_sessions  desktop_orders  desktop_conversion  \\\n",
       "0      3              1128              50                4.43   \n",
       "1      4              2139              75                3.51   \n",
       "2      5              2276              83                3.65   \n",
       "3      6              2673             106                3.97   \n",
       "4      7              2774             122                4.40   \n",
       "5      8              3515             165                4.69   \n",
       "6      9              3171             155                4.89   \n",
       "7     10              3934             201                5.11   \n",
       "8     11              6457             323                5.00   \n",
       "\n",
       "   mobile_sessions  mobile_orders  mobile_conversion  \n",
       "0              724             10               1.38  \n",
       "1             1370             11               0.80  \n",
       "2             1019              8               0.79  \n",
       "3              766              8               1.04  \n",
       "4              886             14               1.58  \n",
       "5             1158              9               0.78  \n",
       "6             1056             17               1.61  \n",
       "7             1263             18               1.43  \n",
       "8             2049             33               1.61  "
      ]
     },
     "execution_count": 11,
     "metadata": {},
     "output_type": "execute_result"
    }
   ],
   "source": [
    "query_51_3 = '''\n",
    "SELECT\n",
    "    MONTH(ws.created_at) AS 'month', \n",
    "    COUNT(DISTINCT CASE WHEN device_type = 'desktop' THEN ws.website_session_id ELSE NULL END) AS desktop_sessions, \n",
    "    COUNT(DISTINCT CASE WHEN device_type = 'desktop' THEN o.order_id ELSE NULL END) AS desktop_orders,\n",
    "    ROUND((COUNT(DISTINCT CASE WHEN device_type = 'desktop' THEN o.order_id ELSE NULL END)/\n",
    "            COUNT(DISTINCT CASE WHEN device_type = 'desktop' THEN ws.website_session_id ELSE NULL END)) * 100, 2) AS desktop_conversion,\n",
    "    COUNT(DISTINCT CASE WHEN device_type = 'mobile' THEN ws.website_session_id ELSE NULL END) AS mobile_sessions, \n",
    "    COUNT(DISTINCT CASE WHEN device_type = 'mobile' THEN o.order_id ELSE NULL END) AS mobile_orders,\n",
    "    ROUND((COUNT(DISTINCT CASE WHEN device_type = 'mobile' THEN o.order_id ELSE NULL END)/\n",
    "            COUNT(DISTINCT CASE WHEN device_type = 'mobile' THEN ws.website_session_id ELSE NULL END)) * 100, 2) AS mobile_conversion\n",
    "FROM website_sessions ws\n",
    "LEFT JOIN orders o ON o.website_session_id = ws.website_session_id\n",
    "WHERE \n",
    "    ws.created_at < '2012-11-27'\n",
    "    AND ws.utm_source = 'gsearch'\n",
    "    AND ws.utm_campaign = 'nonbrand'\n",
    "GROUP BY 1; \n",
    "'''\n",
    "result_51_3 = pd.read_sql_query(query_51_3, mydb)\n",
    "result_51_3"
   ]
  },
  {
   "cell_type": "markdown",
   "metadata": {},
   "source": [
    "There are multiple ways to analyze this result. First, let's take a look at orders' growth rate for each type of device in order to assess significant differences:"
   ]
  },
  {
   "cell_type": "code",
   "execution_count": 12,
   "metadata": {},
   "outputs": [
    {
     "name": "stdout",
     "output_type": "stream",
     "text": [
      "546.0 %\n"
     ]
    }
   ],
   "source": [
    "# Desktop orders' growth rate between March and November\n",
    "\n",
    "desktop_orders_growth = np.round(((result_51_3['desktop_orders'].iloc[-1]\n",
    "                                  /result_51_3['desktop_orders'].iloc[0]) - 1) * 100, 2)\n",
    "\n",
    "print(desktop_orders_growth,'%')"
   ]
  },
  {
   "cell_type": "code",
   "execution_count": 13,
   "metadata": {},
   "outputs": [
    {
     "name": "stdout",
     "output_type": "stream",
     "text": [
      "230.0 %\n"
     ]
    }
   ],
   "source": [
    "# Mobile orders' growth rate between March and November\n",
    "\n",
    "mobile_orders_growth = np.round(((result_51_3['mobile_orders'].iloc[-1]\n",
    "                                  /result_51_3['mobile_orders'].iloc[0]) - 1) * 100, 2)\n",
    "\n",
    "print(mobile_orders_growth,'%')"
   ]
  },
  {
   "cell_type": "markdown",
   "metadata": {},
   "source": [
    "Desktop orders' are not only higher in absolute terms, but also shows a stronger growth rate (546%) throughout the period in comparision with Mobile (230%). The result indicates the Desktop orders' grew approximately 2.5x faster than Mobile orders'."
   ]
  },
  {
   "cell_type": "markdown",
   "metadata": {},
   "source": [
    "Even though desktop is the device with higher orders' growth rate, is it more efficient with regards to conversion rates? This question can be answered with a comparative plot between both devices:"
   ]
  },
  {
   "cell_type": "code",
   "execution_count": 14,
   "metadata": {
    "scrolled": false
   },
   "outputs": [
    {
     "data": {
      "image/png": "[encoded data removed]",
      "text/plain": [
       "<Figure size 1008x432 with 1 Axes>"
      ]
     },
     "metadata": {
      "needs_background": "light"
     },
     "output_type": "display_data"
    }
   ],
   "source": [
    "# Plotting the nonbrand conversion rates comparison between Desktop and Mobile\n",
    "\n",
    "fig = plt.figure(figsize = (14, 6))\n",
    "ax = fig.add_subplot(111)\n",
    "plt.title('Comparison of Nonbrand Conversion Rates: Desktop x Mobile', size = 20)\n",
    "ax.spines['top'].set_visible(False)\n",
    "ax.spines['right'].set_visible(False)\n",
    "ax.spines['bottom'].set_visible(False)\n",
    "ax.spines['left'].set_visible(False)\n",
    "plt.xticks(positions, labels, fontsize = 14)\n",
    "plt.yticks(fontsize = 14)\n",
    "ax.plot(result_51_3['desktop_conversion'], c = 'darkred', linewidth = 4, label = 'Desktop')\n",
    "ax.plot(result_51_3['mobile_conversion'], c = 'red', linewidth = 2, label = 'Mobile')\n",
    "plt.legend(fontsize = 18)\n",
    "plt.show()"
   ]
  },
  {
   "cell_type": "markdown",
   "metadata": {},
   "source": [
    "Indeed, Desktop has been shown to be more engaging and efficient than Mobile in nonbrand campaign."
   ]
  },
  {
   "cell_type": "markdown",
   "metadata": {},
   "source": [
    "---"
   ]
  },
  {
   "cell_type": "markdown",
   "metadata": {},
   "source": [
    "*4. I'm worried that one of our more pessimistic board members may be concerned about the large % of traffic from Gsearch. Can you pull monthly trends for Gsearch, alongside monthly trends for each of our other channels?*"
   ]
  },
  {
   "cell_type": "code",
   "execution_count": 15,
   "metadata": {},
   "outputs": [
    {
     "data": {
      "text/html": [
       "<div>\n",
       "<style scoped>\n",
       "    .dataframe tbody tr th:only-of-type {\n",
       "        vertical-align: middle;\n",
       "    }\n",
       "\n",
       "    .dataframe tbody tr th {\n",
       "        vertical-align: top;\n",
       "    }\n",
       "\n",
       "    .dataframe thead th {\n",
       "        text-align: right;\n",
       "    }\n",
       "</style>\n",
       "<table border=\"1\" class=\"dataframe\">\n",
       "  <thead>\n",
       "    <tr style=\"text-align: right;\">\n",
       "      <th></th>\n",
       "      <th>utm_source</th>\n",
       "      <th>utm_campaign</th>\n",
       "      <th>http_referer</th>\n",
       "    </tr>\n",
       "  </thead>\n",
       "  <tbody>\n",
       "    <tr>\n",
       "      <th>0</th>\n",
       "      <td>gsearch</td>\n",
       "      <td>nonbrand</td>\n",
       "      <td>https://www.gsearch.com</td>\n",
       "    </tr>\n",
       "    <tr>\n",
       "      <th>1</th>\n",
       "      <td>None</td>\n",
       "      <td>None</td>\n",
       "      <td>None</td>\n",
       "    </tr>\n",
       "    <tr>\n",
       "      <th>2</th>\n",
       "      <td>gsearch</td>\n",
       "      <td>brand</td>\n",
       "      <td>https://www.gsearch.com</td>\n",
       "    </tr>\n",
       "    <tr>\n",
       "      <th>3</th>\n",
       "      <td>None</td>\n",
       "      <td>None</td>\n",
       "      <td>https://www.gsearch.com</td>\n",
       "    </tr>\n",
       "    <tr>\n",
       "      <th>4</th>\n",
       "      <td>bsearch</td>\n",
       "      <td>brand</td>\n",
       "      <td>https://www.bsearch.com</td>\n",
       "    </tr>\n",
       "    <tr>\n",
       "      <th>5</th>\n",
       "      <td>None</td>\n",
       "      <td>None</td>\n",
       "      <td>https://www.bsearch.com</td>\n",
       "    </tr>\n",
       "    <tr>\n",
       "      <th>6</th>\n",
       "      <td>bsearch</td>\n",
       "      <td>nonbrand</td>\n",
       "      <td>https://www.bsearch.com</td>\n",
       "    </tr>\n",
       "  </tbody>\n",
       "</table>\n",
       "</div>"
      ],
      "text/plain": [
       "  utm_source utm_campaign             http_referer\n",
       "0    gsearch     nonbrand  https://www.gsearch.com\n",
       "1       None         None                     None\n",
       "2    gsearch        brand  https://www.gsearch.com\n",
       "3       None         None  https://www.gsearch.com\n",
       "4    bsearch        brand  https://www.bsearch.com\n",
       "5       None         None  https://www.bsearch.com\n",
       "6    bsearch     nonbrand  https://www.bsearch.com"
      ]
     },
     "execution_count": 15,
     "metadata": {},
     "output_type": "execute_result"
    }
   ],
   "source": [
    "# Identifying the various utm sources and referrers\n",
    "\n",
    "pd.read_sql_query(\n",
    "    '''SELECT DISTINCT\n",
    "    utm_source,\n",
    "    utm_campaign, \n",
    "    http_referer\n",
    "    FROM website_sessions\n",
    "    WHERE website_sessions.created_at < '2012-11-27';''', mydb)"
   ]
  },
  {
   "cell_type": "code",
   "execution_count": 16,
   "metadata": {},
   "outputs": [
    {
     "data": {
      "text/html": [
       "<div>\n",
       "<style scoped>\n",
       "    .dataframe tbody tr th:only-of-type {\n",
       "        vertical-align: middle;\n",
       "    }\n",
       "\n",
       "    .dataframe tbody tr th {\n",
       "        vertical-align: top;\n",
       "    }\n",
       "\n",
       "    .dataframe thead th {\n",
       "        text-align: right;\n",
       "    }\n",
       "</style>\n",
       "<table border=\"1\" class=\"dataframe\">\n",
       "  <thead>\n",
       "    <tr style=\"text-align: right;\">\n",
       "      <th></th>\n",
       "      <th>month</th>\n",
       "      <th>gsearch_paid_sessions</th>\n",
       "      <th>bsearch_paid_sessions</th>\n",
       "      <th>organic_search_sessions</th>\n",
       "      <th>direct_type_in_sessions</th>\n",
       "    </tr>\n",
       "  </thead>\n",
       "  <tbody>\n",
       "    <tr>\n",
       "      <th>0</th>\n",
       "      <td>3</td>\n",
       "      <td>1860</td>\n",
       "      <td>2</td>\n",
       "      <td>8</td>\n",
       "      <td>9</td>\n",
       "    </tr>\n",
       "    <tr>\n",
       "      <th>1</th>\n",
       "      <td>4</td>\n",
       "      <td>3574</td>\n",
       "      <td>11</td>\n",
       "      <td>78</td>\n",
       "      <td>71</td>\n",
       "    </tr>\n",
       "    <tr>\n",
       "      <th>2</th>\n",
       "      <td>5</td>\n",
       "      <td>3410</td>\n",
       "      <td>25</td>\n",
       "      <td>150</td>\n",
       "      <td>151</td>\n",
       "    </tr>\n",
       "    <tr>\n",
       "      <th>3</th>\n",
       "      <td>6</td>\n",
       "      <td>3578</td>\n",
       "      <td>25</td>\n",
       "      <td>190</td>\n",
       "      <td>170</td>\n",
       "    </tr>\n",
       "    <tr>\n",
       "      <th>4</th>\n",
       "      <td>7</td>\n",
       "      <td>3811</td>\n",
       "      <td>44</td>\n",
       "      <td>207</td>\n",
       "      <td>187</td>\n",
       "    </tr>\n",
       "    <tr>\n",
       "      <th>5</th>\n",
       "      <td>8</td>\n",
       "      <td>4877</td>\n",
       "      <td>705</td>\n",
       "      <td>265</td>\n",
       "      <td>250</td>\n",
       "    </tr>\n",
       "    <tr>\n",
       "      <th>6</th>\n",
       "      <td>9</td>\n",
       "      <td>4491</td>\n",
       "      <td>1439</td>\n",
       "      <td>331</td>\n",
       "      <td>285</td>\n",
       "    </tr>\n",
       "    <tr>\n",
       "      <th>7</th>\n",
       "      <td>10</td>\n",
       "      <td>5534</td>\n",
       "      <td>1781</td>\n",
       "      <td>428</td>\n",
       "      <td>440</td>\n",
       "    </tr>\n",
       "    <tr>\n",
       "      <th>8</th>\n",
       "      <td>11</td>\n",
       "      <td>8889</td>\n",
       "      <td>2840</td>\n",
       "      <td>536</td>\n",
       "      <td>485</td>\n",
       "    </tr>\n",
       "  </tbody>\n",
       "</table>\n",
       "</div>"
      ],
      "text/plain": [
       "   month  gsearch_paid_sessions  bsearch_paid_sessions  \\\n",
       "0      3                   1860                      2   \n",
       "1      4                   3574                     11   \n",
       "2      5                   3410                     25   \n",
       "3      6                   3578                     25   \n",
       "4      7                   3811                     44   \n",
       "5      8                   4877                    705   \n",
       "6      9                   4491                   1439   \n",
       "7     10                   5534                   1781   \n",
       "8     11                   8889                   2840   \n",
       "\n",
       "   organic_search_sessions  direct_type_in_sessions  \n",
       "0                        8                        9  \n",
       "1                       78                       71  \n",
       "2                      150                      151  \n",
       "3                      190                      170  \n",
       "4                      207                      187  \n",
       "5                      265                      250  \n",
       "6                      331                      285  \n",
       "7                      428                      440  \n",
       "8                      536                      485  "
      ]
     },
     "execution_count": 16,
     "metadata": {},
     "output_type": "execute_result"
    }
   ],
   "source": [
    "# Comparing organic and direct type sessions\n",
    "\n",
    "query_51_4 = '''\n",
    "SELECT\n",
    "    MONTH(ws.created_at) AS month, \n",
    "    COUNT(DISTINCT CASE WHEN utm_source = 'gsearch' THEN ws.website_session_id ELSE NULL END) AS gsearch_paid_sessions,\n",
    "    COUNT(DISTINCT CASE WHEN utm_source = 'bsearch' THEN ws.website_session_id ELSE NULL END) AS bsearch_paid_sessions,\n",
    "    COUNT(DISTINCT CASE WHEN utm_source IS NULL AND http_referer IS NOT NULL THEN ws.website_session_id ELSE NULL END) AS organic_search_sessions,\n",
    "    COUNT(DISTINCT CASE WHEN utm_source IS NULL AND http_referer IS NULL THEN ws.website_session_id ELSE NULL END) AS direct_type_in_sessions\n",
    "FROM website_sessions ws\n",
    "\tLEFT JOIN orders o ON o.website_session_id = ws.website_session_id\n",
    "WHERE ws.created_at < '2012-11-27'\n",
    "GROUP BY 1;\n",
    "'''\n",
    "\n",
    "result_51_4 = pd.read_sql_query(query_51_4, mydb)\n",
    "result_51_4"
   ]
  },
  {
   "cell_type": "markdown",
   "metadata": {},
   "source": [
    "Organic search and direct type sessions growth is deemed very positive because these are free channels for the company, whereas Gsearch and Bsearch imply a Customer Acquisition Cost (CAC), which reduces profit margins. \n",
    "\n",
    "A good approach is to compare the growth rate between all channels."
   ]
  },
  {
   "cell_type": "code",
   "execution_count": 17,
   "metadata": {},
   "outputs": [
    {
     "name": "stdout",
     "output_type": "stream",
     "text": [
      "377.9 %\n"
     ]
    }
   ],
   "source": [
    "# Calculating Gsearch Growth Rate\n",
    "\n",
    "g_search_growth_rate = np.round(((result_51_4['gsearch_paid_sessions'].iloc[-1]\n",
    "                                  /result_51_4['gsearch_paid_sessions'].iloc[0]) - 1) * 100, 2)\n",
    "\n",
    "\n",
    "print(g_search_growth_rate,'%')"
   ]
  },
  {
   "cell_type": "code",
   "execution_count": 18,
   "metadata": {},
   "outputs": [
    {
     "name": "stdout",
     "output_type": "stream",
     "text": [
      "141900.0 %\n"
     ]
    }
   ],
   "source": [
    "# Calculating Bsearch Growth Rate\n",
    "\n",
    "b_search_growth_rate = np.round(((result_51_4['bsearch_paid_sessions'].iloc[-1]\n",
    "                                  /result_51_4['bsearch_paid_sessions'].iloc[0]) - 1) * 100, 2)\n",
    "\n",
    "\n",
    "print(b_search_growth_rate,'%')"
   ]
  },
  {
   "cell_type": "code",
   "execution_count": 19,
   "metadata": {},
   "outputs": [
    {
     "name": "stdout",
     "output_type": "stream",
     "text": [
      "6600.0 %\n"
     ]
    }
   ],
   "source": [
    "# Calculating Organic Growth Rate\n",
    "\n",
    "organic_growth_rate = np.round(((result_51_4['organic_search_sessions'].iloc[-1]\n",
    "                                  /result_51_4['organic_search_sessions'].iloc[0]) - 1) * 100, 2)\n",
    "\n",
    "\n",
    "print(organic_growth_rate,'%')"
   ]
  },
  {
   "cell_type": "code",
   "execution_count": 20,
   "metadata": {},
   "outputs": [
    {
     "name": "stdout",
     "output_type": "stream",
     "text": [
      "5288.89 %\n"
     ]
    }
   ],
   "source": [
    "# Calculating Direct type Growth Rate\n",
    "\n",
    "direct_growth_rate = np.round(((result_51_4['direct_type_in_sessions'].iloc[-1]\n",
    "                                  /result_51_4['direct_type_in_sessions'].iloc[0]) - 1) * 100, 2)\n",
    "\n",
    "\n",
    "print(direct_growth_rate,'%')"
   ]
  },
  {
   "cell_type": "markdown",
   "metadata": {},
   "source": [
    "Addressing the concern of the pessimistic board member, Gsearch is not the fastest-growing acquisition channel. However, it is important to calculate Gsearch's share of sessions throughout the period"
   ]
  },
  {
   "cell_type": "code",
   "execution_count": 21,
   "metadata": {},
   "outputs": [
    {
     "data": {
      "text/html": [
       "<div>\n",
       "<style scoped>\n",
       "    .dataframe tbody tr th:only-of-type {\n",
       "        vertical-align: middle;\n",
       "    }\n",
       "\n",
       "    .dataframe tbody tr th {\n",
       "        vertical-align: top;\n",
       "    }\n",
       "\n",
       "    .dataframe thead th {\n",
       "        text-align: right;\n",
       "    }\n",
       "</style>\n",
       "<table border=\"1\" class=\"dataframe\">\n",
       "  <thead>\n",
       "    <tr style=\"text-align: right;\">\n",
       "      <th></th>\n",
       "      <th>month</th>\n",
       "      <th>gsearch_paid_sessions</th>\n",
       "      <th>bsearch_paid_sessions</th>\n",
       "      <th>organic_search_sessions</th>\n",
       "      <th>direct_type_in_sessions</th>\n",
       "      <th>gsearch_share</th>\n",
       "    </tr>\n",
       "  </thead>\n",
       "  <tbody>\n",
       "    <tr>\n",
       "      <th>0</th>\n",
       "      <td>3</td>\n",
       "      <td>1860</td>\n",
       "      <td>2</td>\n",
       "      <td>8</td>\n",
       "      <td>9</td>\n",
       "      <td>98.99</td>\n",
       "    </tr>\n",
       "    <tr>\n",
       "      <th>1</th>\n",
       "      <td>4</td>\n",
       "      <td>3574</td>\n",
       "      <td>11</td>\n",
       "      <td>78</td>\n",
       "      <td>71</td>\n",
       "      <td>95.72</td>\n",
       "    </tr>\n",
       "    <tr>\n",
       "      <th>2</th>\n",
       "      <td>5</td>\n",
       "      <td>3410</td>\n",
       "      <td>25</td>\n",
       "      <td>150</td>\n",
       "      <td>151</td>\n",
       "      <td>91.27</td>\n",
       "    </tr>\n",
       "    <tr>\n",
       "      <th>3</th>\n",
       "      <td>6</td>\n",
       "      <td>3578</td>\n",
       "      <td>25</td>\n",
       "      <td>190</td>\n",
       "      <td>170</td>\n",
       "      <td>90.29</td>\n",
       "    </tr>\n",
       "    <tr>\n",
       "      <th>4</th>\n",
       "      <td>7</td>\n",
       "      <td>3811</td>\n",
       "      <td>44</td>\n",
       "      <td>207</td>\n",
       "      <td>187</td>\n",
       "      <td>89.69</td>\n",
       "    </tr>\n",
       "    <tr>\n",
       "      <th>5</th>\n",
       "      <td>8</td>\n",
       "      <td>4877</td>\n",
       "      <td>705</td>\n",
       "      <td>265</td>\n",
       "      <td>250</td>\n",
       "      <td>79.99</td>\n",
       "    </tr>\n",
       "    <tr>\n",
       "      <th>6</th>\n",
       "      <td>9</td>\n",
       "      <td>4491</td>\n",
       "      <td>1439</td>\n",
       "      <td>331</td>\n",
       "      <td>285</td>\n",
       "      <td>68.61</td>\n",
       "    </tr>\n",
       "    <tr>\n",
       "      <th>7</th>\n",
       "      <td>10</td>\n",
       "      <td>5534</td>\n",
       "      <td>1781</td>\n",
       "      <td>428</td>\n",
       "      <td>440</td>\n",
       "      <td>67.63</td>\n",
       "    </tr>\n",
       "    <tr>\n",
       "      <th>8</th>\n",
       "      <td>11</td>\n",
       "      <td>8889</td>\n",
       "      <td>2840</td>\n",
       "      <td>536</td>\n",
       "      <td>485</td>\n",
       "      <td>69.72</td>\n",
       "    </tr>\n",
       "  </tbody>\n",
       "</table>\n",
       "</div>"
      ],
      "text/plain": [
       "   month  gsearch_paid_sessions  bsearch_paid_sessions  \\\n",
       "0      3                   1860                      2   \n",
       "1      4                   3574                     11   \n",
       "2      5                   3410                     25   \n",
       "3      6                   3578                     25   \n",
       "4      7                   3811                     44   \n",
       "5      8                   4877                    705   \n",
       "6      9                   4491                   1439   \n",
       "7     10                   5534                   1781   \n",
       "8     11                   8889                   2840   \n",
       "\n",
       "   organic_search_sessions  direct_type_in_sessions  gsearch_share  \n",
       "0                        8                        9          98.99  \n",
       "1                       78                       71          95.72  \n",
       "2                      150                      151          91.27  \n",
       "3                      190                      170          90.29  \n",
       "4                      207                      187          89.69  \n",
       "5                      265                      250          79.99  \n",
       "6                      331                      285          68.61  \n",
       "7                      428                      440          67.63  \n",
       "8                      536                      485          69.72  "
      ]
     },
     "execution_count": 21,
     "metadata": {},
     "output_type": "execute_result"
    }
   ],
   "source": [
    "# Adding a new column with Gsearch's share of sessions\n",
    "\n",
    "total = [result_51_4['gsearch_paid_sessions'],result_51_4['bsearch_paid_sessions'],\n",
    "         result_51_4['organic_search_sessions'],result_51_4['direct_type_in_sessions']]\n",
    "\n",
    "result_51_4['gsearch_share'] = np.round((result_51_4['gsearch_paid_sessions']/sum(total)) * 100, 2)\n",
    "\n",
    "result_51_4"
   ]
  },
  {
   "cell_type": "code",
   "execution_count": 22,
   "metadata": {},
   "outputs": [
    {
     "data": {
      "image/png": "[encoded data removed]",
      "text/plain": [
       "<Figure size 1008x432 with 1 Axes>"
      ]
     },
     "metadata": {
      "needs_background": "light"
     },
     "output_type": "display_data"
    }
   ],
   "source": [
    "# Plotting Gsearch's share of sessions\n",
    "\n",
    "fig = plt.figure(figsize = (14, 6))\n",
    "ax = fig.add_subplot(111)\n",
    "plt.plot(result_51_4['gsearch_share'], c = 'black', linewidth = 4)\n",
    "plt.title('Gsearch share of sessions throughout the period', size = 20)\n",
    "ax.spines['top'].set_visible(False)\n",
    "ax.spines['right'].set_visible(False)\n",
    "ax.spines['bottom'].set_visible(False)\n",
    "ax.spines['left'].set_visible(False)\n",
    "plt.xticks(positions, labels, fontsize = 14)\n",
    "plt.yticks(fontsize = 14)\n",
    "ax.yaxis.grid()\n",
    "\n",
    "plt.show()"
   ]
  },
  {
   "cell_type": "markdown",
   "metadata": {},
   "source": [
    "Although Gsearch is by far the most relevant channel in absolute terms, its share of total sessions has been declining over time, featuring a strong growth from organic sources. This is good news. \n",
    "\n",
    "Therefore, no reason for pessimism from the board members over this subject."
   ]
  },
  {
   "cell_type": "markdown",
   "metadata": {},
   "source": [
    "---"
   ]
  },
  {
   "cell_type": "markdown",
   "metadata": {},
   "source": [
    "*5.\tI’d like to tell the story of our website performance improvements over the course of the first 8 months. Could you pull session to order conversion rates, by month?*"
   ]
  },
  {
   "cell_type": "code",
   "execution_count": 23,
   "metadata": {},
   "outputs": [
    {
     "data": {
      "text/html": [
       "<div>\n",
       "<style scoped>\n",
       "    .dataframe tbody tr th:only-of-type {\n",
       "        vertical-align: middle;\n",
       "    }\n",
       "\n",
       "    .dataframe tbody tr th {\n",
       "        vertical-align: top;\n",
       "    }\n",
       "\n",
       "    .dataframe thead th {\n",
       "        text-align: right;\n",
       "    }\n",
       "</style>\n",
       "<table border=\"1\" class=\"dataframe\">\n",
       "  <thead>\n",
       "    <tr style=\"text-align: right;\">\n",
       "      <th></th>\n",
       "      <th>month</th>\n",
       "      <th>sessions</th>\n",
       "      <th>orders</th>\n",
       "      <th>conv_rate</th>\n",
       "    </tr>\n",
       "  </thead>\n",
       "  <tbody>\n",
       "    <tr>\n",
       "      <th>0</th>\n",
       "      <td>3</td>\n",
       "      <td>1879</td>\n",
       "      <td>60</td>\n",
       "      <td>3.19</td>\n",
       "    </tr>\n",
       "    <tr>\n",
       "      <th>1</th>\n",
       "      <td>4</td>\n",
       "      <td>3734</td>\n",
       "      <td>99</td>\n",
       "      <td>2.65</td>\n",
       "    </tr>\n",
       "    <tr>\n",
       "      <th>2</th>\n",
       "      <td>5</td>\n",
       "      <td>3736</td>\n",
       "      <td>108</td>\n",
       "      <td>2.89</td>\n",
       "    </tr>\n",
       "    <tr>\n",
       "      <th>3</th>\n",
       "      <td>6</td>\n",
       "      <td>3963</td>\n",
       "      <td>140</td>\n",
       "      <td>3.53</td>\n",
       "    </tr>\n",
       "    <tr>\n",
       "      <th>4</th>\n",
       "      <td>7</td>\n",
       "      <td>4249</td>\n",
       "      <td>169</td>\n",
       "      <td>3.98</td>\n",
       "    </tr>\n",
       "    <tr>\n",
       "      <th>5</th>\n",
       "      <td>8</td>\n",
       "      <td>6097</td>\n",
       "      <td>228</td>\n",
       "      <td>3.74</td>\n",
       "    </tr>\n",
       "    <tr>\n",
       "      <th>6</th>\n",
       "      <td>9</td>\n",
       "      <td>6546</td>\n",
       "      <td>287</td>\n",
       "      <td>4.38</td>\n",
       "    </tr>\n",
       "    <tr>\n",
       "      <th>7</th>\n",
       "      <td>10</td>\n",
       "      <td>8183</td>\n",
       "      <td>371</td>\n",
       "      <td>4.53</td>\n",
       "    </tr>\n",
       "    <tr>\n",
       "      <th>8</th>\n",
       "      <td>11</td>\n",
       "      <td>12750</td>\n",
       "      <td>561</td>\n",
       "      <td>4.40</td>\n",
       "    </tr>\n",
       "  </tbody>\n",
       "</table>\n",
       "</div>"
      ],
      "text/plain": [
       "   month  sessions  orders  conv_rate\n",
       "0      3      1879      60       3.19\n",
       "1      4      3734      99       2.65\n",
       "2      5      3736     108       2.89\n",
       "3      6      3963     140       3.53\n",
       "4      7      4249     169       3.98\n",
       "5      8      6097     228       3.74\n",
       "6      9      6546     287       4.38\n",
       "7     10      8183     371       4.53\n",
       "8     11     12750     561       4.40"
      ]
     },
     "execution_count": 23,
     "metadata": {},
     "output_type": "execute_result"
    }
   ],
   "source": [
    "query_51_5 = '''\n",
    " SELECT\n",
    "    MONTH(ws.created_at) AS month, \n",
    "    COUNT(DISTINCT ws.website_session_id) AS sessions, \n",
    "    COUNT(DISTINCT o.order_id) AS orders, \n",
    "    ROUND((COUNT(DISTINCT o.order_id)/COUNT(DISTINCT ws.website_session_id) * 100), 2) AS conv_rate    \n",
    "FROM website_sessions ws\n",
    "\tLEFT JOIN orders o ON o.website_session_id = ws.website_session_id\n",
    "WHERE ws.created_at < '2012-11-27'\n",
    "GROUP BY 1;\n",
    " '''\n",
    "\n",
    "result_51_5 = pd.read_sql_query(query_51_5, mydb)\n",
    "result_51_5"
   ]
  },
  {
   "cell_type": "markdown",
   "metadata": {},
   "source": [
    "This is very similar to question 1, so this analysis will be short and straightforward."
   ]
  },
  {
   "cell_type": "code",
   "execution_count": 24,
   "metadata": {},
   "outputs": [
    {
     "data": {
      "image/png": "[encoded data removed]",
      "text/plain": [
       "<Figure size 1008x432 with 1 Axes>"
      ]
     },
     "metadata": {
      "needs_background": "light"
     },
     "output_type": "display_data"
    }
   ],
   "source": [
    "fig, ax = plt.subplots(1, figsize = (14, 6))\n",
    "plt.plot(result_51_5['conv_rate'], linewidth = 3, color = 'darkblue', marker = '^')\n",
    "plt.title('Session to Order Conversion Rates', size = 20)\n",
    "ax.spines['top'].set_visible(False)\n",
    "ax.spines['right'].set_visible(False)\n",
    "ax.spines['bottom'].set_visible(False)\n",
    "ax.spines['left'].set_visible(False)\n",
    "plt.xticks(positions, labels, fontsize = 14)\n",
    "plt.yticks(fontsize = 14)\n",
    "plt.ylabel('% Conversion', fontsize = 14)\n",
    "plt.show()"
   ]
  },
  {
   "cell_type": "markdown",
   "metadata": {},
   "source": [
    "Session to order conversion rate has been increasing throughout the period."
   ]
  },
  {
   "cell_type": "markdown",
   "metadata": {},
   "source": [
    "---"
   ]
  },
  {
   "cell_type": "markdown",
   "metadata": {},
   "source": [
    "*6. For the gsearch lander test, please estimate the revenue that test earned us (Hint: Look at the increase in CVR from the test (Jun 19 – Jul 28), and use nonbrand sessions and revenue since then to calculate incremental value)*"
   ]
  },
  {
   "cell_type": "code",
   "execution_count": 25,
   "metadata": {},
   "outputs": [
    {
     "data": {
      "text/html": [
       "<div>\n",
       "<style scoped>\n",
       "    .dataframe tbody tr th:only-of-type {\n",
       "        vertical-align: middle;\n",
       "    }\n",
       "\n",
       "    .dataframe tbody tr th {\n",
       "        vertical-align: top;\n",
       "    }\n",
       "\n",
       "    .dataframe thead th {\n",
       "        text-align: right;\n",
       "    }\n",
       "</style>\n",
       "<table border=\"1\" class=\"dataframe\">\n",
       "  <thead>\n",
       "    <tr style=\"text-align: right;\">\n",
       "      <th></th>\n",
       "      <th>first_test_pv</th>\n",
       "    </tr>\n",
       "  </thead>\n",
       "  <tbody>\n",
       "    <tr>\n",
       "      <th>0</th>\n",
       "      <td>23504</td>\n",
       "    </tr>\n",
       "  </tbody>\n",
       "</table>\n",
       "</div>"
      ],
      "text/plain": [
       "   first_test_pv\n",
       "0          23504"
      ]
     },
     "execution_count": 25,
     "metadata": {},
     "output_type": "execute_result"
    }
   ],
   "source": [
    "# Identifying first test of pageview lander-1\n",
    "\n",
    "pd.read_sql_query('''\n",
    "    SELECT\n",
    "    MIN(website_pageview_id) AS first_test_pv\n",
    "    FROM website_pageviews\n",
    "    WHERE pageview_url = '/lander-1';\n",
    "    ''', mydb)"
   ]
  },
  {
   "cell_type": "markdown",
   "metadata": {},
   "source": [
    "For this exercise, a slightly different method will be used to fetch queries because of the creation of temporary tables. Beyond that, the code will be divided in three blocks for a clearer understanding. "
   ]
  },
  {
   "cell_type": "code",
   "execution_count": 26,
   "metadata": {
    "scrolled": false
   },
   "outputs": [],
   "source": [
    "cursor = mydb.cursor()\n",
    "\n",
    "# First pageview_id of each session\n",
    "cursor.execute('''\n",
    "CREATE TEMPORARY TABLE first_test_pageviews\n",
    "SELECT\n",
    "\twp.website_session_id, \n",
    "    MIN(wp.website_pageview_id) AS min_pageview_id\n",
    "FROM website_pageviews wp \n",
    "\tINNER JOIN website_sessions ws ON ws.website_session_id = wp.website_session_id\n",
    "\tAND ws.created_at < '2012-07-28' -- prescribed by the assignment\n",
    "\tAND wp.website_pageview_id >= 23504 -- first page_view\n",
    "    AND utm_source = 'gsearch'\n",
    "    AND utm_campaign = 'nonbrand'\n",
    "GROUP BY \n",
    "\twp.website_session_id;\n",
    "''')\n",
    "\n",
    "# Now, we bring in the landing page to each session, like last time, but restricting to home or lander-1\n",
    "cursor.execute('''\n",
    "CREATE TEMPORARY TABLE nonbrand_test_sessions_w_landing_pages\n",
    "SELECT \n",
    "\tfirst_test_pageviews.website_session_id, \n",
    "    wp.pageview_url AS landing_page\n",
    "FROM first_test_pageviews\n",
    "\tLEFT JOIN website_pageviews wp ON wp.website_pageview_id = first_test_pageviews.min_pageview_id\n",
    "WHERE wp.pageview_url IN ('/home','/lander-1');\n",
    "''') \n",
    "\n",
    "# Then we make a table to bring in orders\n",
    "cursor.execute('''\n",
    "CREATE TEMPORARY TABLE nonbrand_test_sessions_w_orders\n",
    "SELECT\n",
    "\tnonbrand_test_sessions_w_landing_pages.website_session_id, \n",
    "    nonbrand_test_sessions_w_landing_pages.landing_page, \n",
    "    o.order_id AS order_id\n",
    "FROM nonbrand_test_sessions_w_landing_pages\n",
    "LEFT JOIN orders o ON o.website_session_id = nonbrand_test_sessions_w_landing_pages.website_session_id\n",
    ";''')\n",
    "\n",
    "# Now we pull conversion rates for /home and /lander-1\n",
    "cursor.execute('''\n",
    "SELECT\n",
    "\tlanding_page, \n",
    "    COUNT(DISTINCT website_session_id) AS sessions, \n",
    "    COUNT(DISTINCT order_id) AS orders,\n",
    "    ROUND((COUNT(DISTINCT order_id)/COUNT(DISTINCT website_session_id)) * 100, 2) AS conv_rate\n",
    "FROM nonbrand_test_sessions_w_orders\n",
    "GROUP BY 1;\n",
    "''') \n",
    "\n",
    "query_51_6_part1 = cursor.fetchall()"
   ]
  },
  {
   "cell_type": "code",
   "execution_count": 27,
   "metadata": {},
   "outputs": [
    {
     "data": {
      "text/html": [
       "<div>\n",
       "<style scoped>\n",
       "    .dataframe tbody tr th:only-of-type {\n",
       "        vertical-align: middle;\n",
       "    }\n",
       "\n",
       "    .dataframe tbody tr th {\n",
       "        vertical-align: top;\n",
       "    }\n",
       "\n",
       "    .dataframe thead th {\n",
       "        text-align: right;\n",
       "    }\n",
       "</style>\n",
       "<table border=\"1\" class=\"dataframe\">\n",
       "  <thead>\n",
       "    <tr style=\"text-align: right;\">\n",
       "      <th></th>\n",
       "      <th>landing_page</th>\n",
       "      <th>sessions</th>\n",
       "      <th>orders</th>\n",
       "      <th>conv_rate</th>\n",
       "    </tr>\n",
       "  </thead>\n",
       "  <tbody>\n",
       "    <tr>\n",
       "      <th>0</th>\n",
       "      <td>/home</td>\n",
       "      <td>2261</td>\n",
       "      <td>72</td>\n",
       "      <td>3.18</td>\n",
       "    </tr>\n",
       "    <tr>\n",
       "      <th>1</th>\n",
       "      <td>/lander-1</td>\n",
       "      <td>2316</td>\n",
       "      <td>94</td>\n",
       "      <td>4.06</td>\n",
       "    </tr>\n",
       "  </tbody>\n",
       "</table>\n",
       "</div>"
      ],
      "text/plain": [
       "  landing_page  sessions  orders conv_rate\n",
       "0        /home      2261      72      3.18\n",
       "1    /lander-1      2316      94      4.06"
      ]
     },
     "execution_count": 27,
     "metadata": {},
     "output_type": "execute_result"
    }
   ],
   "source": [
    "# Turning the result into a DataFrame\n",
    "\n",
    "result_51_6_part1 = pd.DataFrame(query_51_6_part1, columns = ['landing_page', 'sessions', 'orders', 'conv_rate'])\n",
    "\n",
    "result_51_6_part1"
   ]
  },
  {
   "cell_type": "code",
   "execution_count": 28,
   "metadata": {},
   "outputs": [
    {
     "name": "stdout",
     "output_type": "stream",
     "text": [
      "The difference in conversion rate between home and lander-1 is 0.88 %\n"
     ]
    }
   ],
   "source": [
    "# Calculating the difference in conversion rates between /home and /lander-1\n",
    "\n",
    "diff = result_51_6_part1.iloc[1, -1] - result_51_6_part1.iloc[0, -1]\n",
    "\n",
    "print('The difference in conversion rate between home and lander-1 is', diff, '%')"
   ]
  },
  {
   "cell_type": "code",
   "execution_count": 29,
   "metadata": {},
   "outputs": [
    {
     "data": {
      "image/png": "[encoded data removed]",
      "text/plain": [
       "<Figure size 1008x432 with 1 Axes>"
      ]
     },
     "metadata": {
      "needs_background": "light"
     },
     "output_type": "display_data"
    }
   ],
   "source": [
    "# Plotting the difference between both pages\n",
    "\n",
    "fig, ax = plt.subplots(figsize = (14, 6))\n",
    "\n",
    "plt.barh(y = result_51_6_part1['landing_page'], width = result_51_6_part1['conv_rate'], color = 'green')\n",
    "plt.title('Comparision in Conversion Rates', size = 20)\n",
    "ax.spines['top'].set_visible(False)\n",
    "ax.spines['right'].set_visible(False)\n",
    "ax.spines['bottom'].set_visible(False)\n",
    "ax.spines['left'].set_visible(False)\n",
    "plt.xticks(fontsize = 14)\n",
    "plt.yticks(fontsize = 14)\n",
    "\n",
    "plt.show()"
   ]
  },
  {
   "cell_type": "code",
   "execution_count": 30,
   "metadata": {},
   "outputs": [
    {
     "data": {
      "text/html": [
       "<div>\n",
       "<style scoped>\n",
       "    .dataframe tbody tr th:only-of-type {\n",
       "        vertical-align: middle;\n",
       "    }\n",
       "\n",
       "    .dataframe tbody tr th {\n",
       "        vertical-align: top;\n",
       "    }\n",
       "\n",
       "    .dataframe thead th {\n",
       "        text-align: right;\n",
       "    }\n",
       "</style>\n",
       "<table border=\"1\" class=\"dataframe\">\n",
       "  <thead>\n",
       "    <tr style=\"text-align: right;\">\n",
       "      <th></th>\n",
       "      <th>most_recent_gsearch_nonbrand_home_pageview</th>\n",
       "    </tr>\n",
       "  </thead>\n",
       "  <tbody>\n",
       "    <tr>\n",
       "      <th>0</th>\n",
       "      <td>17145</td>\n",
       "    </tr>\n",
       "  </tbody>\n",
       "</table>\n",
       "</div>"
      ],
      "text/plain": [
       "   most_recent_gsearch_nonbrand_home_pageview\n",
       "0                                       17145"
      ]
     },
     "execution_count": 30,
     "metadata": {},
     "output_type": "execute_result"
    }
   ],
   "source": [
    "# Finding the most recent pageview for gsearch nonbrand where the traffic was sent to /home\n",
    "\n",
    "query_51_6_part2 = '''\n",
    " SELECT \n",
    "\tMAX(ws.website_session_id) AS most_recent_gsearch_nonbrand_home_pageview \n",
    "FROM website_sessions ws\n",
    "\tLEFT JOIN website_pageviews wp ON wp.website_session_id = ws.website_session_id\n",
    "WHERE utm_source = 'gsearch'\n",
    "\tAND utm_campaign = 'nonbrand'\n",
    "    AND pageview_url = '/home'\n",
    "    AND ws.created_at < '2012-11-27';\n",
    " '''\n",
    "\n",
    "result_51_6_part2 = pd.read_sql_query(query_51_6_part2, mydb)\n",
    "result_51_6_part2"
   ]
  },
  {
   "cell_type": "code",
   "execution_count": 31,
   "metadata": {},
   "outputs": [
    {
     "data": {
      "text/html": [
       "<div>\n",
       "<style scoped>\n",
       "    .dataframe tbody tr th:only-of-type {\n",
       "        vertical-align: middle;\n",
       "    }\n",
       "\n",
       "    .dataframe tbody tr th {\n",
       "        vertical-align: top;\n",
       "    }\n",
       "\n",
       "    .dataframe thead th {\n",
       "        text-align: right;\n",
       "    }\n",
       "</style>\n",
       "<table border=\"1\" class=\"dataframe\">\n",
       "  <thead>\n",
       "    <tr style=\"text-align: right;\">\n",
       "      <th></th>\n",
       "      <th>sessions_since_test</th>\n",
       "    </tr>\n",
       "  </thead>\n",
       "  <tbody>\n",
       "    <tr>\n",
       "      <th>0</th>\n",
       "      <td>22972</td>\n",
       "    </tr>\n",
       "  </tbody>\n",
       "</table>\n",
       "</div>"
      ],
      "text/plain": [
       "   sessions_since_test\n",
       "0                22972"
      ]
     },
     "execution_count": 31,
     "metadata": {},
     "output_type": "execute_result"
    }
   ],
   "source": [
    "# Calculating website sessions since the test\n",
    "\n",
    "query_51_6 = '''\n",
    "SELECT \n",
    "\tCOUNT(website_session_id) AS sessions_since_test\n",
    "FROM website_sessions\n",
    "WHERE created_at < '2012-11-27'\n",
    "\tAND website_session_id > 17145 -- last /home session\n",
    "\tAND utm_source = 'gsearch'\n",
    "\tAND utm_campaign = 'nonbrand';\n",
    " '''\n",
    "\n",
    "result_51_6 = pd.read_sql_query(query_51_6, mydb)\n",
    "result_51_6"
   ]
  },
  {
   "cell_type": "code",
   "execution_count": 32,
   "metadata": {},
   "outputs": [
    {
     "data": {
      "text/html": [
       "<div>\n",
       "<style scoped>\n",
       "    .dataframe tbody tr th:only-of-type {\n",
       "        vertical-align: middle;\n",
       "    }\n",
       "\n",
       "    .dataframe tbody tr th {\n",
       "        vertical-align: top;\n",
       "    }\n",
       "\n",
       "    .dataframe thead th {\n",
       "        text-align: right;\n",
       "    }\n",
       "</style>\n",
       "<table border=\"1\" class=\"dataframe\">\n",
       "  <thead>\n",
       "    <tr style=\"text-align: right;\">\n",
       "      <th></th>\n",
       "      <th>sessions_since_test</th>\n",
       "    </tr>\n",
       "  </thead>\n",
       "  <tbody>\n",
       "    <tr>\n",
       "      <th>0</th>\n",
       "      <td>202.1536</td>\n",
       "    </tr>\n",
       "  </tbody>\n",
       "</table>\n",
       "</div>"
      ],
      "text/plain": [
       "  sessions_since_test\n",
       "0            202.1536"
      ]
     },
     "execution_count": 32,
     "metadata": {},
     "output_type": "execute_result"
    }
   ],
   "source": [
    "# Calculating incremental orders earned by Gsearch lander-1\n",
    "\n",
    "increment = result_51_6 * diff/100\n",
    "\n",
    "increment"
   ]
  },
  {
   "cell_type": "markdown",
   "metadata": {},
   "source": [
    "There were 22,972 website sessions since the test with an incremental conversion rate of 0.88%, which translates into 202 incremental orders since 07-29. Considering almost 4 months of test, there were roughly 50 extra orders per month. \n",
    "\n",
    "Good performance."
   ]
  },
  {
   "cell_type": "markdown",
   "metadata": {},
   "source": [
    "---"
   ]
  },
  {
   "cell_type": "markdown",
   "metadata": {},
   "source": [
    "*7.\tFor the landing page test you analyzed previously, it would be great to show a full conversion funnel from each of the two pages to orders. You can use the same time period you analyzed last time (Jun 19 – Jul 28).*"
   ]
  },
  {
   "cell_type": "code",
   "execution_count": 33,
   "metadata": {},
   "outputs": [
    {
     "data": {
      "text/html": [
       "<div>\n",
       "<style scoped>\n",
       "    .dataframe tbody tr th:only-of-type {\n",
       "        vertical-align: middle;\n",
       "    }\n",
       "\n",
       "    .dataframe tbody tr th {\n",
       "        vertical-align: top;\n",
       "    }\n",
       "\n",
       "    .dataframe thead th {\n",
       "        text-align: right;\n",
       "    }\n",
       "</style>\n",
       "<table border=\"1\" class=\"dataframe\">\n",
       "  <thead>\n",
       "    <tr style=\"text-align: right;\">\n",
       "      <th></th>\n",
       "      <th>website_session_id</th>\n",
       "      <th>pageview_url</th>\n",
       "      <th>pageview_created_at</th>\n",
       "      <th>homepage</th>\n",
       "      <th>custom_lander</th>\n",
       "      <th>products_page</th>\n",
       "      <th>mrfuzzy_page</th>\n",
       "      <th>cart_page</th>\n",
       "      <th>shipping_page</th>\n",
       "      <th>billing_page</th>\n",
       "      <th>thankyou_page</th>\n",
       "    </tr>\n",
       "  </thead>\n",
       "  <tbody>\n",
       "    <tr>\n",
       "      <th>0</th>\n",
       "      <td>11683</td>\n",
       "      <td>/lander-1</td>\n",
       "      <td>2012-06-19 00:35:54</td>\n",
       "      <td>0</td>\n",
       "      <td>1</td>\n",
       "      <td>0</td>\n",
       "      <td>0</td>\n",
       "      <td>0</td>\n",
       "      <td>0</td>\n",
       "      <td>0</td>\n",
       "      <td>0</td>\n",
       "    </tr>\n",
       "    <tr>\n",
       "      <th>1</th>\n",
       "      <td>11684</td>\n",
       "      <td>/home</td>\n",
       "      <td>2012-06-19 00:48:25</td>\n",
       "      <td>1</td>\n",
       "      <td>0</td>\n",
       "      <td>0</td>\n",
       "      <td>0</td>\n",
       "      <td>0</td>\n",
       "      <td>0</td>\n",
       "      <td>0</td>\n",
       "      <td>0</td>\n",
       "    </tr>\n",
       "    <tr>\n",
       "      <th>2</th>\n",
       "      <td>11685</td>\n",
       "      <td>/lander-1</td>\n",
       "      <td>2012-06-19 01:02:38</td>\n",
       "      <td>0</td>\n",
       "      <td>1</td>\n",
       "      <td>0</td>\n",
       "      <td>0</td>\n",
       "      <td>0</td>\n",
       "      <td>0</td>\n",
       "      <td>0</td>\n",
       "      <td>0</td>\n",
       "    </tr>\n",
       "    <tr>\n",
       "      <th>3</th>\n",
       "      <td>11686</td>\n",
       "      <td>/lander-1</td>\n",
       "      <td>2012-06-19 01:31:57</td>\n",
       "      <td>0</td>\n",
       "      <td>1</td>\n",
       "      <td>0</td>\n",
       "      <td>0</td>\n",
       "      <td>0</td>\n",
       "      <td>0</td>\n",
       "      <td>0</td>\n",
       "      <td>0</td>\n",
       "    </tr>\n",
       "    <tr>\n",
       "      <th>4</th>\n",
       "      <td>11686</td>\n",
       "      <td>/products</td>\n",
       "      <td>2012-06-19 01:32:51</td>\n",
       "      <td>0</td>\n",
       "      <td>0</td>\n",
       "      <td>1</td>\n",
       "      <td>0</td>\n",
       "      <td>0</td>\n",
       "      <td>0</td>\n",
       "      <td>0</td>\n",
       "      <td>0</td>\n",
       "    </tr>\n",
       "    <tr>\n",
       "      <th>...</th>\n",
       "      <td>...</td>\n",
       "      <td>...</td>\n",
       "      <td>...</td>\n",
       "      <td>...</td>\n",
       "      <td>...</td>\n",
       "      <td>...</td>\n",
       "      <td>...</td>\n",
       "      <td>...</td>\n",
       "      <td>...</td>\n",
       "      <td>...</td>\n",
       "      <td>...</td>\n",
       "    </tr>\n",
       "    <tr>\n",
       "      <th>9659</th>\n",
       "      <td>16989</td>\n",
       "      <td>/products</td>\n",
       "      <td>2012-07-27 23:13:45</td>\n",
       "      <td>0</td>\n",
       "      <td>0</td>\n",
       "      <td>1</td>\n",
       "      <td>0</td>\n",
       "      <td>0</td>\n",
       "      <td>0</td>\n",
       "      <td>0</td>\n",
       "      <td>0</td>\n",
       "    </tr>\n",
       "    <tr>\n",
       "      <th>9660</th>\n",
       "      <td>16990</td>\n",
       "      <td>/home</td>\n",
       "      <td>2012-07-27 23:13:25</td>\n",
       "      <td>1</td>\n",
       "      <td>0</td>\n",
       "      <td>0</td>\n",
       "      <td>0</td>\n",
       "      <td>0</td>\n",
       "      <td>0</td>\n",
       "      <td>0</td>\n",
       "      <td>0</td>\n",
       "    </tr>\n",
       "    <tr>\n",
       "      <th>9661</th>\n",
       "      <td>16990</td>\n",
       "      <td>/products</td>\n",
       "      <td>2012-07-27 23:19:00</td>\n",
       "      <td>0</td>\n",
       "      <td>0</td>\n",
       "      <td>1</td>\n",
       "      <td>0</td>\n",
       "      <td>0</td>\n",
       "      <td>0</td>\n",
       "      <td>0</td>\n",
       "      <td>0</td>\n",
       "    </tr>\n",
       "    <tr>\n",
       "      <th>9662</th>\n",
       "      <td>16990</td>\n",
       "      <td>/the-original-mr-fuzzy</td>\n",
       "      <td>2012-07-27 23:22:56</td>\n",
       "      <td>0</td>\n",
       "      <td>0</td>\n",
       "      <td>0</td>\n",
       "      <td>1</td>\n",
       "      <td>0</td>\n",
       "      <td>0</td>\n",
       "      <td>0</td>\n",
       "      <td>0</td>\n",
       "    </tr>\n",
       "    <tr>\n",
       "      <th>9663</th>\n",
       "      <td>16991</td>\n",
       "      <td>/lander-1</td>\n",
       "      <td>2012-07-27 23:22:05</td>\n",
       "      <td>0</td>\n",
       "      <td>1</td>\n",
       "      <td>0</td>\n",
       "      <td>0</td>\n",
       "      <td>0</td>\n",
       "      <td>0</td>\n",
       "      <td>0</td>\n",
       "      <td>0</td>\n",
       "    </tr>\n",
       "  </tbody>\n",
       "</table>\n",
       "<p>9664 rows × 11 columns</p>\n",
       "</div>"
      ],
      "text/plain": [
       "      website_session_id            pageview_url pageview_created_at  \\\n",
       "0                  11683               /lander-1 2012-06-19 00:35:54   \n",
       "1                  11684                   /home 2012-06-19 00:48:25   \n",
       "2                  11685               /lander-1 2012-06-19 01:02:38   \n",
       "3                  11686               /lander-1 2012-06-19 01:31:57   \n",
       "4                  11686               /products 2012-06-19 01:32:51   \n",
       "...                  ...                     ...                 ...   \n",
       "9659               16989               /products 2012-07-27 23:13:45   \n",
       "9660               16990                   /home 2012-07-27 23:13:25   \n",
       "9661               16990               /products 2012-07-27 23:19:00   \n",
       "9662               16990  /the-original-mr-fuzzy 2012-07-27 23:22:56   \n",
       "9663               16991               /lander-1 2012-07-27 23:22:05   \n",
       "\n",
       "      homepage  custom_lander  products_page  mrfuzzy_page  cart_page  \\\n",
       "0            0              1              0             0          0   \n",
       "1            1              0              0             0          0   \n",
       "2            0              1              0             0          0   \n",
       "3            0              1              0             0          0   \n",
       "4            0              0              1             0          0   \n",
       "...        ...            ...            ...           ...        ...   \n",
       "9659         0              0              1             0          0   \n",
       "9660         1              0              0             0          0   \n",
       "9661         0              0              1             0          0   \n",
       "9662         0              0              0             1          0   \n",
       "9663         0              1              0             0          0   \n",
       "\n",
       "      shipping_page  billing_page  thankyou_page  \n",
       "0                 0             0              0  \n",
       "1                 0             0              0  \n",
       "2                 0             0              0  \n",
       "3                 0             0              0  \n",
       "4                 0             0              0  \n",
       "...             ...           ...            ...  \n",
       "9659              0             0              0  \n",
       "9660              0             0              0  \n",
       "9661              0             0              0  \n",
       "9662              0             0              0  \n",
       "9663              0             0              0  \n",
       "\n",
       "[9664 rows x 11 columns]"
      ]
     },
     "execution_count": 33,
     "metadata": {},
     "output_type": "execute_result"
    }
   ],
   "source": [
    "query_51_7_part1 ='''\n",
    "SELECT\n",
    "\tws.website_session_id, \n",
    "    wp.pageview_url, \n",
    "    wp.created_at AS pageview_created_at, \n",
    "    CASE WHEN pageview_url = '/home' THEN 1 ELSE 0 END AS homepage,\n",
    "    CASE WHEN pageview_url = '/lander-1' THEN 1 ELSE 0 END AS custom_lander,\n",
    "    CASE WHEN pageview_url = '/products' THEN 1 ELSE 0 END AS products_page,\n",
    "    CASE WHEN pageview_url = '/the-original-mr-fuzzy' THEN 1 ELSE 0 END AS mrfuzzy_page, \n",
    "    CASE WHEN pageview_url = '/cart' THEN 1 ELSE 0 END AS cart_page,\n",
    "    CASE WHEN pageview_url = '/shipping' THEN 1 ELSE 0 END AS shipping_page,\n",
    "    CASE WHEN pageview_url = '/billing' THEN 1 ELSE 0 END AS billing_page,\n",
    "    CASE WHEN pageview_url = '/thank-you-for-your-order' THEN 1 \n",
    "    ELSE 0 END AS thankyou_page\n",
    "FROM website_sessions ws LEFT JOIN website_pageviews wp ON ws.website_session_id = wp.website_session_id\n",
    "WHERE \n",
    "    ws.utm_source = 'gsearch' \n",
    "\tAND ws.utm_campaign = 'nonbrand' \n",
    "    AND ws.created_at < '2012-07-28'\n",
    "\tAND ws.created_at > '2012-06-19'\n",
    "ORDER BY \n",
    "\tws.website_session_id,\n",
    "    wp.created_at;\n",
    "'''\n",
    "\n",
    "result_51_7_part1 = pd.read_sql_query(query_51_7_part1, mydb)\n",
    "\n",
    "result_51_7_part1"
   ]
  },
  {
   "cell_type": "code",
   "execution_count": 34,
   "metadata": {},
   "outputs": [],
   "source": [
    "cursor.execute('''\n",
    "CREATE TEMPORARY TABLE session_level_made_it_flagged\n",
    "SELECT\n",
    "\twebsite_session_id, \n",
    "    MAX(homepage) AS saw_homepage, \n",
    "    MAX(custom_lander) AS saw_custom_lander,\n",
    "    MAX(products_page) AS product_made_it, \n",
    "    MAX(mrfuzzy_page) AS mrfuzzy_made_it, \n",
    "    MAX(cart_page) AS cart_made_it,\n",
    "    MAX(shipping_page) AS shipping_made_it,\n",
    "    MAX(billing_page) AS billing_made_it,\n",
    "    MAX(thankyou_page) AS thankyou_made_it\n",
    "FROM(\n",
    "    SELECT\n",
    "        ws.website_session_id, \n",
    "        wp.pageview_url, \n",
    "        wp.created_at AS pageview_created_at, \n",
    "        CASE WHEN pageview_url = '/home' THEN 1 ELSE 0 END AS homepage,\n",
    "        CASE WHEN pageview_url = '/lander-1' THEN 1 ELSE 0 END AS custom_lander,\n",
    "        CASE WHEN pageview_url = '/products' THEN 1 ELSE 0 END AS products_page,\n",
    "        CASE WHEN pageview_url = '/the-original-mr-fuzzy' THEN 1 ELSE 0 END AS mrfuzzy_page, \n",
    "        CASE WHEN pageview_url = '/cart' THEN 1 ELSE 0 END AS cart_page,\n",
    "        CASE WHEN pageview_url = '/shipping' THEN 1 ELSE 0 END AS shipping_page,\n",
    "        CASE WHEN pageview_url = '/billing' THEN 1 ELSE 0 END AS billing_page,\n",
    "        CASE WHEN pageview_url = '/thank-you-for-your-order' THEN 1 \n",
    "        ELSE 0 END AS thankyou_page\n",
    "    FROM website_sessions ws LEFT JOIN website_pageviews wp ON ws.website_session_id = wp.website_session_id\n",
    "WHERE \n",
    "    ws.utm_source = 'gsearch' \n",
    "\tAND ws.utm_campaign = 'nonbrand' \n",
    "    AND ws.created_at < '2012-07-28'\n",
    "\tAND ws.created_at > '2012-06-19'\n",
    "ORDER BY \n",
    "\tws.website_session_id,\n",
    "    wp.created_at\n",
    ") AS pageview_level\n",
    "GROUP BY \n",
    "\twebsite_session_id\n",
    "''') \n",
    "\n",
    "query_51_7_part2 = cursor.fetchall()"
   ]
  },
  {
   "cell_type": "code",
   "execution_count": 35,
   "metadata": {},
   "outputs": [
    {
     "data": {
      "text/html": [
       "<div>\n",
       "<style scoped>\n",
       "    .dataframe tbody tr th:only-of-type {\n",
       "        vertical-align: middle;\n",
       "    }\n",
       "\n",
       "    .dataframe tbody tr th {\n",
       "        vertical-align: top;\n",
       "    }\n",
       "\n",
       "    .dataframe thead th {\n",
       "        text-align: right;\n",
       "    }\n",
       "</style>\n",
       "<table border=\"1\" class=\"dataframe\">\n",
       "  <thead>\n",
       "    <tr style=\"text-align: right;\">\n",
       "      <th></th>\n",
       "      <th>segment</th>\n",
       "      <th>sessions</th>\n",
       "      <th>to_products</th>\n",
       "      <th>to_mrfuzzy</th>\n",
       "      <th>to_cart</th>\n",
       "      <th>to_shipping</th>\n",
       "      <th>to_billing</th>\n",
       "      <th>to_thankyou</th>\n",
       "    </tr>\n",
       "  </thead>\n",
       "  <tbody>\n",
       "    <tr>\n",
       "      <th>0</th>\n",
       "      <td>saw_custom_lander</td>\n",
       "      <td>2316</td>\n",
       "      <td>1083</td>\n",
       "      <td>772</td>\n",
       "      <td>348</td>\n",
       "      <td>231</td>\n",
       "      <td>197</td>\n",
       "      <td>94</td>\n",
       "    </tr>\n",
       "    <tr>\n",
       "      <th>1</th>\n",
       "      <td>saw_homepage</td>\n",
       "      <td>2261</td>\n",
       "      <td>942</td>\n",
       "      <td>684</td>\n",
       "      <td>296</td>\n",
       "      <td>200</td>\n",
       "      <td>168</td>\n",
       "      <td>72</td>\n",
       "    </tr>\n",
       "  </tbody>\n",
       "</table>\n",
       "</div>"
      ],
      "text/plain": [
       "             segment  sessions  to_products  to_mrfuzzy  to_cart  to_shipping  \\\n",
       "0  saw_custom_lander      2316         1083         772      348          231   \n",
       "1       saw_homepage      2261          942         684      296          200   \n",
       "\n",
       "   to_billing  to_thankyou  \n",
       "0         197           94  \n",
       "1         168           72  "
      ]
     },
     "execution_count": 35,
     "metadata": {},
     "output_type": "execute_result"
    }
   ],
   "source": [
    "# Assessing conversion funnel in custom-lander and homepage\n",
    "\n",
    "query_51_7_part3 ='''\n",
    "SELECT\n",
    "\tCASE \n",
    "\tWHEN saw_homepage = 1 THEN 'saw_homepage'\n",
    "    WHEN saw_custom_lander = 1 THEN 'saw_custom_lander'\n",
    "    ELSE 'wrong' END AS segment, \n",
    "    COUNT(DISTINCT website_session_id) AS sessions,\n",
    "    COUNT(DISTINCT CASE WHEN product_made_it = 1 THEN website_session_id ELSE NULL END) AS to_products,\n",
    "    COUNT(DISTINCT CASE WHEN mrfuzzy_made_it = 1 THEN website_session_id ELSE NULL END) AS to_mrfuzzy,\n",
    "    COUNT(DISTINCT CASE WHEN cart_made_it = 1 THEN website_session_id ELSE NULL END) AS to_cart,\n",
    "    COUNT(DISTINCT CASE WHEN shipping_made_it = 1 THEN website_session_id ELSE NULL END) AS to_shipping,\n",
    "    COUNT(DISTINCT CASE WHEN billing_made_it = 1 THEN website_session_id ELSE NULL END) AS to_billing,\n",
    "    COUNT(DISTINCT CASE WHEN thankyou_made_it = 1 THEN website_session_id ELSE NULL END) AS to_thankyou\n",
    "FROM session_level_made_it_flagged \n",
    "GROUP BY 1;\n",
    "'''\n",
    "\n",
    "result_51_7_part3 = pd.read_sql_query(query_51_7_part3, mydb)\n",
    "\n",
    "result_51_7_part3"
   ]
  },
  {
   "cell_type": "code",
   "execution_count": 36,
   "metadata": {},
   "outputs": [
    {
     "data": {
      "text/html": [
       "<div>\n",
       "<style scoped>\n",
       "    .dataframe tbody tr th:only-of-type {\n",
       "        vertical-align: middle;\n",
       "    }\n",
       "\n",
       "    .dataframe tbody tr th {\n",
       "        vertical-align: top;\n",
       "    }\n",
       "\n",
       "    .dataframe thead th {\n",
       "        text-align: right;\n",
       "    }\n",
       "</style>\n",
       "<table border=\"1\" class=\"dataframe\">\n",
       "  <thead>\n",
       "    <tr style=\"text-align: right;\">\n",
       "      <th></th>\n",
       "      <th>segment</th>\n",
       "      <th>lander_click_rt</th>\n",
       "      <th>products_click_rt</th>\n",
       "      <th>mrfuzzy_click_rt</th>\n",
       "      <th>cart_click_rt</th>\n",
       "      <th>shipping_click_rt</th>\n",
       "      <th>billing_click_rt</th>\n",
       "    </tr>\n",
       "  </thead>\n",
       "  <tbody>\n",
       "    <tr>\n",
       "      <th>0</th>\n",
       "      <td>saw_custom_lander</td>\n",
       "      <td>46.76</td>\n",
       "      <td>71.28</td>\n",
       "      <td>45.08</td>\n",
       "      <td>66.38</td>\n",
       "      <td>85.28</td>\n",
       "      <td>47.72</td>\n",
       "    </tr>\n",
       "    <tr>\n",
       "      <th>1</th>\n",
       "      <td>saw_homepage</td>\n",
       "      <td>41.66</td>\n",
       "      <td>72.61</td>\n",
       "      <td>43.27</td>\n",
       "      <td>67.57</td>\n",
       "      <td>84.00</td>\n",
       "      <td>42.86</td>\n",
       "    </tr>\n",
       "  </tbody>\n",
       "</table>\n",
       "</div>"
      ],
      "text/plain": [
       "             segment  lander_click_rt  products_click_rt  mrfuzzy_click_rt  \\\n",
       "0  saw_custom_lander            46.76              71.28             45.08   \n",
       "1       saw_homepage            41.66              72.61             43.27   \n",
       "\n",
       "   cart_click_rt  shipping_click_rt  billing_click_rt  \n",
       "0          66.38              85.28             47.72  \n",
       "1          67.57              84.00             42.86  "
      ]
     },
     "execution_count": 36,
     "metadata": {},
     "output_type": "execute_result"
    }
   ],
   "source": [
    "# Extracting conversion funnel rates along each step\n",
    "\n",
    "query_51_7 ='''\n",
    "SELECT\n",
    "\tCASE \n",
    "\tWHEN saw_homepage = 1 THEN 'saw_homepage'\n",
    "    WHEN saw_custom_lander = 1 THEN 'saw_custom_lander'\n",
    "    ELSE 'uh oh... check logic' \n",
    "\tEND AS segment, \n",
    "\tROUND((COUNT(DISTINCT CASE WHEN product_made_it = 1 THEN website_session_id ELSE NULL END)/COUNT(DISTINCT website_session_id)) * 100, 2) AS lander_click_rt,\n",
    "    ROUND((COUNT(DISTINCT CASE WHEN mrfuzzy_made_it = 1 THEN website_session_id ELSE NULL END)/COUNT(DISTINCT CASE WHEN product_made_it = 1 THEN website_session_id ELSE NULL END)) * 100, 2) AS products_click_rt,\n",
    "    ROUND((COUNT(DISTINCT CASE WHEN cart_made_it = 1 THEN website_session_id ELSE NULL END)/COUNT(DISTINCT CASE WHEN mrfuzzy_made_it = 1 THEN website_session_id ELSE NULL END)) * 100, 2) AS mrfuzzy_click_rt,\n",
    "    ROUND((COUNT(DISTINCT CASE WHEN shipping_made_it = 1 THEN website_session_id ELSE NULL END)/COUNT(DISTINCT CASE WHEN cart_made_it = 1 THEN website_session_id ELSE NULL END)) * 100, 2) AS cart_click_rt,\n",
    "    ROUND((COUNT(DISTINCT CASE WHEN billing_made_it = 1 THEN website_session_id ELSE NULL END)/COUNT(DISTINCT CASE WHEN shipping_made_it = 1 THEN website_session_id ELSE NULL END)) * 100, 2) AS shipping_click_rt,\n",
    "    ROUND((COUNT(DISTINCT CASE WHEN thankyou_made_it = 1 THEN website_session_id ELSE NULL END)/COUNT(DISTINCT CASE WHEN billing_made_it = 1 THEN website_session_id ELSE NULL END)) * 100, 2) AS billing_click_rt\n",
    "FROM session_level_made_it_flagged\n",
    "GROUP BY 1;\n",
    "'''\n",
    "\n",
    "result_51_7 = pd.read_sql_query(query_51_7, mydb)\n",
    "\n",
    "result_51_7"
   ]
  },
  {
   "cell_type": "code",
   "execution_count": 37,
   "metadata": {},
   "outputs": [
    {
     "data": {
      "image/png": "[encoded data removed]",
      "text/plain": [
       "<Figure size 1008x432 with 1 Axes>"
      ]
     },
     "metadata": {
      "needs_background": "light"
     },
     "output_type": "display_data"
    }
   ],
   "source": [
    "# Plotting conversion funnel rates for both pages\n",
    "\n",
    "# Transposing the dataframe\n",
    "df_t = result_51_7.transpose()\n",
    "df_t.columns = df_t.iloc[0]\n",
    "df_t = df_t.drop(df_t.index[0]) \n",
    "\n",
    "# Preparing some aspects of the plot\n",
    "labels1 = ['lander', 'products', 'mrfuzzy', 'cart', 'shipping', 'billing']\n",
    "positions1 = [0, 1, 2, 3, 4, 5]\n",
    "custom_lander = df_t['saw_custom_lander'] \n",
    "homepage = df_t['saw_homepage']\n",
    "\n",
    "fig, ax = plt.subplots(1, figsize = (14, 6))\n",
    "plt.title('Conversion Funnel Rates', size = 20)\n",
    "ax.plot(custom_lander, c = 'black', linestyle = 'None', marker = 's', markersize = 10)\n",
    "ax.plot(homepage, c = 'lightblue', linestyle = 'None', marker = 'o', markersize = 10)\n",
    "ax.spines['top'].set_visible(False)\n",
    "ax.spines['right'].set_visible(False)\n",
    "ax.spines['bottom'].set_visible(False)\n",
    "ax.spines['left'].set_visible(False)\n",
    "plt.xticks(positions1, labels1, fontsize = 14)\n",
    "plt.yticks(fontsize = 14)\n",
    "plt.ylabel('% Conversion', fontsize = 14)\n",
    "ax.legend(['custom_lander', 'homepage'], fontsize = 12, bbox_to_anchor = (1.1, 1.15))\n",
    "\n",
    "plt.show()"
   ]
  },
  {
   "cell_type": "markdown",
   "metadata": {},
   "source": [
    "It is worth to highlight that the custom-lander page showed a better conversion funnel than the homepage with higher rates of conversion in lander, mr. fuzzy, shipping and billing, which is the most important one from the standpoint of revenue. Beyond that, this final step of the funnel for custom-lander showed the highest difference when compared to the homepage: +5,14% conversion rate."
   ]
  },
  {
   "cell_type": "markdown",
   "metadata": {},
   "source": [
    "---"
   ]
  },
  {
   "cell_type": "markdown",
   "metadata": {},
   "source": [
    "*8.\tI’d love for you to quantify the impact of our billing test, as well. Please analyze the lift generated from the test (Sep 10 – Nov 10), in terms of revenue per billing page session, and then pull the number of billing page sessions for the past month to understand monthly impact.*"
   ]
  },
  {
   "cell_type": "code",
   "execution_count": 38,
   "metadata": {},
   "outputs": [
    {
     "data": {
      "text/html": [
       "<div>\n",
       "<style scoped>\n",
       "    .dataframe tbody tr th:only-of-type {\n",
       "        vertical-align: middle;\n",
       "    }\n",
       "\n",
       "    .dataframe tbody tr th {\n",
       "        vertical-align: top;\n",
       "    }\n",
       "\n",
       "    .dataframe thead th {\n",
       "        text-align: right;\n",
       "    }\n",
       "</style>\n",
       "<table border=\"1\" class=\"dataframe\">\n",
       "  <thead>\n",
       "    <tr style=\"text-align: right;\">\n",
       "      <th></th>\n",
       "      <th>billing_version_seen</th>\n",
       "      <th>sessions</th>\n",
       "      <th>revenue_per_billing_page_seen</th>\n",
       "    </tr>\n",
       "  </thead>\n",
       "  <tbody>\n",
       "    <tr>\n",
       "      <th>0</th>\n",
       "      <td>/billing</td>\n",
       "      <td>657</td>\n",
       "      <td>22.83</td>\n",
       "    </tr>\n",
       "    <tr>\n",
       "      <th>1</th>\n",
       "      <td>/billing-2</td>\n",
       "      <td>654</td>\n",
       "      <td>31.34</td>\n",
       "    </tr>\n",
       "  </tbody>\n",
       "</table>\n",
       "</div>"
      ],
      "text/plain": [
       "  billing_version_seen  sessions  revenue_per_billing_page_seen\n",
       "0             /billing       657                          22.83\n",
       "1           /billing-2       654                          31.34"
      ]
     },
     "execution_count": 38,
     "metadata": {},
     "output_type": "execute_result"
    }
   ],
   "source": [
    "query_51_8_part1 = '''\n",
    "SELECT\n",
    "\tbilling_version_seen, \n",
    "    COUNT(DISTINCT website_session_id) AS sessions, \n",
    "    ROUND(SUM(price_usd)/COUNT(DISTINCT website_session_id), 2) AS revenue_per_billing_page_seen\n",
    " FROM( \n",
    "SELECT \n",
    "\twp.website_session_id, \n",
    "    wp.pageview_url AS billing_version_seen, \n",
    "    o.order_id, \n",
    "    o.price_usd\n",
    "FROM website_pageviews wp\n",
    "\tLEFT JOIN orders o ON o.website_session_id = wp.website_session_id\n",
    "WHERE \n",
    "    wp.created_at > '2012-09-10'\n",
    "\tAND wp.created_at < '2012-11-10' \n",
    "    AND wp.pageview_url IN ('/billing','/billing-2')\n",
    ") AS billing_pageviews_and_order_data\n",
    "GROUP BY 1\n",
    "'''\n",
    "\n",
    "result_51_8_part1 = pd.read_sql_query(query_51_8_part1, mydb)\n",
    "\n",
    "result_51_8_part1"
   ]
  },
  {
   "cell_type": "code",
   "execution_count": 39,
   "metadata": {},
   "outputs": [
    {
     "data": {
      "text/plain": [
       "8.51"
      ]
     },
     "execution_count": 39,
     "metadata": {},
     "output_type": "execute_result"
    }
   ],
   "source": [
    "old_version = result_51_8_part1.iloc[0,-1]\n",
    "new_version = result_51_8_part1.iloc[1,-1]\n",
    "\n",
    "diff = np.round(new_version - old_version, 2)\n",
    "\n",
    "diff"
   ]
  },
  {
   "cell_type": "markdown",
   "metadata": {},
   "source": [
    "Here is the financial impact of the billing test:\n",
    "- 22.83 for the older version;\n",
    "- 31.34 for the new version.\n",
    "\n",
    "$8.51 revenue per billing page difference. Quite a significant result."
   ]
  },
  {
   "cell_type": "code",
   "execution_count": 40,
   "metadata": {},
   "outputs": [
    {
     "data": {
      "text/html": [
       "<div>\n",
       "<style scoped>\n",
       "    .dataframe tbody tr th:only-of-type {\n",
       "        vertical-align: middle;\n",
       "    }\n",
       "\n",
       "    .dataframe tbody tr th {\n",
       "        vertical-align: top;\n",
       "    }\n",
       "\n",
       "    .dataframe thead th {\n",
       "        text-align: right;\n",
       "    }\n",
       "</style>\n",
       "<table border=\"1\" class=\"dataframe\">\n",
       "  <thead>\n",
       "    <tr style=\"text-align: right;\">\n",
       "      <th></th>\n",
       "      <th>billing_sessions_past_month</th>\n",
       "    </tr>\n",
       "  </thead>\n",
       "  <tbody>\n",
       "    <tr>\n",
       "      <th>0</th>\n",
       "      <td>1193</td>\n",
       "    </tr>\n",
       "  </tbody>\n",
       "</table>\n",
       "</div>"
      ],
      "text/plain": [
       "   billing_sessions_past_month\n",
       "0                         1193"
      ]
     },
     "execution_count": 40,
     "metadata": {},
     "output_type": "execute_result"
    }
   ],
   "source": [
    "query_51_8 = '''\n",
    "SELECT \n",
    "\tCOUNT(website_session_id) AS billing_sessions_past_month\n",
    "FROM website_pageviews wp\n",
    "WHERE \n",
    "    pageview_url IN ('/billing','/billing-2') \n",
    "\tAND created_at BETWEEN '2012-10-27' AND '2012-11-27'\n",
    "'''\n",
    "\n",
    "result_51_8 = pd.read_sql_query(query_51_8, mydb)\n",
    "\n",
    "result_51_8"
   ]
  },
  {
   "cell_type": "code",
   "execution_count": 41,
   "metadata": {},
   "outputs": [
    {
     "data": {
      "text/html": [
       "<div>\n",
       "<style scoped>\n",
       "    .dataframe tbody tr th:only-of-type {\n",
       "        vertical-align: middle;\n",
       "    }\n",
       "\n",
       "    .dataframe tbody tr th {\n",
       "        vertical-align: top;\n",
       "    }\n",
       "\n",
       "    .dataframe thead th {\n",
       "        text-align: right;\n",
       "    }\n",
       "</style>\n",
       "<table border=\"1\" class=\"dataframe\">\n",
       "  <thead>\n",
       "    <tr style=\"text-align: right;\">\n",
       "      <th></th>\n",
       "      <th>billing_sessions_past_month</th>\n",
       "    </tr>\n",
       "  </thead>\n",
       "  <tbody>\n",
       "    <tr>\n",
       "      <th>0</th>\n",
       "      <td>10152.43</td>\n",
       "    </tr>\n",
       "  </tbody>\n",
       "</table>\n",
       "</div>"
      ],
      "text/plain": [
       "   billing_sessions_past_month\n",
       "0                     10152.43"
      ]
     },
     "execution_count": 41,
     "metadata": {},
     "output_type": "execute_result"
    }
   ],
   "source": [
    "total_billing_test = diff * result_51_8\n",
    "\n",
    "total_billing_test"
   ]
  },
  {
   "cell_type": "markdown",
   "metadata": {},
   "source": [
    "Considering a total of 1193 billing sessions past month, total value of billing test was 10,152.43 for the period."
   ]
  },
  {
   "cell_type": "markdown",
   "metadata": {},
   "source": [
    "---"
   ]
  },
  {
   "cell_type": "markdown",
   "metadata": {},
   "source": [
    "This is how I tried to promote synergy between MySQL and Python in order to execute a thorough business analysis. Thank you for reading this work and bear in mind that I'm a beginner, therefore, if you have some tips on best practices of coding, I would really appreciate."
   ]
  },
  {
   "cell_type": "markdown",
   "metadata": {},
   "source": [
    "---"
   ]
  },
  {
   "cell_type": "markdown",
   "metadata": {},
   "source": [
    "Author: Renan Pereira Bento"
   ]
  }
 ],
 "metadata": {
  "kernelspec": {
   "display_name": "Python 3",
   "language": "python",
   "name": "python3"
  },
  "language_info": {
   "codemirror_mode": {
    "name": "ipython",
    "version": 3
   },
   "file_extension": ".py",
   "mimetype": "text/x-python",
   "name": "python",
   "nbconvert_exporter": "python",
   "pygments_lexer": "ipython3",
   "version": "3.8.3"
  }
 },
 "nbformat": 4,
 "nbformat_minor": 4
}
