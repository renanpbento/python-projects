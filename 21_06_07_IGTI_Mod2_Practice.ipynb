{
  "nbformat": 4,
  "nbformat_minor": 0,
  "metadata": {
    "colab": {
      "name": "IGTI_Mod2_Practice.ipynb",
      "provenance": [],
      "authorship_tag": "ABX9TyMnJhvrz3tGK+5hJkgBddWO",
      "include_colab_link": true
    },
    "kernelspec": {
      "name": "python3",
      "display_name": "Python 3"
    },
    "language_info": {
      "name": "python"
    }
  },
  "cells": [
    {
      "cell_type": "markdown",
      "metadata": {
        "id": "view-in-github",
        "colab_type": "text"
      },
      "source": [
        "<a href=\"https://colab.research.google.com/github/renanpbento/python-training/blob/main/IGTI_Mod2_Practice.ipynb\" target=\"_parent\"><img src=\"https://colab.research.google.com/assets/colab-badge.svg\" alt=\"Open In Colab\"/></a>"
      ]
    },
    {
      "cell_type": "markdown",
      "metadata": {
        "id": "xNdhzxkR6VmR"
      },
      "source": [
        "**IGTI Bootcamp - Module II: Practical Work**"
      ]
    },
    {
      "cell_type": "markdown",
      "metadata": {
        "id": "uEnCUyhdnF8F"
      },
      "source": [
        "Goals - practice the following concepts:\n",
        "- Creation and manipulation of numpy arrays\n",
        "- DataFrames and Series in Pandas\n",
        "- Machine Learning fundamentals"
      ]
    },
    {
      "cell_type": "markdown",
      "metadata": {
        "id": "S8qyPA51n_to"
      },
      "source": [
        "Preparing the exercise:"
      ]
    },
    {
      "cell_type": "code",
      "metadata": {
        "id": "QapLBScVoVCa"
      },
      "source": [
        "import numpy as np\n",
        "import pandas as pd"
      ],
      "execution_count": null,
      "outputs": []
    },
    {
      "cell_type": "code",
      "metadata": {
        "colab": {
          "base_uri": "https://localhost:8080/"
        },
        "id": "rKkhMhig6WO6",
        "outputId": "88accca8-31b1-41ab-981e-9ba998c0b4ed"
      },
      "source": [
        "# Code 1\n",
        "\n",
        "Z = np.zeros((4, ))\n",
        "\n",
        "print(\"Z\", Z)"
      ],
      "execution_count": null,
      "outputs": [
        {
          "output_type": "stream",
          "text": [
            "Z [0. 0. 0. 0.]\n"
          ],
          "name": "stdout"
        }
      ]
    },
    {
      "cell_type": "markdown",
      "metadata": {
        "id": "T67kTETJoeFP"
      },
      "source": [
        "Code 1 is a row-matrix composed solely by zeros"
      ]
    },
    {
      "cell_type": "code",
      "metadata": {
        "colab": {
          "base_uri": "https://localhost:8080/"
        },
        "id": "LaGCqcE86Wfh",
        "outputId": "de123583-ee6b-4d3f-b0c2-086ae3554d4a"
      },
      "source": [
        "# Code 2\n",
        "\n",
        "Z[1] = 1\n",
        "\n",
        "print(\"Z\", Z)"
      ],
      "execution_count": null,
      "outputs": [
        {
          "output_type": "stream",
          "text": [
            "Z [0. 1. 0. 0.]\n"
          ],
          "name": "stdout"
        }
      ]
    },
    {
      "cell_type": "markdown",
      "metadata": {
        "id": "TDj1ISeeowwO"
      },
      "source": [
        "Code 2 updates the matrix by substituting the second element from \"0\" to \"1\""
      ]
    },
    {
      "cell_type": "code",
      "metadata": {
        "colab": {
          "base_uri": "https://localhost:8080/"
        },
        "id": "v3DmazveowFQ",
        "outputId": "aebbc1d5-75e5-4f86-9873-6389bf3801d4"
      },
      "source": [
        "# Code 3\n",
        "\n",
        "Z[1: ] = 1\n",
        "\n",
        "print(\"Z\", Z)"
      ],
      "execution_count": null,
      "outputs": [
        {
          "output_type": "stream",
          "text": [
            "Z [0. 1. 1. 1.]\n"
          ],
          "name": "stdout"
        }
      ]
    },
    {
      "cell_type": "markdown",
      "metadata": {
        "id": "m7tRn5S9pWa9"
      },
      "source": [
        "Code 3 transforms the row beginning from the second element (index 1)"
      ]
    },
    {
      "cell_type": "code",
      "metadata": {
        "id": "SsnjJetMpV8X",
        "colab": {
          "base_uri": "https://localhost:8080/"
        },
        "outputId": "b834c334-a1f6-4238-eaad-1eb0fae9e932"
      },
      "source": [
        "# Code 4\n",
        "\n",
        "Z = np.zeros((4, ))\n",
        "\n",
        "Z[:3] = 1\n",
        "\n",
        "print(\"Z\", Z)"
      ],
      "execution_count": null,
      "outputs": [
        {
          "output_type": "stream",
          "text": [
            "Z [1. 1. 1. 0.]\n"
          ],
          "name": "stdout"
        }
      ]
    },
    {
      "cell_type": "markdown",
      "metadata": {
        "id": "LS4_1KbgprnT"
      },
      "source": [
        "Code 4 updates a row-matrix composed of zeros. There is more than one method to solve this exercise"
      ]
    },
    {
      "cell_type": "code",
      "metadata": {
        "id": "3-jSxVXwowCr",
        "colab": {
          "base_uri": "https://localhost:8080/"
        },
        "outputId": "65694a71-957d-4a1a-ab4c-d2c760f5afe0"
      },
      "source": [
        "# Code 5\n",
        "\n",
        "X = np.ones((2, 2)) * 2\n",
        "\n",
        "print(\"X:\\n\", X)"
      ],
      "execution_count": null,
      "outputs": [
        {
          "output_type": "stream",
          "text": [
            "X:\n",
            " [[2. 2.]\n",
            " [2. 2.]]\n"
          ],
          "name": "stdout"
        }
      ]
    },
    {
      "cell_type": "markdown",
      "metadata": {
        "id": "LdSwqEOGpunq"
      },
      "source": [
        "Code 5 establishes a 2x2 matrix composed of \"2s\". Like the previous exercise, there is more than one method to solve this"
      ]
    },
    {
      "cell_type": "code",
      "metadata": {
        "colab": {
          "base_uri": "https://localhost:8080/"
        },
        "id": "heQMgIjRov_t",
        "outputId": "70d7f53c-1ee8-4803-e1d9-3a3d29c6ac3f"
      },
      "source": [
        "# Code 6\n",
        "\n",
        "X = np.array([[1, 2], [3, 4]])\n",
        "Y = X[0, :]\n",
        "Y[1] = 10\n",
        "\n",
        "print(\"X:\\n\", X)"
      ],
      "execution_count": null,
      "outputs": [
        {
          "output_type": "stream",
          "text": [
            "X:\n",
            " [[ 1 10]\n",
            " [ 3  4]]\n"
          ],
          "name": "stdout"
        }
      ]
    },
    {
      "cell_type": "markdown",
      "metadata": {
        "id": "KwJmCWK4p-2p"
      },
      "source": [
        "Code 6 creates a matrix 2x2 and establishes a changing element {1,2} (index 0,1) through Y"
      ]
    },
    {
      "cell_type": "code",
      "metadata": {
        "colab": {
          "base_uri": "https://localhost:8080/"
        },
        "id": "srP3MOSDov9R",
        "outputId": "17b3b99e-ec49-447c-a026-fea833734fbf"
      },
      "source": [
        "# Code 7\n",
        "\n",
        "X = np.array([[1,3], [11,10]])\n",
        "\n",
        "print(np.mean(X[X > np.pi]))"
      ],
      "execution_count": null,
      "outputs": [
        {
          "output_type": "stream",
          "text": [
            "10.5\n"
          ],
          "name": "stdout"
        }
      ]
    },
    {
      "cell_type": "markdown",
      "metadata": {
        "id": "ymjtrpRaqAHc"
      },
      "source": [
        "Code 7 creates a 2x2 matrix and calculates the mean of those elements that are greater than Pi (approx 3.14), in this case 10 and 11:\n",
        "\n",
        "(10 + 11)/2 = 21/2 = 10.5"
      ]
    },
    {
      "cell_type": "code",
      "metadata": {
        "id": "WtYFOHJRp_2S",
        "colab": {
          "base_uri": "https://localhost:8080/"
        },
        "outputId": "a18549ee-79ec-4267-ac24-73dd4e0e0bc4"
      },
      "source": [
        "# Code 8\n",
        "\n",
        "data = {'animal': ['cat', 'cat', 'snake', 'dog', 'dog', 'cat', 'snake', 'cat', 'dog', 'dog'],\n",
        "        'age': [2.5, 3, 0.5, np.nan, 5, 2, 4.5, np.nan, 7, 3],\n",
        "        'visits': [ 1, 3, 2, 3, 2, 3, 1, 1, 2, 1],\n",
        "        'priority': ['yes', 'yes', 'no', 'yes', 'no', 'no', 'no', 'yes', 'no', 'no']}\n",
        "      \n",
        "labels = ['a', 'b', 'c', 'd', 'e', 'f', 'g', 'h', 'i', 'j']\n",
        "\n",
        "print(data)"
      ],
      "execution_count": null,
      "outputs": [
        {
          "output_type": "stream",
          "text": [
            "{'animal': ['cat', 'cat', 'snake', 'dog', 'dog', 'cat', 'snake', 'cat', 'dog', 'dog'], 'age': [2.5, 3, 0.5, nan, 5, 2, 4.5, nan, 7, 3], 'visits': [1, 3, 2, 3, 2, 3, 1, 1, 2, 1], 'priority': ['yes', 'yes', 'no', 'yes', 'no', 'no', 'no', 'yes', 'no', 'no']}\n"
          ],
          "name": "stdout"
        }
      ]
    },
    {
      "cell_type": "markdown",
      "metadata": {
        "id": "J6k56U_fsPWb"
      },
      "source": [
        "Code 8 creates a dictionary. The data could pertain to a Veterinary Clinic/Hospital."
      ]
    },
    {
      "cell_type": "code",
      "metadata": {
        "id": "gHhOKU3ip_dK",
        "colab": {
          "base_uri": "https://localhost:8080/",
          "height": 359
        },
        "outputId": "950a2958-72fa-4b9a-fb7c-2d0b872e25d1"
      },
      "source": [
        "# Code 9\n",
        "\n",
        "df = pd.DataFrame(data = data, index = labels)\n",
        "\n",
        "#df.sort_index(by = 'visits')\n",
        "df.sort_values(by = 'visits', ascending = False)\n"
      ],
      "execution_count": null,
      "outputs": [
        {
          "output_type": "execute_result",
          "data": {
            "text/html": [
              "<div>\n",
              "<style scoped>\n",
              "    .dataframe tbody tr th:only-of-type {\n",
              "        vertical-align: middle;\n",
              "    }\n",
              "\n",
              "    .dataframe tbody tr th {\n",
              "        vertical-align: top;\n",
              "    }\n",
              "\n",
              "    .dataframe thead th {\n",
              "        text-align: right;\n",
              "    }\n",
              "</style>\n",
              "<table border=\"1\" class=\"dataframe\">\n",
              "  <thead>\n",
              "    <tr style=\"text-align: right;\">\n",
              "      <th></th>\n",
              "      <th>animal</th>\n",
              "      <th>age</th>\n",
              "      <th>visits</th>\n",
              "      <th>priority</th>\n",
              "    </tr>\n",
              "  </thead>\n",
              "  <tbody>\n",
              "    <tr>\n",
              "      <th>b</th>\n",
              "      <td>cat</td>\n",
              "      <td>3.0</td>\n",
              "      <td>3</td>\n",
              "      <td>yes</td>\n",
              "    </tr>\n",
              "    <tr>\n",
              "      <th>d</th>\n",
              "      <td>dog</td>\n",
              "      <td>NaN</td>\n",
              "      <td>3</td>\n",
              "      <td>yes</td>\n",
              "    </tr>\n",
              "    <tr>\n",
              "      <th>f</th>\n",
              "      <td>cat</td>\n",
              "      <td>2.0</td>\n",
              "      <td>3</td>\n",
              "      <td>no</td>\n",
              "    </tr>\n",
              "    <tr>\n",
              "      <th>c</th>\n",
              "      <td>snake</td>\n",
              "      <td>0.5</td>\n",
              "      <td>2</td>\n",
              "      <td>no</td>\n",
              "    </tr>\n",
              "    <tr>\n",
              "      <th>e</th>\n",
              "      <td>dog</td>\n",
              "      <td>5.0</td>\n",
              "      <td>2</td>\n",
              "      <td>no</td>\n",
              "    </tr>\n",
              "    <tr>\n",
              "      <th>i</th>\n",
              "      <td>dog</td>\n",
              "      <td>7.0</td>\n",
              "      <td>2</td>\n",
              "      <td>no</td>\n",
              "    </tr>\n",
              "    <tr>\n",
              "      <th>a</th>\n",
              "      <td>cat</td>\n",
              "      <td>2.5</td>\n",
              "      <td>1</td>\n",
              "      <td>yes</td>\n",
              "    </tr>\n",
              "    <tr>\n",
              "      <th>g</th>\n",
              "      <td>snake</td>\n",
              "      <td>4.5</td>\n",
              "      <td>1</td>\n",
              "      <td>no</td>\n",
              "    </tr>\n",
              "    <tr>\n",
              "      <th>h</th>\n",
              "      <td>cat</td>\n",
              "      <td>NaN</td>\n",
              "      <td>1</td>\n",
              "      <td>yes</td>\n",
              "    </tr>\n",
              "    <tr>\n",
              "      <th>j</th>\n",
              "      <td>dog</td>\n",
              "      <td>3.0</td>\n",
              "      <td>1</td>\n",
              "      <td>no</td>\n",
              "    </tr>\n",
              "  </tbody>\n",
              "</table>\n",
              "</div>"
            ],
            "text/plain": [
              "  animal  age  visits priority\n",
              "b    cat  3.0       3      yes\n",
              "d    dog  NaN       3      yes\n",
              "f    cat  2.0       3       no\n",
              "c  snake  0.5       2       no\n",
              "e    dog  5.0       2       no\n",
              "i    dog  7.0       2       no\n",
              "a    cat  2.5       1      yes\n",
              "g  snake  4.5       1       no\n",
              "h    cat  NaN       1      yes\n",
              "j    dog  3.0       1       no"
            ]
          },
          "metadata": {
            "tags": []
          },
          "execution_count": 44
        }
      ]
    },
    {
      "cell_type": "markdown",
      "metadata": {
        "id": "b8tWMECvsP0R"
      },
      "source": [
        "Code 9 transforms the dictionary from Code 8 into a Pandas data frame. "
      ]
    },
    {
      "cell_type": "code",
      "metadata": {
        "id": "_OTo-kW66Ww3",
        "colab": {
          "base_uri": "https://localhost:8080/"
        },
        "outputId": "a5a0e580-211b-4052-ff46-91ef0fcfe0b9"
      },
      "source": [
        "# Code 10\n",
        "\n",
        "y_true = np.array([1, 2, 1])\n",
        "y_pred = np.array([1.1, 1.98, 1.05])\n",
        "\n",
        "eqm = np.sqrt(((y_true - y_pred) ** 2).mean())\n",
        "\n",
        "print(eqm)"
      ],
      "execution_count": null,
      "outputs": [
        {
          "output_type": "stream",
          "text": [
            "0.06557438524302006\n"
          ],
          "name": "stdout"
        }
      ]
    },
    {
      "cell_type": "markdown",
      "metadata": {
        "id": "bPswgb_esQxi"
      },
      "source": [
        "Code 10 creates two row-matrices: one composed of true values and the other based on predicted values. This is typical of a linear regression analysis."
      ]
    },
    {
      "cell_type": "code",
      "metadata": {
        "id": "8kcQdfI5sQcT",
        "colab": {
          "base_uri": "https://localhost:8080/"
        },
        "outputId": "ccb17326-7768-4af3-d217-350840ba8c4e"
      },
      "source": [
        "# Approach using Dictionary and Pandas Series\n",
        "\n",
        "a = {1:'b', 2:'c', 3:'c', 4:'b', 5:'a', 6:'a', 7:'d', 8:'d', 9:'a', 10:'a', 11:'a', 12:'b', 13:'d', 14:'b', 15:'b'}\n",
        "\n",
        "mod_2_answers = pd.Series(data = a, index = [1, 2, 3, 4, 5, 6, 7, 8, 9, 10, 11, 12, 13, 14, 15])\n",
        "\n",
        "print(mod_2_answers)"
      ],
      "execution_count": null,
      "outputs": [
        {
          "output_type": "stream",
          "text": [
            "1     b\n",
            "2     c\n",
            "3     c\n",
            "4     b\n",
            "5     a\n",
            "6     a\n",
            "7     d\n",
            "8     d\n",
            "9     a\n",
            "10    a\n",
            "11    a\n",
            "12    b\n",
            "13    d\n",
            "14    b\n",
            "15    b\n",
            "dtype: object\n"
          ],
          "name": "stdout"
        }
      ]
    },
    {
      "cell_type": "markdown",
      "metadata": {
        "id": "MVgcs5Xongrp"
      },
      "source": [
        "\n",
        "\n",
        "---\n",
        "\n",
        "\n",
        "\n",
        "---\n",
        "\n"
      ]
    },
    {
      "cell_type": "markdown",
      "metadata": {
        "id": "aoz3o-FjngeT"
      },
      "source": [
        "Author: Renan Pereira Bento"
      ]
    }
  ]
}
