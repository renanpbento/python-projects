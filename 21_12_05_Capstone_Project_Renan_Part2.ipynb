{
 "cells": [
  {
   "cell_type": "markdown",
   "metadata": {},
   "source": [
    "## Capstone Stock Market Analysis Project - Part II"
   ]
  },
  {
   "cell_type": "markdown",
   "metadata": {},
   "source": [
    "This capstone project is part of a Python course for Financial Analysis taught by Jose Portilla. As a Financial Analyst professional and Python enthusiast, I highly recommend this program.\n",
    "\n",
    "Here is the access to further information about the course and its instructor:\n",
    "- [Course: Python for Financial Analysis and Algorithmic Trading](https://www.udemy.com/course/python-for-finance-and-trading-algorithms/)\n",
    "- [Instructor: Jose Portilla](https://www.udemy.com/course/python-for-finance-and-trading-algorithms/#instructor-1)\n",
    "\n",
    "This is the second part of the study comparing Tesla, Ford and GM stock performance."
   ]
  },
  {
   "cell_type": "markdown",
   "metadata": {},
   "source": [
    "---"
   ]
  },
  {
   "cell_type": "markdown",
   "metadata": {},
   "source": [
    "*Import the various libraries you will need-you can always just come back up here or import as you go along.*"
   ]
  },
  {
   "cell_type": "code",
   "execution_count": 94,
   "metadata": {},
   "outputs": [],
   "source": [
    "import numpy as np\n",
    "import pandas as pd\n",
    "from pandas_datareader import data as wb\n",
    "import statistics as stats\n",
    "import seaborn as sns\n",
    "import matplotlib.pyplot as plt\n",
    "from matplotlib.dates import DateFormatter\n",
    "%matplotlib inline\n",
    "plt.rcParams[\"figure.figsize\"] = [16, 8]\n",
    "from datetime import date, timedelta, datetime\n",
    "from pandas.plotting import scatter_matrix\n",
    "\n",
    "import quantstats as qs\n",
    "qs.extend_pandas()\n",
    "\n",
    "from prettytable import PrettyTable\n",
    "\n",
    "import warnings \n",
    "warnings.filterwarnings('ignore')\n",
    "import emoji"
   ]
  },
  {
   "cell_type": "markdown",
   "metadata": {},
   "source": [
    "---"
   ]
  },
  {
   "cell_type": "markdown",
   "metadata": {},
   "source": [
    "#### III) Basic Financial Analysis\n",
    "\n",
    "*Now it is time to focus on a few key financial calculations. This will serve as your transition to the second half of the course. All you need to do is follow along with the instructions, this will mainly be an exercise in converting a mathematical equation or concept into code using python and pandas, something we will do often when working with quantiative data! If you feel very lost in this section, don't worry! Just go to the solutions lecture and treat it as a code-along lecture, use whatever style of learning works best for you!*"
   ]
  },
  {
   "cell_type": "markdown",
   "metadata": {},
   "source": [
    " "
   ]
  },
  {
   "cell_type": "markdown",
   "metadata": {},
   "source": [
    "*Create a new column for each dataframe called returns. This column will be calculated from the Close price column. There are two ways to do this, either a simple calculation using the .shift() method that follows the formula above, or you can also use pandas' built in pct_change method.*"
   ]
  },
  {
   "cell_type": "code",
   "execution_count": 95,
   "metadata": {},
   "outputs": [
    {
     "data": {
      "text/html": [
       "<div>\n",
       "<style scoped>\n",
       "    .dataframe tbody tr th:only-of-type {\n",
       "        vertical-align: middle;\n",
       "    }\n",
       "\n",
       "    .dataframe tbody tr th {\n",
       "        vertical-align: top;\n",
       "    }\n",
       "\n",
       "    .dataframe thead th {\n",
       "        text-align: right;\n",
       "    }\n",
       "</style>\n",
       "<table border=\"1\" class=\"dataframe\">\n",
       "  <thead>\n",
       "    <tr style=\"text-align: right;\">\n",
       "      <th></th>\n",
       "      <th>High</th>\n",
       "      <th>Low</th>\n",
       "      <th>Open</th>\n",
       "      <th>Close</th>\n",
       "      <th>Volume</th>\n",
       "      <th>Adj Close</th>\n",
       "    </tr>\n",
       "    <tr>\n",
       "      <th>Date</th>\n",
       "      <th></th>\n",
       "      <th></th>\n",
       "      <th></th>\n",
       "      <th></th>\n",
       "      <th></th>\n",
       "      <th></th>\n",
       "    </tr>\n",
       "  </thead>\n",
       "  <tbody>\n",
       "    <tr>\n",
       "      <th>2012-01-03</th>\n",
       "      <td>5.900</td>\n",
       "      <td>5.530</td>\n",
       "      <td>5.788</td>\n",
       "      <td>5.616</td>\n",
       "      <td>4640500.0</td>\n",
       "      <td>5.616</td>\n",
       "    </tr>\n",
       "    <tr>\n",
       "      <th>2012-01-04</th>\n",
       "      <td>5.734</td>\n",
       "      <td>5.500</td>\n",
       "      <td>5.642</td>\n",
       "      <td>5.542</td>\n",
       "      <td>3150500.0</td>\n",
       "      <td>5.542</td>\n",
       "    </tr>\n",
       "    <tr>\n",
       "      <th>2012-01-05</th>\n",
       "      <td>5.586</td>\n",
       "      <td>5.370</td>\n",
       "      <td>5.552</td>\n",
       "      <td>5.424</td>\n",
       "      <td>5027500.0</td>\n",
       "      <td>5.424</td>\n",
       "    </tr>\n",
       "    <tr>\n",
       "      <th>2012-01-06</th>\n",
       "      <td>5.558</td>\n",
       "      <td>5.282</td>\n",
       "      <td>5.440</td>\n",
       "      <td>5.382</td>\n",
       "      <td>4931500.0</td>\n",
       "      <td>5.382</td>\n",
       "    </tr>\n",
       "    <tr>\n",
       "      <th>2012-01-09</th>\n",
       "      <td>5.498</td>\n",
       "      <td>5.224</td>\n",
       "      <td>5.400</td>\n",
       "      <td>5.450</td>\n",
       "      <td>4485000.0</td>\n",
       "      <td>5.450</td>\n",
       "    </tr>\n",
       "  </tbody>\n",
       "</table>\n",
       "</div>"
      ],
      "text/plain": [
       "             High    Low   Open  Close     Volume  Adj Close\n",
       "Date                                                        \n",
       "2012-01-03  5.900  5.530  5.788  5.616  4640500.0      5.616\n",
       "2012-01-04  5.734  5.500  5.642  5.542  3150500.0      5.542\n",
       "2012-01-05  5.586  5.370  5.552  5.424  5027500.0      5.424\n",
       "2012-01-06  5.558  5.282  5.440  5.382  4931500.0      5.382\n",
       "2012-01-09  5.498  5.224  5.400  5.450  4485000.0      5.450"
      ]
     },
     "execution_count": 95,
     "metadata": {},
     "output_type": "execute_result"
    }
   ],
   "source": [
    "# Extracting all price columns (OHLC) of Tesla Stock (TSLA) from Yahoo Finance API\n",
    "\n",
    "d1 = date.today() - timedelta(days = 1)\n",
    "last = d1.strftime(\"%Y/%m/%d\") # Estabelecendo a data final móvel (ontem)\n",
    "\n",
    "tsla = wb.DataReader('TSLA', data_source = 'yahoo', start = '2012-01-01', end = last)\n",
    "\n",
    "tsla.head()"
   ]
  },
  {
   "cell_type": "markdown",
   "metadata": {},
   "source": [
    "  "
   ]
  },
  {
   "cell_type": "markdown",
   "metadata": {},
   "source": [
    "If two options are provided, it is appropriate to test which one is more time-efficient. Therefore, both methods of calculating daily percentage prices (pct_change and shift) will be tested. "
   ]
  },
  {
   "cell_type": "code",
   "execution_count": 109,
   "metadata": {},
   "outputs": [
    {
     "name": "stdout",
     "output_type": "stream",
     "text": [
      "Duration: 0:00:00.000959\n"
     ]
    }
   ],
   "source": [
    "start_time = datetime.now()\n",
    "\n",
    "tsla['returns'] = tsla['Close'].pct_change(1)\n",
    "\n",
    "end_time = datetime.now()\n",
    "\n",
    "print('Duration: {}'.format(end_time - start_time))"
   ]
  },
  {
   "cell_type": "code",
   "execution_count": 110,
   "metadata": {},
   "outputs": [
    {
     "name": "stdout",
     "output_type": "stream",
     "text": [
      "Duration: 0:00:00.002775\n"
     ]
    }
   ],
   "source": [
    "start_time = datetime.now()\n",
    "\n",
    "tsla['returns'] = (tsla['Close'] / tsla['Close'].shift(1) ) - 1\n",
    "\n",
    "end_time = datetime.now()\n",
    "\n",
    "print('Duration: {}'.format(end_time - start_time))"
   ]
  },
  {
   "cell_type": "markdown",
   "metadata": {},
   "source": [
    "The difference might be almost irrelevant, but it helps to decide which method will be used. In this case, pct_change will be applied to the dataframe of each company."
   ]
  },
  {
   "cell_type": "code",
   "execution_count": 98,
   "metadata": {},
   "outputs": [
    {
     "data": {
      "text/html": [
       "<div>\n",
       "<style scoped>\n",
       "    .dataframe tbody tr th:only-of-type {\n",
       "        vertical-align: middle;\n",
       "    }\n",
       "\n",
       "    .dataframe tbody tr th {\n",
       "        vertical-align: top;\n",
       "    }\n",
       "\n",
       "    .dataframe thead th {\n",
       "        text-align: right;\n",
       "    }\n",
       "</style>\n",
       "<table border=\"1\" class=\"dataframe\">\n",
       "  <thead>\n",
       "    <tr style=\"text-align: right;\">\n",
       "      <th></th>\n",
       "      <th>High</th>\n",
       "      <th>Low</th>\n",
       "      <th>Open</th>\n",
       "      <th>Close</th>\n",
       "      <th>Volume</th>\n",
       "      <th>Adj Close</th>\n",
       "      <th>returns</th>\n",
       "    </tr>\n",
       "    <tr>\n",
       "      <th>Date</th>\n",
       "      <th></th>\n",
       "      <th></th>\n",
       "      <th></th>\n",
       "      <th></th>\n",
       "      <th></th>\n",
       "      <th></th>\n",
       "      <th></th>\n",
       "    </tr>\n",
       "  </thead>\n",
       "  <tbody>\n",
       "    <tr>\n",
       "      <th>2012-01-03</th>\n",
       "      <td>5.900</td>\n",
       "      <td>5.530</td>\n",
       "      <td>5.788</td>\n",
       "      <td>5.616</td>\n",
       "      <td>4640500.0</td>\n",
       "      <td>5.616</td>\n",
       "      <td>0.000000</td>\n",
       "    </tr>\n",
       "    <tr>\n",
       "      <th>2012-01-04</th>\n",
       "      <td>5.734</td>\n",
       "      <td>5.500</td>\n",
       "      <td>5.642</td>\n",
       "      <td>5.542</td>\n",
       "      <td>3150500.0</td>\n",
       "      <td>5.542</td>\n",
       "      <td>-0.013177</td>\n",
       "    </tr>\n",
       "    <tr>\n",
       "      <th>2012-01-05</th>\n",
       "      <td>5.586</td>\n",
       "      <td>5.370</td>\n",
       "      <td>5.552</td>\n",
       "      <td>5.424</td>\n",
       "      <td>5027500.0</td>\n",
       "      <td>5.424</td>\n",
       "      <td>-0.021292</td>\n",
       "    </tr>\n",
       "    <tr>\n",
       "      <th>2012-01-06</th>\n",
       "      <td>5.558</td>\n",
       "      <td>5.282</td>\n",
       "      <td>5.440</td>\n",
       "      <td>5.382</td>\n",
       "      <td>4931500.0</td>\n",
       "      <td>5.382</td>\n",
       "      <td>-0.007743</td>\n",
       "    </tr>\n",
       "    <tr>\n",
       "      <th>2012-01-09</th>\n",
       "      <td>5.498</td>\n",
       "      <td>5.224</td>\n",
       "      <td>5.400</td>\n",
       "      <td>5.450</td>\n",
       "      <td>4485000.0</td>\n",
       "      <td>5.450</td>\n",
       "      <td>0.012635</td>\n",
       "    </tr>\n",
       "  </tbody>\n",
       "</table>\n",
       "</div>"
      ],
      "text/plain": [
       "             High    Low   Open  Close     Volume  Adj Close   returns\n",
       "Date                                                                  \n",
       "2012-01-03  5.900  5.530  5.788  5.616  4640500.0      5.616  0.000000\n",
       "2012-01-04  5.734  5.500  5.642  5.542  3150500.0      5.542 -0.013177\n",
       "2012-01-05  5.586  5.370  5.552  5.424  5027500.0      5.424 -0.021292\n",
       "2012-01-06  5.558  5.282  5.440  5.382  4931500.0      5.382 -0.007743\n",
       "2012-01-09  5.498  5.224  5.400  5.450  4485000.0      5.450  0.012635"
      ]
     },
     "execution_count": 98,
     "metadata": {},
     "output_type": "execute_result"
    }
   ],
   "source": [
    "tsla['returns'] = tsla['Close'].pct_change(1)\n",
    "tsla['returns'].iloc[0] = 0 # Changing the NaN of the first row into 0\n",
    "\n",
    "tsla.head()"
   ]
  },
  {
   "cell_type": "code",
   "execution_count": 99,
   "metadata": {},
   "outputs": [
    {
     "data": {
      "text/html": [
       "<div>\n",
       "<style scoped>\n",
       "    .dataframe tbody tr th:only-of-type {\n",
       "        vertical-align: middle;\n",
       "    }\n",
       "\n",
       "    .dataframe tbody tr th {\n",
       "        vertical-align: top;\n",
       "    }\n",
       "\n",
       "    .dataframe thead th {\n",
       "        text-align: right;\n",
       "    }\n",
       "</style>\n",
       "<table border=\"1\" class=\"dataframe\">\n",
       "  <thead>\n",
       "    <tr style=\"text-align: right;\">\n",
       "      <th></th>\n",
       "      <th>High</th>\n",
       "      <th>Low</th>\n",
       "      <th>Open</th>\n",
       "      <th>Close</th>\n",
       "      <th>Volume</th>\n",
       "      <th>Adj Close</th>\n",
       "      <th>returns</th>\n",
       "    </tr>\n",
       "    <tr>\n",
       "      <th>Date</th>\n",
       "      <th></th>\n",
       "      <th></th>\n",
       "      <th></th>\n",
       "      <th></th>\n",
       "      <th></th>\n",
       "      <th></th>\n",
       "      <th></th>\n",
       "    </tr>\n",
       "  </thead>\n",
       "  <tbody>\n",
       "    <tr>\n",
       "      <th>2012-01-03</th>\n",
       "      <td>11.25</td>\n",
       "      <td>10.99</td>\n",
       "      <td>11.00</td>\n",
       "      <td>11.13</td>\n",
       "      <td>45709900.0</td>\n",
       "      <td>7.506941</td>\n",
       "      <td>0.000000</td>\n",
       "    </tr>\n",
       "    <tr>\n",
       "      <th>2012-01-04</th>\n",
       "      <td>11.53</td>\n",
       "      <td>11.07</td>\n",
       "      <td>11.15</td>\n",
       "      <td>11.30</td>\n",
       "      <td>79725200.0</td>\n",
       "      <td>7.621602</td>\n",
       "      <td>0.015274</td>\n",
       "    </tr>\n",
       "    <tr>\n",
       "      <th>2012-01-05</th>\n",
       "      <td>11.63</td>\n",
       "      <td>11.24</td>\n",
       "      <td>11.33</td>\n",
       "      <td>11.59</td>\n",
       "      <td>67877500.0</td>\n",
       "      <td>7.817202</td>\n",
       "      <td>0.025664</td>\n",
       "    </tr>\n",
       "    <tr>\n",
       "      <th>2012-01-06</th>\n",
       "      <td>11.80</td>\n",
       "      <td>11.52</td>\n",
       "      <td>11.74</td>\n",
       "      <td>11.71</td>\n",
       "      <td>59840700.0</td>\n",
       "      <td>7.898136</td>\n",
       "      <td>0.010354</td>\n",
       "    </tr>\n",
       "    <tr>\n",
       "      <th>2012-01-09</th>\n",
       "      <td>11.95</td>\n",
       "      <td>11.70</td>\n",
       "      <td>11.83</td>\n",
       "      <td>11.80</td>\n",
       "      <td>53981500.0</td>\n",
       "      <td>7.958840</td>\n",
       "      <td>0.007686</td>\n",
       "    </tr>\n",
       "  </tbody>\n",
       "</table>\n",
       "</div>"
      ],
      "text/plain": [
       "             High    Low   Open  Close      Volume  Adj Close   returns\n",
       "Date                                                                   \n",
       "2012-01-03  11.25  10.99  11.00  11.13  45709900.0   7.506941  0.000000\n",
       "2012-01-04  11.53  11.07  11.15  11.30  79725200.0   7.621602  0.015274\n",
       "2012-01-05  11.63  11.24  11.33  11.59  67877500.0   7.817202  0.025664\n",
       "2012-01-06  11.80  11.52  11.74  11.71  59840700.0   7.898136  0.010354\n",
       "2012-01-09  11.95  11.70  11.83  11.80  53981500.0   7.958840  0.007686"
      ]
     },
     "execution_count": 99,
     "metadata": {},
     "output_type": "execute_result"
    }
   ],
   "source": [
    "# Ford\n",
    "ford = wb.DataReader('F', data_source = 'yahoo', start = '2012-01-01', end = last)\n",
    "\n",
    "ford['returns'] = ford['Close'].pct_change(1)\n",
    "ford['returns'].iloc[0] = 0\n",
    "\n",
    "ford.head()"
   ]
  },
  {
   "cell_type": "code",
   "execution_count": 100,
   "metadata": {},
   "outputs": [
    {
     "data": {
      "text/html": [
       "<div>\n",
       "<style scoped>\n",
       "    .dataframe tbody tr th:only-of-type {\n",
       "        vertical-align: middle;\n",
       "    }\n",
       "\n",
       "    .dataframe tbody tr th {\n",
       "        vertical-align: top;\n",
       "    }\n",
       "\n",
       "    .dataframe thead th {\n",
       "        text-align: right;\n",
       "    }\n",
       "</style>\n",
       "<table border=\"1\" class=\"dataframe\">\n",
       "  <thead>\n",
       "    <tr style=\"text-align: right;\">\n",
       "      <th></th>\n",
       "      <th>High</th>\n",
       "      <th>Low</th>\n",
       "      <th>Open</th>\n",
       "      <th>Close</th>\n",
       "      <th>Volume</th>\n",
       "      <th>Adj Close</th>\n",
       "      <th>returns</th>\n",
       "    </tr>\n",
       "    <tr>\n",
       "      <th>Date</th>\n",
       "      <th></th>\n",
       "      <th></th>\n",
       "      <th></th>\n",
       "      <th></th>\n",
       "      <th></th>\n",
       "      <th></th>\n",
       "      <th></th>\n",
       "    </tr>\n",
       "  </thead>\n",
       "  <tbody>\n",
       "    <tr>\n",
       "      <th>2012-01-03</th>\n",
       "      <td>21.180000</td>\n",
       "      <td>20.750000</td>\n",
       "      <td>20.830000</td>\n",
       "      <td>21.049999</td>\n",
       "      <td>9321300.0</td>\n",
       "      <td>16.269407</td>\n",
       "      <td>0.000000</td>\n",
       "    </tr>\n",
       "    <tr>\n",
       "      <th>2012-01-04</th>\n",
       "      <td>21.370001</td>\n",
       "      <td>20.750000</td>\n",
       "      <td>21.049999</td>\n",
       "      <td>21.150000</td>\n",
       "      <td>7856700.0</td>\n",
       "      <td>16.346701</td>\n",
       "      <td>0.004751</td>\n",
       "    </tr>\n",
       "    <tr>\n",
       "      <th>2012-01-05</th>\n",
       "      <td>22.290001</td>\n",
       "      <td>20.959999</td>\n",
       "      <td>21.100000</td>\n",
       "      <td>22.170000</td>\n",
       "      <td>17880600.0</td>\n",
       "      <td>17.135059</td>\n",
       "      <td>0.048227</td>\n",
       "    </tr>\n",
       "    <tr>\n",
       "      <th>2012-01-06</th>\n",
       "      <td>23.030001</td>\n",
       "      <td>22.240000</td>\n",
       "      <td>22.260000</td>\n",
       "      <td>22.920000</td>\n",
       "      <td>18234500.0</td>\n",
       "      <td>17.714724</td>\n",
       "      <td>0.033829</td>\n",
       "    </tr>\n",
       "    <tr>\n",
       "      <th>2012-01-09</th>\n",
       "      <td>23.430000</td>\n",
       "      <td>22.700001</td>\n",
       "      <td>23.200001</td>\n",
       "      <td>22.840000</td>\n",
       "      <td>12084500.0</td>\n",
       "      <td>17.652889</td>\n",
       "      <td>-0.003490</td>\n",
       "    </tr>\n",
       "  </tbody>\n",
       "</table>\n",
       "</div>"
      ],
      "text/plain": [
       "                 High        Low       Open      Close      Volume  Adj Close  \\\n",
       "Date                                                                            \n",
       "2012-01-03  21.180000  20.750000  20.830000  21.049999   9321300.0  16.269407   \n",
       "2012-01-04  21.370001  20.750000  21.049999  21.150000   7856700.0  16.346701   \n",
       "2012-01-05  22.290001  20.959999  21.100000  22.170000  17880600.0  17.135059   \n",
       "2012-01-06  23.030001  22.240000  22.260000  22.920000  18234500.0  17.714724   \n",
       "2012-01-09  23.430000  22.700001  23.200001  22.840000  12084500.0  17.652889   \n",
       "\n",
       "             returns  \n",
       "Date                  \n",
       "2012-01-03  0.000000  \n",
       "2012-01-04  0.004751  \n",
       "2012-01-05  0.048227  \n",
       "2012-01-06  0.033829  \n",
       "2012-01-09 -0.003490  "
      ]
     },
     "execution_count": 100,
     "metadata": {},
     "output_type": "execute_result"
    }
   ],
   "source": [
    "# Finally, General Motos (GM)\n",
    "gm = wb.DataReader('GM', data_source = 'yahoo', start = '2012-01-01', end = last)\n",
    "\n",
    "gm['returns'] = gm['Close'].pct_change(1)\n",
    "gm['returns'].iloc[0] = 0                   \n",
    "                   \n",
    "gm.head()"
   ]
  },
  {
   "cell_type": "markdown",
   "metadata": {},
   "source": [
    "---"
   ]
  },
  {
   "cell_type": "markdown",
   "metadata": {},
   "source": [
    "*Now plot a histogram of each companies returns. Either do them separately, or stack them on top of each other. Which stock is the most \"volatile\"?*"
   ]
  },
  {
   "cell_type": "code",
   "execution_count": 101,
   "metadata": {},
   "outputs": [],
   "source": [
    "# Establishing colors that will be presented for each stock according to the brand\n",
    "\n",
    "tesla_color = '#e82127'\n",
    "ford_color = '#5c93cc'\n",
    "gm_color = 'gray' # Different from Part I aiming to properly separate Ford and GM visual data "
   ]
  },
  {
   "cell_type": "code",
   "execution_count": 102,
   "metadata": {},
   "outputs": [
    {
     "data": {
      "image/png": "[encoded data removed]",
      "text/plain": [
       "<Figure size 1152x576 with 1 Axes>"
      ]
     },
     "metadata": {
      "needs_background": "light"
     },
     "output_type": "display_data"
    }
   ],
   "source": [
    "# Stacked histogram of return distributions for each stock\n",
    "tsla['returns'].hist(bins = 100, label = 'Tesla', alpha = 0.5, color = tesla_color)\n",
    "ford['returns'].hist(bins = 100, label = 'Ford', alpha = 0.5, color = ford_color)\n",
    "gm['returns'].hist(bins = 100, label = 'GM', alpha = 0.5, color = gm_color)\n",
    "\n",
    "plt.title('Histogram of Returns', size = 20)\n",
    "plt.legend(fontsize = 14)\n",
    "plt.yticks(fontsize = 14)\n",
    "plt.grid(False)\n",
    "\n",
    "plt.show()"
   ]
  },
  {
   "cell_type": "markdown",
   "metadata": {},
   "source": [
    "Tesla has a wider plot, indicating higher dispersion of results around the mean. Ford and GM returns are more centered around the average of the values, which also means that both stock's returns have **fatter tails**.\n",
    "\n",
    "The idea is that extreme results in Ford or GM have more weight. This concept could be assessed by the **Kurtosis**, which is a measure of the \"tailedness\" of a distribution.\n",
    "\n",
    "The actual result provided by the function kurt() is the excess kurtosis, which can assume the following profiles:\n",
    "- Mesokurtic (Kurtosis = 0): normal distribution;\n",
    "- Leptokurtic (Kurtosis > 0): fat tails\n",
    "- Platykurtic (Kurtosis < 0): thin tails"
   ]
  },
  {
   "cell_type": "code",
   "execution_count": 103,
   "metadata": {},
   "outputs": [
    {
     "name": "stdout",
     "output_type": "stream",
     "text": [
      " Tesla Kurtosis: 6.16 \n",
      " Ford Kurtosis: 12.74 \n",
      " GM Kurtosis: 9.95 \n",
      "\n"
     ]
    }
   ],
   "source": [
    "# Calculating Kurtosis for each stock\n",
    "\n",
    "tsla_kurt = round(tsla['returns'].kurt(), 2)\n",
    "ford_kurt = round(ford['returns'].kurt(), 2)\n",
    "gm_kurt = round(gm['returns'].kurt(), 2)\n",
    "\n",
    "print(\" Tesla Kurtosis: {}\".format(tsla_kurt), '\\n',\n",
    "     \"Ford Kurtosis: {}\".format(ford_kurt), '\\n',\n",
    "     \"GM Kurtosis: {}\".format(gm_kurt), '\\n')"
   ]
  },
  {
   "cell_type": "markdown",
   "metadata": {},
   "source": [
    "Tesla's characteristic of wider-spread results makes its tails \"thinner\", i.e extreme events on its stock prices have a lower valence when compared to Ford and GM. \n",
    "\n",
    "Kurtosis is just one perspective of the multifaceted risk assessment. Tesla's stocks have, indeed, higher dispersion (variance and standard deviation) but Ford and GM have fatter tails and, therefore, higher tail risk (losses due to rare events).  "
   ]
  },
  {
   "cell_type": "markdown",
   "metadata": {},
   "source": [
    "---"
   ]
  },
  {
   "cell_type": "markdown",
   "metadata": {},
   "source": [
    "*Try also creating some box plots comparing the returns.*"
   ]
  },
  {
   "cell_type": "code",
   "execution_count": 104,
   "metadata": {},
   "outputs": [
    {
     "data": {
      "image/png": "[encoded data removed]",
      "text/plain": [
       "<Figure size 1152x576 with 1 Axes>"
      ]
     },
     "metadata": {
      "needs_background": "light"
     },
     "output_type": "display_data"
    }
   ],
   "source": [
    "box_df = pd.concat([tsla['returns'], gm['returns'], ford['returns']], axis=1)\n",
    "box_df.columns = ['Tesla Returns',' GM Returns','Ford Returns']\n",
    "box_df.plot(kind='box',colormap='jet')\n",
    "\n",
    "plt.title('Boxplot of Returns', size = 20)\n",
    "plt.yticks(fontsize = 14)\n",
    "plt.grid(False)\n",
    "\n",
    "plt.show()"
   ]
  },
  {
   "cell_type": "markdown",
   "metadata": {},
   "source": [
    "---"
   ]
  },
  {
   "cell_type": "markdown",
   "metadata": {},
   "source": [
    "*Create a cumulative daily return column for each car company's dataframe.*"
   ]
  },
  {
   "cell_type": "code",
   "execution_count": 105,
   "metadata": {},
   "outputs": [
    {
     "data": {
      "text/html": [
       "<div>\n",
       "<style scoped>\n",
       "    .dataframe tbody tr th:only-of-type {\n",
       "        vertical-align: middle;\n",
       "    }\n",
       "\n",
       "    .dataframe tbody tr th {\n",
       "        vertical-align: top;\n",
       "    }\n",
       "\n",
       "    .dataframe thead th {\n",
       "        text-align: right;\n",
       "    }\n",
       "</style>\n",
       "<table border=\"1\" class=\"dataframe\">\n",
       "  <thead>\n",
       "    <tr style=\"text-align: right;\">\n",
       "      <th></th>\n",
       "      <th>High</th>\n",
       "      <th>Low</th>\n",
       "      <th>Open</th>\n",
       "      <th>Close</th>\n",
       "      <th>Volume</th>\n",
       "      <th>Adj Close</th>\n",
       "      <th>returns</th>\n",
       "      <th>Cumulative Return</th>\n",
       "    </tr>\n",
       "    <tr>\n",
       "      <th>Date</th>\n",
       "      <th></th>\n",
       "      <th></th>\n",
       "      <th></th>\n",
       "      <th></th>\n",
       "      <th></th>\n",
       "      <th></th>\n",
       "      <th></th>\n",
       "      <th></th>\n",
       "    </tr>\n",
       "  </thead>\n",
       "  <tbody>\n",
       "    <tr>\n",
       "      <th>2012-01-03</th>\n",
       "      <td>5.900</td>\n",
       "      <td>5.530</td>\n",
       "      <td>5.788</td>\n",
       "      <td>5.616</td>\n",
       "      <td>4640500.0</td>\n",
       "      <td>5.616</td>\n",
       "      <td>0.000000</td>\n",
       "      <td>0.000000</td>\n",
       "    </tr>\n",
       "    <tr>\n",
       "      <th>2012-01-04</th>\n",
       "      <td>5.734</td>\n",
       "      <td>5.500</td>\n",
       "      <td>5.642</td>\n",
       "      <td>5.542</td>\n",
       "      <td>3150500.0</td>\n",
       "      <td>5.542</td>\n",
       "      <td>-0.013177</td>\n",
       "      <td>0.986823</td>\n",
       "    </tr>\n",
       "    <tr>\n",
       "      <th>2012-01-05</th>\n",
       "      <td>5.586</td>\n",
       "      <td>5.370</td>\n",
       "      <td>5.552</td>\n",
       "      <td>5.424</td>\n",
       "      <td>5027500.0</td>\n",
       "      <td>5.424</td>\n",
       "      <td>-0.021292</td>\n",
       "      <td>0.965812</td>\n",
       "    </tr>\n",
       "    <tr>\n",
       "      <th>2012-01-06</th>\n",
       "      <td>5.558</td>\n",
       "      <td>5.282</td>\n",
       "      <td>5.440</td>\n",
       "      <td>5.382</td>\n",
       "      <td>4931500.0</td>\n",
       "      <td>5.382</td>\n",
       "      <td>-0.007743</td>\n",
       "      <td>0.958333</td>\n",
       "    </tr>\n",
       "    <tr>\n",
       "      <th>2012-01-09</th>\n",
       "      <td>5.498</td>\n",
       "      <td>5.224</td>\n",
       "      <td>5.400</td>\n",
       "      <td>5.450</td>\n",
       "      <td>4485000.0</td>\n",
       "      <td>5.450</td>\n",
       "      <td>0.012635</td>\n",
       "      <td>0.970442</td>\n",
       "    </tr>\n",
       "  </tbody>\n",
       "</table>\n",
       "</div>"
      ],
      "text/plain": [
       "             High    Low   Open  Close     Volume  Adj Close   returns  \\\n",
       "Date                                                                     \n",
       "2012-01-03  5.900  5.530  5.788  5.616  4640500.0      5.616  0.000000   \n",
       "2012-01-04  5.734  5.500  5.642  5.542  3150500.0      5.542 -0.013177   \n",
       "2012-01-05  5.586  5.370  5.552  5.424  5027500.0      5.424 -0.021292   \n",
       "2012-01-06  5.558  5.282  5.440  5.382  4931500.0      5.382 -0.007743   \n",
       "2012-01-09  5.498  5.224  5.400  5.450  4485000.0      5.450  0.012635   \n",
       "\n",
       "            Cumulative Return  \n",
       "Date                           \n",
       "2012-01-03           0.000000  \n",
       "2012-01-04           0.986823  \n",
       "2012-01-05           0.965812  \n",
       "2012-01-06           0.958333  \n",
       "2012-01-09           0.970442  "
      ]
     },
     "execution_count": 105,
     "metadata": {},
     "output_type": "execute_result"
    }
   ],
   "source": [
    "tsla['Cumulative Return'] = (1 + tsla['returns']).cumprod()\n",
    "tsla['Cumulative Return'].iloc[0] = 0\n",
    "\n",
    "tsla.head()"
   ]
  },
  {
   "cell_type": "code",
   "execution_count": 106,
   "metadata": {},
   "outputs": [
    {
     "data": {
      "text/html": [
       "<div>\n",
       "<style scoped>\n",
       "    .dataframe tbody tr th:only-of-type {\n",
       "        vertical-align: middle;\n",
       "    }\n",
       "\n",
       "    .dataframe tbody tr th {\n",
       "        vertical-align: top;\n",
       "    }\n",
       "\n",
       "    .dataframe thead th {\n",
       "        text-align: right;\n",
       "    }\n",
       "</style>\n",
       "<table border=\"1\" class=\"dataframe\">\n",
       "  <thead>\n",
       "    <tr style=\"text-align: right;\">\n",
       "      <th></th>\n",
       "      <th>High</th>\n",
       "      <th>Low</th>\n",
       "      <th>Open</th>\n",
       "      <th>Close</th>\n",
       "      <th>Volume</th>\n",
       "      <th>Adj Close</th>\n",
       "      <th>returns</th>\n",
       "      <th>Cumulative Return</th>\n",
       "    </tr>\n",
       "    <tr>\n",
       "      <th>Date</th>\n",
       "      <th></th>\n",
       "      <th></th>\n",
       "      <th></th>\n",
       "      <th></th>\n",
       "      <th></th>\n",
       "      <th></th>\n",
       "      <th></th>\n",
       "      <th></th>\n",
       "    </tr>\n",
       "  </thead>\n",
       "  <tbody>\n",
       "    <tr>\n",
       "      <th>2012-01-03</th>\n",
       "      <td>11.25</td>\n",
       "      <td>10.99</td>\n",
       "      <td>11.00</td>\n",
       "      <td>11.13</td>\n",
       "      <td>45709900.0</td>\n",
       "      <td>7.506941</td>\n",
       "      <td>0.000000</td>\n",
       "      <td>0.000000</td>\n",
       "    </tr>\n",
       "    <tr>\n",
       "      <th>2012-01-04</th>\n",
       "      <td>11.53</td>\n",
       "      <td>11.07</td>\n",
       "      <td>11.15</td>\n",
       "      <td>11.30</td>\n",
       "      <td>79725200.0</td>\n",
       "      <td>7.621602</td>\n",
       "      <td>0.015274</td>\n",
       "      <td>1.015274</td>\n",
       "    </tr>\n",
       "    <tr>\n",
       "      <th>2012-01-05</th>\n",
       "      <td>11.63</td>\n",
       "      <td>11.24</td>\n",
       "      <td>11.33</td>\n",
       "      <td>11.59</td>\n",
       "      <td>67877500.0</td>\n",
       "      <td>7.817202</td>\n",
       "      <td>0.025664</td>\n",
       "      <td>1.041330</td>\n",
       "    </tr>\n",
       "    <tr>\n",
       "      <th>2012-01-06</th>\n",
       "      <td>11.80</td>\n",
       "      <td>11.52</td>\n",
       "      <td>11.74</td>\n",
       "      <td>11.71</td>\n",
       "      <td>59840700.0</td>\n",
       "      <td>7.898136</td>\n",
       "      <td>0.010354</td>\n",
       "      <td>1.052111</td>\n",
       "    </tr>\n",
       "    <tr>\n",
       "      <th>2012-01-09</th>\n",
       "      <td>11.95</td>\n",
       "      <td>11.70</td>\n",
       "      <td>11.83</td>\n",
       "      <td>11.80</td>\n",
       "      <td>53981500.0</td>\n",
       "      <td>7.958840</td>\n",
       "      <td>0.007686</td>\n",
       "      <td>1.060198</td>\n",
       "    </tr>\n",
       "  </tbody>\n",
       "</table>\n",
       "</div>"
      ],
      "text/plain": [
       "             High    Low   Open  Close      Volume  Adj Close   returns  \\\n",
       "Date                                                                      \n",
       "2012-01-03  11.25  10.99  11.00  11.13  45709900.0   7.506941  0.000000   \n",
       "2012-01-04  11.53  11.07  11.15  11.30  79725200.0   7.621602  0.015274   \n",
       "2012-01-05  11.63  11.24  11.33  11.59  67877500.0   7.817202  0.025664   \n",
       "2012-01-06  11.80  11.52  11.74  11.71  59840700.0   7.898136  0.010354   \n",
       "2012-01-09  11.95  11.70  11.83  11.80  53981500.0   7.958840  0.007686   \n",
       "\n",
       "            Cumulative Return  \n",
       "Date                           \n",
       "2012-01-03           0.000000  \n",
       "2012-01-04           1.015274  \n",
       "2012-01-05           1.041330  \n",
       "2012-01-06           1.052111  \n",
       "2012-01-09           1.060198  "
      ]
     },
     "execution_count": 106,
     "metadata": {},
     "output_type": "execute_result"
    }
   ],
   "source": [
    "ford['Cumulative Return'] = (1 + ford['returns']).cumprod()\n",
    "ford['Cumulative Return'].iloc[0] = 0\n",
    "\n",
    "ford.head()"
   ]
  },
  {
   "cell_type": "code",
   "execution_count": 107,
   "metadata": {},
   "outputs": [
    {
     "data": {
      "text/html": [
       "<div>\n",
       "<style scoped>\n",
       "    .dataframe tbody tr th:only-of-type {\n",
       "        vertical-align: middle;\n",
       "    }\n",
       "\n",
       "    .dataframe tbody tr th {\n",
       "        vertical-align: top;\n",
       "    }\n",
       "\n",
       "    .dataframe thead th {\n",
       "        text-align: right;\n",
       "    }\n",
       "</style>\n",
       "<table border=\"1\" class=\"dataframe\">\n",
       "  <thead>\n",
       "    <tr style=\"text-align: right;\">\n",
       "      <th></th>\n",
       "      <th>High</th>\n",
       "      <th>Low</th>\n",
       "      <th>Open</th>\n",
       "      <th>Close</th>\n",
       "      <th>Volume</th>\n",
       "      <th>Adj Close</th>\n",
       "      <th>returns</th>\n",
       "      <th>Cumulative Return</th>\n",
       "    </tr>\n",
       "    <tr>\n",
       "      <th>Date</th>\n",
       "      <th></th>\n",
       "      <th></th>\n",
       "      <th></th>\n",
       "      <th></th>\n",
       "      <th></th>\n",
       "      <th></th>\n",
       "      <th></th>\n",
       "      <th></th>\n",
       "    </tr>\n",
       "  </thead>\n",
       "  <tbody>\n",
       "    <tr>\n",
       "      <th>2012-01-03</th>\n",
       "      <td>21.180000</td>\n",
       "      <td>20.750000</td>\n",
       "      <td>20.830000</td>\n",
       "      <td>21.049999</td>\n",
       "      <td>9321300.0</td>\n",
       "      <td>16.269407</td>\n",
       "      <td>0.000000</td>\n",
       "      <td>0.000000</td>\n",
       "    </tr>\n",
       "    <tr>\n",
       "      <th>2012-01-04</th>\n",
       "      <td>21.370001</td>\n",
       "      <td>20.750000</td>\n",
       "      <td>21.049999</td>\n",
       "      <td>21.150000</td>\n",
       "      <td>7856700.0</td>\n",
       "      <td>16.346701</td>\n",
       "      <td>0.004751</td>\n",
       "      <td>1.004751</td>\n",
       "    </tr>\n",
       "    <tr>\n",
       "      <th>2012-01-05</th>\n",
       "      <td>22.290001</td>\n",
       "      <td>20.959999</td>\n",
       "      <td>21.100000</td>\n",
       "      <td>22.170000</td>\n",
       "      <td>17880600.0</td>\n",
       "      <td>17.135059</td>\n",
       "      <td>0.048227</td>\n",
       "      <td>1.053207</td>\n",
       "    </tr>\n",
       "    <tr>\n",
       "      <th>2012-01-06</th>\n",
       "      <td>23.030001</td>\n",
       "      <td>22.240000</td>\n",
       "      <td>22.260000</td>\n",
       "      <td>22.920000</td>\n",
       "      <td>18234500.0</td>\n",
       "      <td>17.714724</td>\n",
       "      <td>0.033829</td>\n",
       "      <td>1.088836</td>\n",
       "    </tr>\n",
       "    <tr>\n",
       "      <th>2012-01-09</th>\n",
       "      <td>23.430000</td>\n",
       "      <td>22.700001</td>\n",
       "      <td>23.200001</td>\n",
       "      <td>22.840000</td>\n",
       "      <td>12084500.0</td>\n",
       "      <td>17.652889</td>\n",
       "      <td>-0.003490</td>\n",
       "      <td>1.085036</td>\n",
       "    </tr>\n",
       "  </tbody>\n",
       "</table>\n",
       "</div>"
      ],
      "text/plain": [
       "                 High        Low       Open      Close      Volume  Adj Close  \\\n",
       "Date                                                                            \n",
       "2012-01-03  21.180000  20.750000  20.830000  21.049999   9321300.0  16.269407   \n",
       "2012-01-04  21.370001  20.750000  21.049999  21.150000   7856700.0  16.346701   \n",
       "2012-01-05  22.290001  20.959999  21.100000  22.170000  17880600.0  17.135059   \n",
       "2012-01-06  23.030001  22.240000  22.260000  22.920000  18234500.0  17.714724   \n",
       "2012-01-09  23.430000  22.700001  23.200001  22.840000  12084500.0  17.652889   \n",
       "\n",
       "             returns  Cumulative Return  \n",
       "Date                                     \n",
       "2012-01-03  0.000000           0.000000  \n",
       "2012-01-04  0.004751           1.004751  \n",
       "2012-01-05  0.048227           1.053207  \n",
       "2012-01-06  0.033829           1.088836  \n",
       "2012-01-09 -0.003490           1.085036  "
      ]
     },
     "execution_count": 107,
     "metadata": {},
     "output_type": "execute_result"
    }
   ],
   "source": [
    "gm['Cumulative Return'] = (1 + gm['returns']).cumprod()\n",
    "gm['Cumulative Return'].iloc[0] = 0\n",
    "\n",
    "gm.head()"
   ]
  },
  {
   "cell_type": "code",
   "execution_count": 108,
   "metadata": {},
   "outputs": [
    {
     "data": {
      "image/png": "[encoded data removed]",
      "text/plain": [
       "<Figure size 1152x576 with 1 Axes>"
      ]
     },
     "metadata": {
      "needs_background": "light"
     },
     "output_type": "display_data"
    }
   ],
   "source": [
    "tsla['Cumulative Return'].plot(label = 'Tesla', color = tesla_color)\n",
    "ford['Cumulative Return'].plot(label = 'Ford', color = ford_color)\n",
    "gm['Cumulative Return'].plot(label = 'GM', color = gm_color)\n",
    "\n",
    "plt.title('Cumulative Return', size = 20)\n",
    "plt.legend(fontsize = 14)\n",
    "plt.yticks(fontsize = 14)\n",
    "plt.grid(False)\n",
    "\n",
    "plt.show()"
   ]
  },
  {
   "cell_type": "markdown",
   "metadata": {},
   "source": [
    "---"
   ]
  },
  {
   "cell_type": "markdown",
   "metadata": {},
   "source": [
    "*That is it for this very basic analysis, this concludes this half of the course, which focuses much more on learning the tools of the trade. The second half of the course is where we really dive into functionality designed for time series, quantitative analysis, algorithmic trading, and much more!*"
   ]
  },
  {
   "cell_type": "markdown",
   "metadata": {},
   "source": [
    "---"
   ]
  },
  {
   "cell_type": "markdown",
   "metadata": {},
   "source": [
    "#### Author: Renan Pereira Bento\n",
    "\n",
    "[GitHub Profile](https://github.com/renanpbento)\n",
    "\n",
    "*Thanks for reading this code. I appreciate comments and feedbacks regarding this project.*"
   ]
  }
 ],
 "metadata": {
  "kernelspec": {
   "display_name": "Python 3",
   "language": "python",
   "name": "python3"
  },
  "language_info": {
   "codemirror_mode": {
    "name": "ipython",
    "version": 3
   },
   "file_extension": ".py",
   "mimetype": "text/x-python",
   "name": "python",
   "nbconvert_exporter": "python",
   "pygments_lexer": "ipython3",
   "version": "3.8.8"
  }
 },
 "nbformat": 4,
 "nbformat_minor": 4
}
